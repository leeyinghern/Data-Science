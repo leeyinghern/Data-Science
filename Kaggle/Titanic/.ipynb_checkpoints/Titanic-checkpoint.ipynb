{
 "cells": [
  {
   "cell_type": "code",
   "execution_count": 1,
   "id": "1379d62c",
   "metadata": {},
   "outputs": [],
   "source": [
    "#IMPORT THE LIBRARIES....\n",
    "import numpy as np # linear algebra....\n",
    "import pandas as pd # data processing, CSV file I/O (e.g. pd.read_csv)....\n",
    "from matplotlib import pyplot as plt #Visualization of the data....\n",
    "import warnings\n",
    "warnings.filterwarnings(\"ignore\")\n",
    "pd.set_option(\"display.max_columns\",None)\n",
    "pd.set_option(\"display.max_rows\",None)\n",
    "\n",
    "from IPython.core.interactiveshell import InteractiveShell \n",
    "InteractiveShell.ast_node_interactivity = \"all\"\n",
    "\n",
    "#Libraries to visualize the dataset\n",
    "import matplotlib as mpl\n",
    "import matplotlib.patches as mpatches\n",
    "plt.style.use('ggplot')\n",
    "\n",
    "from sklearn.preprocessing import StandardScaler\n",
    "from sklearn.preprocessing import MinMaxScaler"
   ]
  },
  {
   "cell_type": "code",
   "execution_count": 2,
   "id": "65bafc2b",
   "metadata": {},
   "outputs": [
    {
     "data": {
      "text/html": [
       "<style type=\"text/css\">\n",
       "#T_cfcef_row0_col0, #T_cfcef_row0_col1, #T_cfcef_row0_col5, #T_cfcef_row0_col7, #T_cfcef_row0_col9, #T_cfcef_row1_col2, #T_cfcef_row1_col7, #T_cfcef_row2_col6, #T_cfcef_row2_col7, #T_cfcef_row3_col2, #T_cfcef_row3_col7, #T_cfcef_row4_col1, #T_cfcef_row4_col6, #T_cfcef_row4_col7 {\n",
       "  background-color: #f7fcf0;\n",
       "  color: #000000;\n",
       "}\n",
       "#T_cfcef_row0_col2, #T_cfcef_row0_col6, #T_cfcef_row1_col1, #T_cfcef_row1_col5, #T_cfcef_row1_col6, #T_cfcef_row1_col9, #T_cfcef_row2_col1, #T_cfcef_row2_col2, #T_cfcef_row3_col1, #T_cfcef_row3_col6, #T_cfcef_row4_col0, #T_cfcef_row4_col2 {\n",
       "  background-color: #084081;\n",
       "  color: #f1f1f1;\n",
       "}\n",
       "#T_cfcef_row1_col0, #T_cfcef_row2_col5 {\n",
       "  background-color: #ccebc5;\n",
       "  color: #000000;\n",
       "}\n",
       "#T_cfcef_row2_col0 {\n",
       "  background-color: #7accc4;\n",
       "  color: #000000;\n",
       "}\n",
       "#T_cfcef_row2_col9 {\n",
       "  background-color: #f6fbef;\n",
       "  color: #000000;\n",
       "}\n",
       "#T_cfcef_row3_col0 {\n",
       "  background-color: #2a8bbe;\n",
       "  color: #f1f1f1;\n",
       "}\n",
       "#T_cfcef_row3_col5, #T_cfcef_row4_col5 {\n",
       "  background-color: #1979b5;\n",
       "  color: #f1f1f1;\n",
       "}\n",
       "#T_cfcef_row3_col9 {\n",
       "  background-color: #3496c3;\n",
       "  color: #f1f1f1;\n",
       "}\n",
       "#T_cfcef_row4_col9 {\n",
       "  background-color: #f5fbee;\n",
       "  color: #000000;\n",
       "}\n",
       "</style>\n",
       "<table id=\"T_cfcef_\">\n",
       "  <thead>\n",
       "    <tr>\n",
       "      <th class=\"blank level0\" >&nbsp;</th>\n",
       "      <th class=\"col_heading level0 col0\" >PassengerId</th>\n",
       "      <th class=\"col_heading level0 col1\" >Survived</th>\n",
       "      <th class=\"col_heading level0 col2\" >Pclass</th>\n",
       "      <th class=\"col_heading level0 col3\" >Name</th>\n",
       "      <th class=\"col_heading level0 col4\" >Sex</th>\n",
       "      <th class=\"col_heading level0 col5\" >Age</th>\n",
       "      <th class=\"col_heading level0 col6\" >SibSp</th>\n",
       "      <th class=\"col_heading level0 col7\" >Parch</th>\n",
       "      <th class=\"col_heading level0 col8\" >Ticket</th>\n",
       "      <th class=\"col_heading level0 col9\" >Fare</th>\n",
       "      <th class=\"col_heading level0 col10\" >Cabin</th>\n",
       "      <th class=\"col_heading level0 col11\" >Embarked</th>\n",
       "    </tr>\n",
       "  </thead>\n",
       "  <tbody>\n",
       "    <tr>\n",
       "      <th id=\"T_cfcef_level0_row0\" class=\"row_heading level0 row0\" >0</th>\n",
       "      <td id=\"T_cfcef_row0_col0\" class=\"data row0 col0\" >1</td>\n",
       "      <td id=\"T_cfcef_row0_col1\" class=\"data row0 col1\" >0</td>\n",
       "      <td id=\"T_cfcef_row0_col2\" class=\"data row0 col2\" >3</td>\n",
       "      <td id=\"T_cfcef_row0_col3\" class=\"data row0 col3\" >Braund, Mr. Owen Harris</td>\n",
       "      <td id=\"T_cfcef_row0_col4\" class=\"data row0 col4\" >male</td>\n",
       "      <td id=\"T_cfcef_row0_col5\" class=\"data row0 col5\" >22.000000</td>\n",
       "      <td id=\"T_cfcef_row0_col6\" class=\"data row0 col6\" >1</td>\n",
       "      <td id=\"T_cfcef_row0_col7\" class=\"data row0 col7\" >0</td>\n",
       "      <td id=\"T_cfcef_row0_col8\" class=\"data row0 col8\" >A/5 21171</td>\n",
       "      <td id=\"T_cfcef_row0_col9\" class=\"data row0 col9\" >7.250000</td>\n",
       "      <td id=\"T_cfcef_row0_col10\" class=\"data row0 col10\" >nan</td>\n",
       "      <td id=\"T_cfcef_row0_col11\" class=\"data row0 col11\" >S</td>\n",
       "    </tr>\n",
       "    <tr>\n",
       "      <th id=\"T_cfcef_level0_row1\" class=\"row_heading level0 row1\" >1</th>\n",
       "      <td id=\"T_cfcef_row1_col0\" class=\"data row1 col0\" >2</td>\n",
       "      <td id=\"T_cfcef_row1_col1\" class=\"data row1 col1\" >1</td>\n",
       "      <td id=\"T_cfcef_row1_col2\" class=\"data row1 col2\" >1</td>\n",
       "      <td id=\"T_cfcef_row1_col3\" class=\"data row1 col3\" >Cumings, Mrs. John Bradley (Florence Briggs Thayer)</td>\n",
       "      <td id=\"T_cfcef_row1_col4\" class=\"data row1 col4\" >female</td>\n",
       "      <td id=\"T_cfcef_row1_col5\" class=\"data row1 col5\" >38.000000</td>\n",
       "      <td id=\"T_cfcef_row1_col6\" class=\"data row1 col6\" >1</td>\n",
       "      <td id=\"T_cfcef_row1_col7\" class=\"data row1 col7\" >0</td>\n",
       "      <td id=\"T_cfcef_row1_col8\" class=\"data row1 col8\" >PC 17599</td>\n",
       "      <td id=\"T_cfcef_row1_col9\" class=\"data row1 col9\" >71.283300</td>\n",
       "      <td id=\"T_cfcef_row1_col10\" class=\"data row1 col10\" >C85</td>\n",
       "      <td id=\"T_cfcef_row1_col11\" class=\"data row1 col11\" >C</td>\n",
       "    </tr>\n",
       "    <tr>\n",
       "      <th id=\"T_cfcef_level0_row2\" class=\"row_heading level0 row2\" >2</th>\n",
       "      <td id=\"T_cfcef_row2_col0\" class=\"data row2 col0\" >3</td>\n",
       "      <td id=\"T_cfcef_row2_col1\" class=\"data row2 col1\" >1</td>\n",
       "      <td id=\"T_cfcef_row2_col2\" class=\"data row2 col2\" >3</td>\n",
       "      <td id=\"T_cfcef_row2_col3\" class=\"data row2 col3\" >Heikkinen, Miss. Laina</td>\n",
       "      <td id=\"T_cfcef_row2_col4\" class=\"data row2 col4\" >female</td>\n",
       "      <td id=\"T_cfcef_row2_col5\" class=\"data row2 col5\" >26.000000</td>\n",
       "      <td id=\"T_cfcef_row2_col6\" class=\"data row2 col6\" >0</td>\n",
       "      <td id=\"T_cfcef_row2_col7\" class=\"data row2 col7\" >0</td>\n",
       "      <td id=\"T_cfcef_row2_col8\" class=\"data row2 col8\" >STON/O2. 3101282</td>\n",
       "      <td id=\"T_cfcef_row2_col9\" class=\"data row2 col9\" >7.925000</td>\n",
       "      <td id=\"T_cfcef_row2_col10\" class=\"data row2 col10\" >nan</td>\n",
       "      <td id=\"T_cfcef_row2_col11\" class=\"data row2 col11\" >S</td>\n",
       "    </tr>\n",
       "    <tr>\n",
       "      <th id=\"T_cfcef_level0_row3\" class=\"row_heading level0 row3\" >3</th>\n",
       "      <td id=\"T_cfcef_row3_col0\" class=\"data row3 col0\" >4</td>\n",
       "      <td id=\"T_cfcef_row3_col1\" class=\"data row3 col1\" >1</td>\n",
       "      <td id=\"T_cfcef_row3_col2\" class=\"data row3 col2\" >1</td>\n",
       "      <td id=\"T_cfcef_row3_col3\" class=\"data row3 col3\" >Futrelle, Mrs. Jacques Heath (Lily May Peel)</td>\n",
       "      <td id=\"T_cfcef_row3_col4\" class=\"data row3 col4\" >female</td>\n",
       "      <td id=\"T_cfcef_row3_col5\" class=\"data row3 col5\" >35.000000</td>\n",
       "      <td id=\"T_cfcef_row3_col6\" class=\"data row3 col6\" >1</td>\n",
       "      <td id=\"T_cfcef_row3_col7\" class=\"data row3 col7\" >0</td>\n",
       "      <td id=\"T_cfcef_row3_col8\" class=\"data row3 col8\" >113803</td>\n",
       "      <td id=\"T_cfcef_row3_col9\" class=\"data row3 col9\" >53.100000</td>\n",
       "      <td id=\"T_cfcef_row3_col10\" class=\"data row3 col10\" >C123</td>\n",
       "      <td id=\"T_cfcef_row3_col11\" class=\"data row3 col11\" >S</td>\n",
       "    </tr>\n",
       "    <tr>\n",
       "      <th id=\"T_cfcef_level0_row4\" class=\"row_heading level0 row4\" >4</th>\n",
       "      <td id=\"T_cfcef_row4_col0\" class=\"data row4 col0\" >5</td>\n",
       "      <td id=\"T_cfcef_row4_col1\" class=\"data row4 col1\" >0</td>\n",
       "      <td id=\"T_cfcef_row4_col2\" class=\"data row4 col2\" >3</td>\n",
       "      <td id=\"T_cfcef_row4_col3\" class=\"data row4 col3\" >Allen, Mr. William Henry</td>\n",
       "      <td id=\"T_cfcef_row4_col4\" class=\"data row4 col4\" >male</td>\n",
       "      <td id=\"T_cfcef_row4_col5\" class=\"data row4 col5\" >35.000000</td>\n",
       "      <td id=\"T_cfcef_row4_col6\" class=\"data row4 col6\" >0</td>\n",
       "      <td id=\"T_cfcef_row4_col7\" class=\"data row4 col7\" >0</td>\n",
       "      <td id=\"T_cfcef_row4_col8\" class=\"data row4 col8\" >373450</td>\n",
       "      <td id=\"T_cfcef_row4_col9\" class=\"data row4 col9\" >8.050000</td>\n",
       "      <td id=\"T_cfcef_row4_col10\" class=\"data row4 col10\" >nan</td>\n",
       "      <td id=\"T_cfcef_row4_col11\" class=\"data row4 col11\" >S</td>\n",
       "    </tr>\n",
       "  </tbody>\n",
       "</table>\n"
      ],
      "text/plain": [
       "<pandas.io.formats.style.Styler at 0x214a2a28b20>"
      ]
     },
     "execution_count": 2,
     "metadata": {},
     "output_type": "execute_result"
    }
   ],
   "source": [
    "df = pd.read_csv(\"./data/train.csv\")\n",
    "\n",
    "df.head().style.background_gradient(cmap='GnBu')"
   ]
  },
  {
   "cell_type": "code",
   "execution_count": 3,
   "id": "23197c05",
   "metadata": {},
   "outputs": [
    {
     "data": {
      "text/plain": [
       "(891, 12)"
      ]
     },
     "execution_count": 3,
     "metadata": {},
     "output_type": "execute_result"
    }
   ],
   "source": [
    "df.shape"
   ]
  },
  {
   "cell_type": "code",
   "execution_count": 4,
   "id": "c466f88b",
   "metadata": {},
   "outputs": [
    {
     "data": {
      "text/plain": [
       "PassengerId      int64\n",
       "Survived         int64\n",
       "Pclass           int64\n",
       "Name            object\n",
       "Sex             object\n",
       "Age            float64\n",
       "SibSp            int64\n",
       "Parch            int64\n",
       "Ticket          object\n",
       "Fare           float64\n",
       "Cabin           object\n",
       "Embarked        object\n",
       "dtype: object"
      ]
     },
     "execution_count": 4,
     "metadata": {},
     "output_type": "execute_result"
    }
   ],
   "source": [
    "df.dtypes"
   ]
  },
  {
   "cell_type": "code",
   "execution_count": 5,
   "id": "4de48b63",
   "metadata": {},
   "outputs": [
    {
     "data": {
      "text/plain": [
       "['PassengerId', 'Survived', 'Pclass', 'Age', 'SibSp', 'Parch', 'Fare']"
      ]
     },
     "execution_count": 5,
     "metadata": {},
     "output_type": "execute_result"
    }
   ],
   "source": [
    "numerical_features = [feature for feature in df.columns if df[feature].dtype!='O']\n",
    "numerical_features"
   ]
  },
  {
   "cell_type": "code",
   "execution_count": 6,
   "id": "527db3c1",
   "metadata": {},
   "outputs": [
    {
     "data": {
      "text/plain": [
       "['Name', 'Sex', 'Ticket', 'Cabin', 'Embarked']"
      ]
     },
     "execution_count": 6,
     "metadata": {},
     "output_type": "execute_result"
    }
   ],
   "source": [
    "categorical_features = [feature for feature in df.columns if df[feature].dtype=='O']\n",
    "categorical_features"
   ]
  },
  {
   "cell_type": "markdown",
   "id": "7a902e6c",
   "metadata": {},
   "source": [
    "### Find unique values in each column"
   ]
  },
  {
   "cell_type": "code",
   "execution_count": 7,
   "id": "dad528ce",
   "metadata": {},
   "outputs": [],
   "source": [
    "from IPython.core.display import HTML\n",
    "def multi_table(table_list):\n",
    "    ''' Acceps a list of IpyTable objects and returns a table which contains each IpyTable in a cell\n",
    "    '''\n",
    "    return HTML(\n",
    "        '<table><tr style=\"background-color:white;\">' + \n",
    "        ''.join(['<td>' + table._repr_html_() + '</td>' for table in table_list]) +\n",
    "        '</tr></table>')"
   ]
  },
  {
   "cell_type": "code",
   "execution_count": 8,
   "id": "227006e8",
   "metadata": {},
   "outputs": [
    {
     "data": {
      "text/html": [
       "<table><tr style=\"background-color:white;\"><td><style type=\"text/css\">\n",
       "#T_5e3c0_row0_col0 {\n",
       "  background-color: #084081;\n",
       "  color: #f1f1f1;\n",
       "}\n",
       "#T_5e3c0_row1_col0 {\n",
       "  background-color: #f7fcf0;\n",
       "  color: #000000;\n",
       "}\n",
       "</style>\n",
       "<table id=\"T_5e3c0_\">\n",
       "  <thead>\n",
       "    <tr>\n",
       "      <th class=\"blank level0\" >&nbsp;</th>\n",
       "      <th class=\"col_heading level0 col0\" >Survived</th>\n",
       "    </tr>\n",
       "  </thead>\n",
       "  <tbody>\n",
       "    <tr>\n",
       "      <th id=\"T_5e3c0_level0_row0\" class=\"row_heading level0 row0\" >0</th>\n",
       "      <td id=\"T_5e3c0_row0_col0\" class=\"data row0 col0\" >549</td>\n",
       "    </tr>\n",
       "    <tr>\n",
       "      <th id=\"T_5e3c0_level0_row1\" class=\"row_heading level0 row1\" >1</th>\n",
       "      <td id=\"T_5e3c0_row1_col0\" class=\"data row1 col0\" >342</td>\n",
       "    </tr>\n",
       "  </tbody>\n",
       "</table>\n",
       "</td><td><style type=\"text/css\">\n",
       "#T_5b5ce_row0_col0 {\n",
       "  background-color: #084081;\n",
       "  color: #f1f1f1;\n",
       "}\n",
       "#T_5b5ce_row1_col0 {\n",
       "  background-color: #b3e1ba;\n",
       "  color: #000000;\n",
       "}\n",
       "#T_5b5ce_row2_col0 {\n",
       "  background-color: #f1f9ea;\n",
       "  color: #000000;\n",
       "}\n",
       "#T_5b5ce_row3_col0 {\n",
       "  background-color: #f3fbed;\n",
       "  color: #000000;\n",
       "}\n",
       "#T_5b5ce_row4_col0 {\n",
       "  background-color: #f4fbed;\n",
       "  color: #000000;\n",
       "}\n",
       "#T_5b5ce_row5_col0, #T_5b5ce_row6_col0 {\n",
       "  background-color: #f7fcf0;\n",
       "  color: #000000;\n",
       "}\n",
       "</style>\n",
       "<table id=\"T_5b5ce_\">\n",
       "  <thead>\n",
       "    <tr>\n",
       "      <th class=\"blank level0\" >&nbsp;</th>\n",
       "      <th class=\"col_heading level0 col0\" >SibSp</th>\n",
       "    </tr>\n",
       "  </thead>\n",
       "  <tbody>\n",
       "    <tr>\n",
       "      <th id=\"T_5b5ce_level0_row0\" class=\"row_heading level0 row0\" >0</th>\n",
       "      <td id=\"T_5b5ce_row0_col0\" class=\"data row0 col0\" >608</td>\n",
       "    </tr>\n",
       "    <tr>\n",
       "      <th id=\"T_5b5ce_level0_row1\" class=\"row_heading level0 row1\" >1</th>\n",
       "      <td id=\"T_5b5ce_row1_col0\" class=\"data row1 col0\" >209</td>\n",
       "    </tr>\n",
       "    <tr>\n",
       "      <th id=\"T_5b5ce_level0_row2\" class=\"row_heading level0 row2\" >2</th>\n",
       "      <td id=\"T_5b5ce_row2_col0\" class=\"data row2 col0\" >28</td>\n",
       "    </tr>\n",
       "    <tr>\n",
       "      <th id=\"T_5b5ce_level0_row3\" class=\"row_heading level0 row3\" >4</th>\n",
       "      <td id=\"T_5b5ce_row3_col0\" class=\"data row3 col0\" >18</td>\n",
       "    </tr>\n",
       "    <tr>\n",
       "      <th id=\"T_5b5ce_level0_row4\" class=\"row_heading level0 row4\" >3</th>\n",
       "      <td id=\"T_5b5ce_row4_col0\" class=\"data row4 col0\" >16</td>\n",
       "    </tr>\n",
       "    <tr>\n",
       "      <th id=\"T_5b5ce_level0_row5\" class=\"row_heading level0 row5\" >8</th>\n",
       "      <td id=\"T_5b5ce_row5_col0\" class=\"data row5 col0\" >7</td>\n",
       "    </tr>\n",
       "    <tr>\n",
       "      <th id=\"T_5b5ce_level0_row6\" class=\"row_heading level0 row6\" >5</th>\n",
       "      <td id=\"T_5b5ce_row6_col0\" class=\"data row6 col0\" >5</td>\n",
       "    </tr>\n",
       "  </tbody>\n",
       "</table>\n",
       "</td><td><style type=\"text/css\">\n",
       "#T_ab50f_row0_col0 {\n",
       "  background-color: #084081;\n",
       "  color: #f1f1f1;\n",
       "}\n",
       "#T_ab50f_row1_col0 {\n",
       "  background-color: #d8f0d3;\n",
       "  color: #000000;\n",
       "}\n",
       "#T_ab50f_row2_col0 {\n",
       "  background-color: #e2f4dd;\n",
       "  color: #000000;\n",
       "}\n",
       "#T_ab50f_row3_col0, #T_ab50f_row4_col0, #T_ab50f_row5_col0 {\n",
       "  background-color: #f6fcef;\n",
       "  color: #000000;\n",
       "}\n",
       "#T_ab50f_row6_col0 {\n",
       "  background-color: #f7fcf0;\n",
       "  color: #000000;\n",
       "}\n",
       "</style>\n",
       "<table id=\"T_ab50f_\">\n",
       "  <thead>\n",
       "    <tr>\n",
       "      <th class=\"blank level0\" >&nbsp;</th>\n",
       "      <th class=\"col_heading level0 col0\" >Parch</th>\n",
       "    </tr>\n",
       "  </thead>\n",
       "  <tbody>\n",
       "    <tr>\n",
       "      <th id=\"T_ab50f_level0_row0\" class=\"row_heading level0 row0\" >0</th>\n",
       "      <td id=\"T_ab50f_row0_col0\" class=\"data row0 col0\" >678</td>\n",
       "    </tr>\n",
       "    <tr>\n",
       "      <th id=\"T_ab50f_level0_row1\" class=\"row_heading level0 row1\" >1</th>\n",
       "      <td id=\"T_ab50f_row1_col0\" class=\"data row1 col0\" >118</td>\n",
       "    </tr>\n",
       "    <tr>\n",
       "      <th id=\"T_ab50f_level0_row2\" class=\"row_heading level0 row2\" >2</th>\n",
       "      <td id=\"T_ab50f_row2_col0\" class=\"data row2 col0\" >80</td>\n",
       "    </tr>\n",
       "    <tr>\n",
       "      <th id=\"T_ab50f_level0_row3\" class=\"row_heading level0 row3\" >5</th>\n",
       "      <td id=\"T_ab50f_row3_col0\" class=\"data row3 col0\" >5</td>\n",
       "    </tr>\n",
       "    <tr>\n",
       "      <th id=\"T_ab50f_level0_row4\" class=\"row_heading level0 row4\" >3</th>\n",
       "      <td id=\"T_ab50f_row4_col0\" class=\"data row4 col0\" >5</td>\n",
       "    </tr>\n",
       "    <tr>\n",
       "      <th id=\"T_ab50f_level0_row5\" class=\"row_heading level0 row5\" >4</th>\n",
       "      <td id=\"T_ab50f_row5_col0\" class=\"data row5 col0\" >4</td>\n",
       "    </tr>\n",
       "    <tr>\n",
       "      <th id=\"T_ab50f_level0_row6\" class=\"row_heading level0 row6\" >6</th>\n",
       "      <td id=\"T_ab50f_row6_col0\" class=\"data row6 col0\" >1</td>\n",
       "    </tr>\n",
       "  </tbody>\n",
       "</table>\n",
       "</td><td><style type=\"text/css\">\n",
       "#T_63f67_row0_col0 {\n",
       "  background-color: #084081;\n",
       "  color: #f1f1f1;\n",
       "}\n",
       "#T_63f67_row1_col0 {\n",
       "  background-color: #daf1d5;\n",
       "  color: #000000;\n",
       "}\n",
       "#T_63f67_row2_col0 {\n",
       "  background-color: #f7fcf0;\n",
       "  color: #000000;\n",
       "}\n",
       "</style>\n",
       "<table id=\"T_63f67_\">\n",
       "  <thead>\n",
       "    <tr>\n",
       "      <th class=\"blank level0\" >&nbsp;</th>\n",
       "      <th class=\"col_heading level0 col0\" >Embarked</th>\n",
       "    </tr>\n",
       "  </thead>\n",
       "  <tbody>\n",
       "    <tr>\n",
       "      <th id=\"T_63f67_level0_row0\" class=\"row_heading level0 row0\" >S</th>\n",
       "      <td id=\"T_63f67_row0_col0\" class=\"data row0 col0\" >644</td>\n",
       "    </tr>\n",
       "    <tr>\n",
       "      <th id=\"T_63f67_level0_row1\" class=\"row_heading level0 row1\" >C</th>\n",
       "      <td id=\"T_63f67_row1_col0\" class=\"data row1 col0\" >168</td>\n",
       "    </tr>\n",
       "    <tr>\n",
       "      <th id=\"T_63f67_level0_row2\" class=\"row_heading level0 row2\" >Q</th>\n",
       "      <td id=\"T_63f67_row2_col0\" class=\"data row2 col0\" >77</td>\n",
       "    </tr>\n",
       "  </tbody>\n",
       "</table>\n",
       "</td></tr></table>"
      ],
      "text/plain": [
       "<IPython.core.display.HTML object>"
      ]
     },
     "execution_count": 8,
     "metadata": {},
     "output_type": "execute_result"
    }
   ],
   "source": [
    "df_nunique = {var: pd.DataFrame(df[var].value_counts()) for var in ['Survived', 'Pclass', 'Sex','SibSp','Parch','Embarked']}\n",
    "\n",
    "multi_table([df_nunique['Survived'].style.background_gradient(cmap='GnBu'),\n",
    "             df_nunique['SibSp'].style.background_gradient(cmap='GnBu'),\n",
    "             df_nunique['Parch'].style.background_gradient(cmap='GnBu'),\n",
    "             df_nunique['Embarked'].style.background_gradient(cmap='GnBu')])"
   ]
  },
  {
   "cell_type": "markdown",
   "id": "9c3aab7f",
   "metadata": {},
   "source": [
    "### Check missing values"
   ]
  },
  {
   "cell_type": "code",
   "execution_count": 9,
   "id": "a534f17d",
   "metadata": {
    "scrolled": false
   },
   "outputs": [
    {
     "data": {
      "text/plain": [
       "PassengerId      0\n",
       "Survived         0\n",
       "Pclass           0\n",
       "Name             0\n",
       "Sex              0\n",
       "Age            177\n",
       "SibSp            0\n",
       "Parch            0\n",
       "Ticket           0\n",
       "Fare             0\n",
       "Cabin          687\n",
       "Embarked         2\n",
       "dtype: int64"
      ]
     },
     "execution_count": 9,
     "metadata": {},
     "output_type": "execute_result"
    }
   ],
   "source": [
    "df.isnull().sum()"
   ]
  },
  {
   "cell_type": "code",
   "execution_count": 10,
   "id": "6d69b2da",
   "metadata": {},
   "outputs": [
    {
     "data": {
      "text/html": [
       "<style type=\"text/css\">\n",
       "#T_f8adf_row0_col0, #T_f8adf_row0_col1 {\n",
       "  background-color: #084081;\n",
       "  color: #f1f1f1;\n",
       "}\n",
       "#T_f8adf_row1_col0, #T_f8adf_row1_col1 {\n",
       "  background-color: #cbeac4;\n",
       "  color: #000000;\n",
       "}\n",
       "#T_f8adf_row2_col0, #T_f8adf_row2_col1 {\n",
       "  background-color: #f7fcf0;\n",
       "  color: #000000;\n",
       "}\n",
       "</style>\n",
       "<table id=\"T_f8adf_\">\n",
       "  <thead>\n",
       "    <tr>\n",
       "      <th class=\"blank level0\" >&nbsp;</th>\n",
       "      <th class=\"col_heading level0 col0\" >Total</th>\n",
       "      <th class=\"col_heading level0 col1\" >Percentage</th>\n",
       "    </tr>\n",
       "  </thead>\n",
       "  <tbody>\n",
       "    <tr>\n",
       "      <th id=\"T_f8adf_level0_row0\" class=\"row_heading level0 row0\" >Cabin</th>\n",
       "      <td id=\"T_f8adf_row0_col0\" class=\"data row0 col0\" >687</td>\n",
       "      <td id=\"T_f8adf_row0_col1\" class=\"data row0 col1\" >77.104377</td>\n",
       "    </tr>\n",
       "    <tr>\n",
       "      <th id=\"T_f8adf_level0_row1\" class=\"row_heading level0 row1\" >Age</th>\n",
       "      <td id=\"T_f8adf_row1_col0\" class=\"data row1 col0\" >177</td>\n",
       "      <td id=\"T_f8adf_row1_col1\" class=\"data row1 col1\" >19.865320</td>\n",
       "    </tr>\n",
       "    <tr>\n",
       "      <th id=\"T_f8adf_level0_row2\" class=\"row_heading level0 row2\" >Embarked</th>\n",
       "      <td id=\"T_f8adf_row2_col0\" class=\"data row2 col0\" >2</td>\n",
       "      <td id=\"T_f8adf_row2_col1\" class=\"data row2 col1\" >0.224467</td>\n",
       "    </tr>\n",
       "  </tbody>\n",
       "</table>\n"
      ],
      "text/plain": [
       "<pandas.io.formats.style.Styler at 0x214e3c7ce80>"
      ]
     },
     "execution_count": 10,
     "metadata": {},
     "output_type": "execute_result"
    }
   ],
   "source": [
    "def missing_data(df):\n",
    "    total = df.isnull().sum().sort_values(ascending=False)\n",
    "    percentage = (df.isnull().sum()/len(df) * 100).sort_values(ascending=False)\n",
    "    return pd.concat([total,percentage],axis=1,keys=[\"Total\",\"Percentage\"])\n",
    "\n",
    "missing_data(df)[(missing_data(df)[\"Total\"]!=0) &( missing_data(df)[\"Percentage\"]!=0)].style.background_gradient(cmap=\"GnBu\")"
   ]
  },
  {
   "cell_type": "markdown",
   "id": "8db7a537",
   "metadata": {},
   "source": [
    "#### Important Notes\n",
    "\n",
    "<ol>\n",
    "    <li>\"Cabin\" column has too many missing features. We have to drop this feature</li>\n",
    "    <li>Age has some missing features, but we can impute them. As age is a numerical feature: <b>if there are outliers, we use median, else we use mean</b></li>\n",
    "    <li>\"Embarked\" is a categorical feature, so we can impute using mode</li>\n",
    "</ol>"
   ]
  },
  {
   "cell_type": "code",
   "execution_count": 11,
   "id": "011f5e29",
   "metadata": {},
   "outputs": [
    {
     "data": {
      "image/png": "[encoded data removed]",
      "text/plain": [
       "<Figure size 720x360 with 2 Axes>"
      ]
     },
     "metadata": {},
     "output_type": "display_data"
    }
   ],
   "source": [
    "f = plt.figure(figsize=(10,5))\n",
    "\n",
    "plt.subplot(1,2,1)\n",
    "plt.boxplot(df[\"Age\"].dropna());\n",
    "\n",
    "plt.subplot(1,2,2)\n",
    "plt.hist(df[\"Embarked\"].dropna());"
   ]
  },
  {
   "cell_type": "markdown",
   "id": "5a392f49",
   "metadata": {},
   "source": [
    "<b> Since Age has some outliers, we use the median to impute the missing values, meanwhile we impute missing values in \"Embarked\" with S </b>"
   ]
  },
  {
   "cell_type": "code",
   "execution_count": 12,
   "id": "e5a7caeb",
   "metadata": {},
   "outputs": [],
   "source": [
    "df['Age'].fillna(df['Age'].median(),inplace=True)\n",
    "df['Embarked'].fillna(df['Embarked'].mode()[0],inplace=True)"
   ]
  },
  {
   "cell_type": "code",
   "execution_count": 13,
   "id": "d33aa68d",
   "metadata": {},
   "outputs": [
    {
     "data": {
      "text/plain": [
       "PassengerId      0\n",
       "Survived         0\n",
       "Pclass           0\n",
       "Name             0\n",
       "Sex              0\n",
       "Age              0\n",
       "SibSp            0\n",
       "Parch            0\n",
       "Ticket           0\n",
       "Fare             0\n",
       "Cabin          687\n",
       "Embarked         0\n",
       "dtype: int64"
      ]
     },
     "execution_count": 13,
     "metadata": {},
     "output_type": "execute_result"
    }
   ],
   "source": [
    "df.isnull().sum()"
   ]
  },
  {
   "cell_type": "markdown",
   "id": "2685dedb",
   "metadata": {},
   "source": [
    "##### Drop redundant features"
   ]
  },
  {
   "cell_type": "code",
   "execution_count": 14,
   "id": "ccfa85ab",
   "metadata": {},
   "outputs": [],
   "source": [
    "df.drop([\"PassengerId\"],axis=1,inplace=True)"
   ]
  },
  {
   "cell_type": "markdown",
   "id": "bba74a48",
   "metadata": {},
   "source": [
    "## Statistical Analysis for each feature"
   ]
  },
  {
   "cell_type": "code",
   "execution_count": 15,
   "id": "6bd138b7",
   "metadata": {},
   "outputs": [],
   "source": [
    "df[\"Counter\"] = [1] * len(df)"
   ]
  },
  {
   "cell_type": "markdown",
   "id": "262b87f5",
   "metadata": {},
   "source": [
    "### - Gender"
   ]
  },
  {
   "cell_type": "code",
   "execution_count": 16,
   "id": "8ed4fe3f",
   "metadata": {},
   "outputs": [
    {
     "data": {
      "image/png": "[encoded data removed]",
      "text/plain": [
       "<Figure size 360x576 with 2 Axes>"
      ]
     },
     "metadata": {},
     "output_type": "display_data"
    }
   ],
   "source": [
    "from collections import Counter \n",
    "count = Counter(df['Sex'])\n",
    "labels = list(count.keys())\n",
    "values = list(count.values())\n",
    "\n",
    "f = plt.figure(figsize=(5,8))\n",
    "plt.tight_layout()\n",
    "plt.subplot(2,1,1)\n",
    "plt.title(\"Total count of Males and Females\")\n",
    "plt.bar(labels,values);\n",
    "\n",
    "plt.subplot(2,1,2)\n",
    "plt.title(\"Percentage of males and females\")\n",
    "sex_age = df[[\"Sex\",\"Age\"]]\n",
    "plt.pie(values, labels = labels, autopct=\"%.2f%%\");"
   ]
  },
  {
   "cell_type": "code",
   "execution_count": 17,
   "id": "4d92d3a5",
   "metadata": {
    "scrolled": true
   },
   "outputs": [
    {
     "data": {
      "text/html": [
       "<style type=\"text/css\">\n",
       "#T_80a98_row0_col0 {\n",
       "  background-color: #084081;\n",
       "  color: #f1f1f1;\n",
       "}\n",
       "#T_80a98_row1_col0 {\n",
       "  background-color: #f7fcf0;\n",
       "  color: #000000;\n",
       "}\n",
       "</style>\n",
       "<table id=\"T_80a98_\">\n",
       "  <thead>\n",
       "    <tr>\n",
       "      <th class=\"blank level0\" >&nbsp;</th>\n",
       "      <th class=\"col_heading level0 col0\" >Survived</th>\n",
       "    </tr>\n",
       "    <tr>\n",
       "      <th class=\"index_name level0\" >Sex</th>\n",
       "      <th class=\"blank col0\" >&nbsp;</th>\n",
       "    </tr>\n",
       "  </thead>\n",
       "  <tbody>\n",
       "    <tr>\n",
       "      <th id=\"T_80a98_level0_row0\" class=\"row_heading level0 row0\" >female</th>\n",
       "      <td id=\"T_80a98_row0_col0\" class=\"data row0 col0\" >0.742038</td>\n",
       "    </tr>\n",
       "    <tr>\n",
       "      <th id=\"T_80a98_level0_row1\" class=\"row_heading level0 row1\" >male</th>\n",
       "      <td id=\"T_80a98_row1_col0\" class=\"data row1 col0\" >0.188908</td>\n",
       "    </tr>\n",
       "  </tbody>\n",
       "</table>\n"
      ],
      "text/plain": [
       "<pandas.io.formats.style.Styler at 0x214e5e4d130>"
      ]
     },
     "execution_count": 17,
     "metadata": {},
     "output_type": "execute_result"
    }
   ],
   "source": [
    "grp = df[[\"Sex\",\"Survived\"]].groupby([\"Sex\"]).mean().sort_values(\n",
    "    by='Survived',ascending=False)\n",
    "\n",
    "grp.style.background_gradient(cmap=\"GnBu\")"
   ]
  },
  {
   "cell_type": "code",
   "execution_count": 18,
   "id": "5659f131",
   "metadata": {},
   "outputs": [
    {
     "data": {
      "image/png": "[encoded data removed]",
      "text/plain": [
       "<Figure size 432x288 with 1 Axes>"
      ]
     },
     "metadata": {},
     "output_type": "display_data"
    }
   ],
   "source": [
    "grp[\"Did not Survive\"] = 1 - grp[\"Survived\"]\n",
    "ax = grp.plot(kind=\"bar\",legend=True);\n",
    "\n",
    "for container in ax.containers:\n",
    "    ax.bar_label(container,fmt='%.2f');\n",
    "    \n",
    "ax.legend(loc=\"best\");"
   ]
  },
  {
   "cell_type": "markdown",
   "id": "8eb3d931",
   "metadata": {},
   "source": [
    "#### Observations\n",
    "\n",
    "<ol>\n",
    "    <li>There are different no. of males and females</li>\n",
    "    <li>Females are more likely to survive compared to males</li>\n",
    "</ol>"
   ]
  },
  {
   "cell_type": "markdown",
   "id": "6b3c58c9",
   "metadata": {},
   "source": [
    "### - Pclass"
   ]
  },
  {
   "cell_type": "code",
   "execution_count": 19,
   "id": "2c8d1179",
   "metadata": {},
   "outputs": [
    {
     "data": {
      "image/png": "[encoded data removed]",
      "text/plain": [
       "<Figure size 720x360 with 2 Axes>"
      ]
     },
     "metadata": {},
     "output_type": "display_data"
    }
   ],
   "source": [
    "f = plt.figure(figsize=(10,5))\n",
    "\n",
    "plt.subplot(1,2,1)\n",
    "plt.title(\"Raw count of Pclass\")\n",
    "ax = df['Pclass'].value_counts().plot(kind=\"bar\")\n",
    "for container in ax.containers:\n",
    "    ax.bar_label(container);\n",
    "ax.legend(loc=\"best\");\n",
    "\n",
    "\n",
    "plt.subplot(1,2,2)\n",
    "plt.title(\"Percentange of class\")\n",
    "ax = df['Pclass'].value_counts().plot(kind=\"pie\", autopct='%.2f').legend(loc=\"best\");"
   ]
  },
  {
   "cell_type": "code",
   "execution_count": 20,
   "id": "ac13da23",
   "metadata": {},
   "outputs": [
    {
     "data": {
      "text/html": [
       "<style type=\"text/css\">\n",
       "#T_5c56a_row0_col0, #T_5c56a_row2_col1, #T_5c56a_row2_col2 {\n",
       "  background-color: #084081;\n",
       "  color: #f1f1f1;\n",
       "}\n",
       "#T_5c56a_row0_col1 {\n",
       "  background-color: #e4f5df;\n",
       "  color: #000000;\n",
       "}\n",
       "#T_5c56a_row0_col2, #T_5c56a_row1_col0, #T_5c56a_row1_col1 {\n",
       "  background-color: #f7fcf0;\n",
       "  color: #000000;\n",
       "}\n",
       "#T_5c56a_row1_col2 {\n",
       "  background-color: #edf8e7;\n",
       "  color: #000000;\n",
       "}\n",
       "#T_5c56a_row2_col0 {\n",
       "  background-color: #46aace;\n",
       "  color: #f1f1f1;\n",
       "}\n",
       "</style>\n",
       "<table id=\"T_5c56a_\">\n",
       "  <thead>\n",
       "    <tr>\n",
       "      <th class=\"blank level0\" >&nbsp;</th>\n",
       "      <th class=\"col_heading level0 col0\" >Survived</th>\n",
       "      <th class=\"col_heading level0 col1\" >Pclass</th>\n",
       "      <th class=\"col_heading level0 col2\" >Did not Survive</th>\n",
       "    </tr>\n",
       "  </thead>\n",
       "  <tbody>\n",
       "    <tr>\n",
       "      <th id=\"T_5c56a_level0_row0\" class=\"row_heading level0 row0\" >1</th>\n",
       "      <td id=\"T_5c56a_row0_col0\" class=\"data row0 col0\" >136</td>\n",
       "      <td id=\"T_5c56a_row0_col1\" class=\"data row0 col1\" >216</td>\n",
       "      <td id=\"T_5c56a_row0_col2\" class=\"data row0 col2\" >80</td>\n",
       "    </tr>\n",
       "    <tr>\n",
       "      <th id=\"T_5c56a_level0_row1\" class=\"row_heading level0 row1\" >2</th>\n",
       "      <td id=\"T_5c56a_row1_col0\" class=\"data row1 col0\" >87</td>\n",
       "      <td id=\"T_5c56a_row1_col1\" class=\"data row1 col1\" >184</td>\n",
       "      <td id=\"T_5c56a_row1_col2\" class=\"data row1 col2\" >97</td>\n",
       "    </tr>\n",
       "    <tr>\n",
       "      <th id=\"T_5c56a_level0_row2\" class=\"row_heading level0 row2\" >3</th>\n",
       "      <td id=\"T_5c56a_row2_col0\" class=\"data row2 col0\" >119</td>\n",
       "      <td id=\"T_5c56a_row2_col1\" class=\"data row2 col1\" >491</td>\n",
       "      <td id=\"T_5c56a_row2_col2\" class=\"data row2 col2\" >372</td>\n",
       "    </tr>\n",
       "  </tbody>\n",
       "</table>\n"
      ],
      "text/plain": [
       "<pandas.io.formats.style.Styler at 0x214e60147c0>"
      ]
     },
     "execution_count": 20,
     "metadata": {},
     "output_type": "execute_result"
    }
   ],
   "source": [
    "grp = df[[\"Pclass\",\"Survived\"]].groupby([\"Pclass\"]).sum()\n",
    "\n",
    "grp = pd.concat([grp,pd.DataFrame(df['Pclass'].value_counts())],axis=1)\n",
    "grp[\"Did not Survive\"] = grp[\"Pclass\"] - grp[\"Survived\"\n",
    "                                            ]\n",
    "grp.style.background_gradient(cmap=\"GnBu\")"
   ]
  },
  {
   "cell_type": "code",
   "execution_count": 21,
   "id": "3853c5e6",
   "metadata": {},
   "outputs": [
    {
     "data": {
      "image/png": "[encoded data removed]",
      "text/plain": [
       "<Figure size 432x288 with 1 Axes>"
      ]
     },
     "metadata": {},
     "output_type": "display_data"
    }
   ],
   "source": [
    "ax = grp[[\"Survived\",\"Did not Survive\"]].plot(kind=\"bar\");\n",
    "\n",
    "for container in ax.containers:\n",
    "    ax.bar_label(container,fmt='%.2f');\n",
    "    \n",
    "ax.legend(loc=\"best\");"
   ]
  },
  {
   "cell_type": "markdown",
   "id": "3c37d173",
   "metadata": {},
   "source": [
    "#### Observations\n",
    "\n",
    "<ol>\n",
    "    <li>There are a higher no. of 3rd class than 1st and 2nd class combined.</li>\n",
    "    <li>There are higher no. of first class than second class passengers</li>\n",
    "    <li>The raw count suggests that being in 1st class gives the highest chance of survival, while the chances of survival decreases the lower your class</li>\n",
    "</ol>"
   ]
  },
  {
   "cell_type": "markdown",
   "id": "2000a423",
   "metadata": {},
   "source": [
    "### - Survived"
   ]
  },
  {
   "cell_type": "code",
   "execution_count": 22,
   "id": "7be4e63f",
   "metadata": {},
   "outputs": [
    {
     "data": {
      "image/png": "[encoded data removed]",
      "text/plain": [
       "<Figure size 720x360 with 2 Axes>"
      ]
     },
     "metadata": {},
     "output_type": "display_data"
    }
   ],
   "source": [
    "f = plt.figure(figsize=(10,5))\n",
    "\n",
    "plt.subplot(1,2,1)\n",
    "ax = df['Survived'].value_counts().plot(kind=\"bar\")\n",
    "for container in ax.containers:\n",
    "    ax.bar_label(container);\n",
    "    \n",
    "ax.legend(loc=\"best\");\n",
    "\n",
    "plt.subplot(1,2,2)\n",
    "df[\"Survived\"].value_counts().plot(kind=\"pie\",autopct=\"%.2f\").legend(loc=\"best\");"
   ]
  },
  {
   "cell_type": "markdown",
   "id": "358037a9",
   "metadata": {},
   "source": [
    "<b>Observations: We note that the target variable is not balanced. We need to use some undersampling or oversampling techniques</b>"
   ]
  },
  {
   "cell_type": "markdown",
   "id": "3198a9db",
   "metadata": {},
   "source": [
    "### - Siblings/Spouses"
   ]
  },
  {
   "cell_type": "code",
   "execution_count": 23,
   "id": "ac5358d8",
   "metadata": {},
   "outputs": [
    {
     "data": {
      "image/png": "[encoded data removed]",
      "text/plain": [
       "<Figure size 720x360 with 2 Axes>"
      ]
     },
     "metadata": {},
     "output_type": "display_data"
    }
   ],
   "source": [
    "f = plt.figure(figsize=(10,5))\n",
    "plt.subplot(1,2,1)\n",
    "ax = df[\"SibSp\"].value_counts().plot(kind=\"bar\");\n",
    "for container in ax.containers:\n",
    "    ax.bar_label(container);\n",
    "    \n",
    "ax.legend(loc=\"best\");\n",
    "\n",
    "plt.subplot(1,2,2)\n",
    "ax2 = df[\"SibSp\"].value_counts().plot(kind=\"pie\",autopct=\"%.2f\", startangle=270,\n",
    "                                      explode=(0, 0, 0.7,0.55,0.45,0.35,0.25));\n",
    "\n",
    "ax2.legend(loc=\"best\");"
   ]
  },
  {
   "cell_type": "code",
   "execution_count": 24,
   "id": "3b63acb3",
   "metadata": {},
   "outputs": [
    {
     "data": {
      "text/html": [
       "<div>\n",
       "<style scoped>\n",
       "    .dataframe tbody tr th:only-of-type {\n",
       "        vertical-align: middle;\n",
       "    }\n",
       "\n",
       "    .dataframe tbody tr th {\n",
       "        vertical-align: top;\n",
       "    }\n",
       "\n",
       "    .dataframe thead th {\n",
       "        text-align: right;\n",
       "    }\n",
       "</style>\n",
       "<table border=\"1\" class=\"dataframe\">\n",
       "  <thead>\n",
       "    <tr style=\"text-align: right;\">\n",
       "      <th></th>\n",
       "      <th>SibSp</th>\n",
       "      <th>Did not Survive</th>\n",
       "    </tr>\n",
       "    <tr>\n",
       "      <th>Survived</th>\n",
       "      <th></th>\n",
       "      <th></th>\n",
       "    </tr>\n",
       "  </thead>\n",
       "  <tbody>\n",
       "    <tr>\n",
       "      <th>0</th>\n",
       "      <td>0.553734</td>\n",
       "      <td>0.446266</td>\n",
       "    </tr>\n",
       "    <tr>\n",
       "      <th>1</th>\n",
       "      <td>0.473684</td>\n",
       "      <td>0.526316</td>\n",
       "    </tr>\n",
       "  </tbody>\n",
       "</table>\n",
       "</div>"
      ],
      "text/plain": [
       "             SibSp  Did not Survive\n",
       "Survived                           \n",
       "0         0.553734         0.446266\n",
       "1         0.473684         0.526316"
      ]
     },
     "metadata": {},
     "output_type": "display_data"
    }
   ],
   "source": [
    "grp = df[[\"SibSp\",\"Survived\"]].groupby([\"Survived\"]).mean()\n",
    "\n",
    "grp[\"Did not Survive\"] = 1 - grp[\"SibSp\"]\n",
    "display(grp)\n",
    "grp.columns = [\"Sibling/Spouse present\",\"No siblings/spouse\"]"
   ]
  },
  {
   "cell_type": "code",
   "execution_count": 25,
   "id": "b630bbb2",
   "metadata": {},
   "outputs": [
    {
     "data": {
      "text/plain": [
       "<Figure size 1080x360 with 0 Axes>"
      ]
     },
     "metadata": {},
     "output_type": "display_data"
    },
    {
     "data": {
      "image/png": "[encoded data removed]",
      "text/plain": [
       "<Figure size 432x288 with 1 Axes>"
      ]
     },
     "metadata": {},
     "output_type": "display_data"
    }
   ],
   "source": [
    "f = plt.figure(figsize=(15,5))\n",
    "ax = grp.plot(kind='bar');\n",
    "for container in ax.containers:\n",
    "    ax.bar_label(container);\n",
    "    \n",
    "ax.legend(loc=\"lower left\");"
   ]
  },
  {
   "cell_type": "code",
   "execution_count": 26,
   "id": "f32f11ad",
   "metadata": {},
   "outputs": [],
   "source": [
    "grp = df[[\"SibSp\",\"Survived\"]].groupby([\"SibSp\"]).sum()\n",
    "\n",
    "grp = pd.concat([grp,df[\"SibSp\"].value_counts()],axis=1)\n",
    "grp[\"Did not Survive\"] = grp[\"SibSp\"] - grp[\"Survived\"]\n",
    "grp.columns = [\"Survived\",\"Value Count\",\"Did not Survive\"]\n",
    "grp.drop(\"Value Count\",axis=1,inplace=True)"
   ]
  },
  {
   "cell_type": "code",
   "execution_count": 27,
   "id": "da0c32b8",
   "metadata": {},
   "outputs": [
    {
     "data": {
      "text/plain": [
       "<AxesSubplot:>"
      ]
     },
     "execution_count": 27,
     "metadata": {},
     "output_type": "execute_result"
    },
    {
     "data": {
      "image/png": "[encoded data removed]",
      "text/plain": [
       "<Figure size 432x288 with 1 Axes>"
      ]
     },
     "metadata": {},
     "output_type": "display_data"
    }
   ],
   "source": [
    "grp.plot(kind=\"bar\")"
   ]
  },
  {
   "cell_type": "markdown",
   "id": "d2d3d6a3",
   "metadata": {},
   "source": [
    "#### Observations\n",
    "\n",
    "<ol>\n",
    "    <li>Majority of the passengers do not have siblings/spouse. Roughly 32% have at least one sibling/spouse.</li>\n",
    "    <li>Out of those that died, a higher percentage of them do not have a sibling/spouse</li>\n",
    "    <li>55% of the people that have siblings/spouse survive, while only 45% of those that do not have siblings/spouse survive.</li>\n",
    "    <li>We can conclude that having siblings/spouses will have higher odds of survival.</li>\n",
    "    <li><b>On further inspection, we notice that those that have 2 or more siblings/spouse have higher odds of survival</b></li>\n",
    "</ol>"
   ]
  },
  {
   "cell_type": "markdown",
   "id": "fc68217c",
   "metadata": {},
   "source": [
    "### - Parch (Parent children)"
   ]
  },
  {
   "cell_type": "code",
   "execution_count": 28,
   "id": "86f85c32",
   "metadata": {},
   "outputs": [
    {
     "data": {
      "image/png": "[encoded data removed]",
      "text/plain": [
       "<Figure size 1080x360 with 2 Axes>"
      ]
     },
     "metadata": {},
     "output_type": "display_data"
    }
   ],
   "source": [
    "f = plt.figure(figsize=(15,5))\n",
    "plt.subplot(1,2,1)\n",
    "ax = df[\"Parch\"].value_counts().plot(kind=\"bar\");\n",
    "\n",
    "for container in ax.containers:\n",
    "    ax.bar_label(container);\n",
    "    \n",
    "ax.legend(loc=\"upper right\");\n",
    "\n",
    "plt.subplot(1,2,2)\n",
    "ax2 = df[\"Parch\"].value_counts().plot(kind=\"pie\",\n",
    "                                      autopct=\"%.2f\",\n",
    "                                      startangle=200,\n",
    "                                      explode=(0,0,0,0.8,0.5,0.4,0.2));"
   ]
  },
  {
   "cell_type": "code",
   "execution_count": 29,
   "id": "962b7071",
   "metadata": {},
   "outputs": [
    {
     "data": {
      "image/png": "[encoded data removed]",
      "text/plain": [
       "<Figure size 432x288 with 1 Axes>"
      ]
     },
     "metadata": {},
     "output_type": "display_data"
    }
   ],
   "source": [
    "grp = df[[\"Parch\",\"Survived\"]].groupby([\"Survived\"])\n",
    "\n",
    "grp_avg = grp.mean()\n",
    "grp_avg[\"No Parch\"] = 1 - grp_avg[\"Parch\"]\n",
    "ax = grp_avg.plot(kind=\"bar\")\n",
    "for container in ax.containers:\n",
    "    ax.bar_label(container)\n",
    "    \n",
    "ax.legend(loc=\"upper left\");"
   ]
  },
  {
   "cell_type": "code",
   "execution_count": 30,
   "id": "87a28522",
   "metadata": {},
   "outputs": [
    {
     "data": {
      "text/html": [
       "<div>\n",
       "<style scoped>\n",
       "    .dataframe tbody tr th:only-of-type {\n",
       "        vertical-align: middle;\n",
       "    }\n",
       "\n",
       "    .dataframe tbody tr th {\n",
       "        vertical-align: top;\n",
       "    }\n",
       "\n",
       "    .dataframe thead th {\n",
       "        text-align: right;\n",
       "    }\n",
       "</style>\n",
       "<table border=\"1\" class=\"dataframe\">\n",
       "  <thead>\n",
       "    <tr style=\"text-align: right;\">\n",
       "      <th></th>\n",
       "      <th>Survived</th>\n",
       "      <th>Did not Survive</th>\n",
       "    </tr>\n",
       "    <tr>\n",
       "      <th>Parch</th>\n",
       "      <th></th>\n",
       "      <th></th>\n",
       "    </tr>\n",
       "  </thead>\n",
       "  <tbody>\n",
       "    <tr>\n",
       "      <th>0</th>\n",
       "      <td>0.343658</td>\n",
       "      <td>0.656342</td>\n",
       "    </tr>\n",
       "    <tr>\n",
       "      <th>1</th>\n",
       "      <td>0.550847</td>\n",
       "      <td>0.449153</td>\n",
       "    </tr>\n",
       "    <tr>\n",
       "      <th>2</th>\n",
       "      <td>0.500000</td>\n",
       "      <td>0.500000</td>\n",
       "    </tr>\n",
       "    <tr>\n",
       "      <th>3</th>\n",
       "      <td>0.600000</td>\n",
       "      <td>0.400000</td>\n",
       "    </tr>\n",
       "    <tr>\n",
       "      <th>4</th>\n",
       "      <td>0.000000</td>\n",
       "      <td>1.000000</td>\n",
       "    </tr>\n",
       "    <tr>\n",
       "      <th>5</th>\n",
       "      <td>0.200000</td>\n",
       "      <td>0.800000</td>\n",
       "    </tr>\n",
       "    <tr>\n",
       "      <th>6</th>\n",
       "      <td>0.000000</td>\n",
       "      <td>1.000000</td>\n",
       "    </tr>\n",
       "  </tbody>\n",
       "</table>\n",
       "</div>"
      ],
      "text/plain": [
       "       Survived  Did not Survive\n",
       "Parch                           \n",
       "0      0.343658         0.656342\n",
       "1      0.550847         0.449153\n",
       "2      0.500000         0.500000\n",
       "3      0.600000         0.400000\n",
       "4      0.000000         1.000000\n",
       "5      0.200000         0.800000\n",
       "6      0.000000         1.000000"
      ]
     },
     "execution_count": 30,
     "metadata": {},
     "output_type": "execute_result"
    }
   ],
   "source": [
    "grp2 = df[[\"Parch\",\"Survived\"]].groupby([\"Parch\"])\n",
    "grp2_avg = grp2.mean()\n",
    "grp2_avg[\"Did not Survive\"] = 1 - grp2_avg[\"Survived\"]\n",
    "grp2_avg"
   ]
  },
  {
   "cell_type": "code",
   "execution_count": 31,
   "id": "6d8cee29",
   "metadata": {},
   "outputs": [
    {
     "data": {
      "image/png": "[encoded data removed]",
      "text/plain": [
       "<Figure size 432x288 with 1 Axes>"
      ]
     },
     "metadata": {},
     "output_type": "display_data"
    }
   ],
   "source": [
    "ax = grp2_avg.plot(kind='bar')\n",
    "\n",
    "for container in ax.containers:\n",
    "    ax.bar_label(container);\n",
    "ax.legend(loc = \"upper left\");"
   ]
  },
  {
   "cell_type": "markdown",
   "id": "00199b3d",
   "metadata": {},
   "source": [
    "#### Observations\n",
    "\n",
    "<ol>\n",
    "    <li>From the data, we notice that a higher percentage of people that did not survive did not have parents/children. Although a higher percentage of people that had parents/children also did not survive, the percentage of people that were alone that died is still higher</li>\n",
    "    <li>On closer inspection, we notice that family sizes between 2 and 4 had the highest chances of survival. Singles, and those that had family sizes of 5 and more have lower chances of survival</li>\n",
    "</ol>"
   ]
  },
  {
   "cell_type": "markdown",
   "id": "488e54f2",
   "metadata": {},
   "source": [
    "### - Embarkation"
   ]
  },
  {
   "cell_type": "code",
   "execution_count": 32,
   "id": "df87a8e6",
   "metadata": {},
   "outputs": [
    {
     "data": {
      "image/png": "[encoded data removed]",
      "text/plain": [
       "<Figure size 1440x576 with 2 Axes>"
      ]
     },
     "metadata": {},
     "output_type": "display_data"
    }
   ],
   "source": [
    "plt.figure(figsize=(20,8))\n",
    "\n",
    "plt.subplot(1,2,1)\n",
    "ax = df[\"Embarked\"].value_counts().plot(kind='bar')\n",
    "for container in ax.containers:\n",
    "    ax.bar_label(container);\n",
    "\n",
    "    \n",
    "plt.subplot(1,2,2)\n",
    "ax2 = df[\"Embarked\"].value_counts().plot(kind=\"pie\", autopct=\"%.2f\");"
   ]
  },
  {
   "cell_type": "code",
   "execution_count": 33,
   "id": "5d4ec6bc",
   "metadata": {},
   "outputs": [
    {
     "data": {
      "text/html": [
       "<div>\n",
       "<style scoped>\n",
       "    .dataframe tbody tr th:only-of-type {\n",
       "        vertical-align: middle;\n",
       "    }\n",
       "\n",
       "    .dataframe tbody tr th {\n",
       "        vertical-align: top;\n",
       "    }\n",
       "\n",
       "    .dataframe thead th {\n",
       "        text-align: right;\n",
       "    }\n",
       "</style>\n",
       "<table border=\"1\" class=\"dataframe\">\n",
       "  <thead>\n",
       "    <tr style=\"text-align: right;\">\n",
       "      <th></th>\n",
       "      <th>Survived</th>\n",
       "      <th>Did not survive</th>\n",
       "    </tr>\n",
       "    <tr>\n",
       "      <th>Embarked</th>\n",
       "      <th></th>\n",
       "      <th></th>\n",
       "    </tr>\n",
       "  </thead>\n",
       "  <tbody>\n",
       "    <tr>\n",
       "      <th>C</th>\n",
       "      <td>0.553571</td>\n",
       "      <td>0.446429</td>\n",
       "    </tr>\n",
       "    <tr>\n",
       "      <th>Q</th>\n",
       "      <td>0.389610</td>\n",
       "      <td>0.610390</td>\n",
       "    </tr>\n",
       "    <tr>\n",
       "      <th>S</th>\n",
       "      <td>0.339009</td>\n",
       "      <td>0.660991</td>\n",
       "    </tr>\n",
       "  </tbody>\n",
       "</table>\n",
       "</div>"
      ],
      "text/plain": [
       "          Survived  Did not survive\n",
       "Embarked                           \n",
       "C         0.553571         0.446429\n",
       "Q         0.389610         0.610390\n",
       "S         0.339009         0.660991"
      ]
     },
     "execution_count": 33,
     "metadata": {},
     "output_type": "execute_result"
    }
   ],
   "source": [
    "emb_sur = df[['Embarked',\"Survived\"]].groupby([\"Embarked\"])\n",
    "emb_sur = emb_sur.mean()\n",
    "emb_sur['Did not survive'] = 1-emb_sur['Survived']\n",
    "emb_sur"
   ]
  },
  {
   "cell_type": "code",
   "execution_count": 34,
   "id": "60ec31ee",
   "metadata": {},
   "outputs": [
    {
     "data": {
      "image/png": "[encoded data removed]",
      "text/plain": [
       "<Figure size 1440x576 with 1 Axes>"
      ]
     },
     "metadata": {},
     "output_type": "display_data"
    }
   ],
   "source": [
    "ax = emb_sur.plot(kind='bar', figsize=(20,8), fontsize=15)\n",
    "for container in ax.containers:\n",
    "    ax.bar_label(container);\n",
    "\n",
    "plt.legend(loc=\"lower left\");"
   ]
  },
  {
   "cell_type": "markdown",
   "id": "ccade168",
   "metadata": {},
   "source": [
    "#### Observations\n",
    "\n",
    "<ol>\n",
    "    <li>There are a larger proportion of passengers that have embarked from southampton. Queenstown has the least</li>\n",
    "    <li>Those that embarked from Queenstown and Southampton have a higher chance of dying. Those from southamption have a slightly higher chance of survival</li>\n",
    "</ol>"
   ]
  },
  {
   "cell_type": "code",
   "execution_count": 35,
   "id": "ffd50b86",
   "metadata": {},
   "outputs": [],
   "source": [
    "# Get the title from each name\n",
    "\n",
    "def get_title(name):\n",
    "    return name.split(',')[1].strip().split('.')[0].strip()\n",
    "\n",
    "df[\"Title\"] = df[\"Name\"].apply(lambda x: get_title(x))\n"
   ]
  },
  {
   "cell_type": "code",
   "execution_count": 36,
   "id": "1ac54870",
   "metadata": {},
   "outputs": [
    {
     "data": {
      "text/plain": [
       "Mr              517\n",
       "Miss            182\n",
       "Mrs             125\n",
       "Master           40\n",
       "Dr                7\n",
       "Rev               6\n",
       "Mlle              2\n",
       "Major             2\n",
       "Col               2\n",
       "the Countess      1\n",
       "Capt              1\n",
       "Ms                1\n",
       "Sir               1\n",
       "Lady              1\n",
       "Mme               1\n",
       "Don               1\n",
       "Jonkheer          1\n",
       "Name: Title, dtype: int64"
      ]
     },
     "execution_count": 36,
     "metadata": {},
     "output_type": "execute_result"
    }
   ],
   "source": [
    "df[\"Title\"].value_counts()"
   ]
  },
  {
   "cell_type": "code",
   "execution_count": 37,
   "id": "4bc5db2f",
   "metadata": {},
   "outputs": [],
   "source": [
    "# df['Title'].replace(['Rev', 'Dr', 'Col', 'Ms', 'Mlle', 'Major', 'the Countess', \n",
    "#                      'Capt', 'Dona', 'Jonkheer', 'Lady', 'Sir', 'Mme', 'Don'], 'Other',regex= True, inplace=True)\n",
    "\n",
    "df['Title'].replace(['Ms', 'Mlle', 'the Countess', \n",
    "                     'Dona','Lady', 'Mme'], 'High Class Female',regex= True, inplace=True)\n",
    "\n",
    "df['Title'].replace(['Rev', 'Dr', 'Col', 'Major',\n",
    "                     'Capt', 'Sir', 'Don'], 'Other',regex= True, inplace=True)"
   ]
  },
  {
   "cell_type": "code",
   "execution_count": 38,
   "id": "b4506337",
   "metadata": {
    "scrolled": false
   },
   "outputs": [
    {
     "data": {
      "image/png": "[encoded data removed]",
      "text/plain": [
       "<Figure size 1440x576 with 2 Axes>"
      ]
     },
     "metadata": {},
     "output_type": "display_data"
    }
   ],
   "source": [
    "plt.figure(figsize=(20,8))\n",
    "plt.subplot(1,2,1)\n",
    "ax = df[\"Title\"].value_counts().plot(kind='bar');\n",
    "for container in ax.containers:\n",
    "    ax.bar_label(container);\n",
    "    \n",
    "\n",
    "plt.subplot(1,2,2)\n",
    "ax = df[\"Title\"].value_counts().plot(kind='pie', autopct=\"%.2f\");\n",
    "for container in ax.containers:\n",
    "    ax.bar_label(container);\n",
    "    \n",
    "plt.legend();"
   ]
  },
  {
   "cell_type": "code",
   "execution_count": 39,
   "id": "9dd097f0",
   "metadata": {
    "scrolled": false
   },
   "outputs": [
    {
     "data": {
      "text/html": [
       "<div>\n",
       "<style scoped>\n",
       "    .dataframe tbody tr th:only-of-type {\n",
       "        vertical-align: middle;\n",
       "    }\n",
       "\n",
       "    .dataframe tbody tr th {\n",
       "        vertical-align: top;\n",
       "    }\n",
       "\n",
       "    .dataframe thead th {\n",
       "        text-align: right;\n",
       "    }\n",
       "</style>\n",
       "<table border=\"1\" class=\"dataframe\">\n",
       "  <thead>\n",
       "    <tr style=\"text-align: right;\">\n",
       "      <th></th>\n",
       "      <th></th>\n",
       "      <th>Survived</th>\n",
       "      <th>Survived Count</th>\n",
       "      <th>Did not survive</th>\n",
       "      <th>Did not survive count</th>\n",
       "    </tr>\n",
       "    <tr>\n",
       "      <th>Title</th>\n",
       "      <th>Sex</th>\n",
       "      <th></th>\n",
       "      <th></th>\n",
       "      <th></th>\n",
       "      <th></th>\n",
       "    </tr>\n",
       "  </thead>\n",
       "  <tbody>\n",
       "    <tr>\n",
       "      <th>High Class Female</th>\n",
       "      <th>female</th>\n",
       "      <td>1.000000</td>\n",
       "      <td>6</td>\n",
       "      <td>0.000000</td>\n",
       "      <td>0</td>\n",
       "    </tr>\n",
       "    <tr>\n",
       "      <th>Jonkheer</th>\n",
       "      <th>male</th>\n",
       "      <td>0.000000</td>\n",
       "      <td>0</td>\n",
       "      <td>1.000000</td>\n",
       "      <td>1</td>\n",
       "    </tr>\n",
       "    <tr>\n",
       "      <th>Master</th>\n",
       "      <th>male</th>\n",
       "      <td>0.575000</td>\n",
       "      <td>23</td>\n",
       "      <td>0.425000</td>\n",
       "      <td>17</td>\n",
       "    </tr>\n",
       "    <tr>\n",
       "      <th>Miss</th>\n",
       "      <th>female</th>\n",
       "      <td>0.697802</td>\n",
       "      <td>127</td>\n",
       "      <td>0.302198</td>\n",
       "      <td>55</td>\n",
       "    </tr>\n",
       "    <tr>\n",
       "      <th>Mr</th>\n",
       "      <th>male</th>\n",
       "      <td>0.156673</td>\n",
       "      <td>81</td>\n",
       "      <td>0.843327</td>\n",
       "      <td>436</td>\n",
       "    </tr>\n",
       "    <tr>\n",
       "      <th>Mrs</th>\n",
       "      <th>female</th>\n",
       "      <td>0.792000</td>\n",
       "      <td>99</td>\n",
       "      <td>0.208000</td>\n",
       "      <td>26</td>\n",
       "    </tr>\n",
       "    <tr>\n",
       "      <th rowspan=\"2\" valign=\"top\">Other</th>\n",
       "      <th>female</th>\n",
       "      <td>1.000000</td>\n",
       "      <td>1</td>\n",
       "      <td>0.000000</td>\n",
       "      <td>0</td>\n",
       "    </tr>\n",
       "    <tr>\n",
       "      <th>male</th>\n",
       "      <td>0.263158</td>\n",
       "      <td>5</td>\n",
       "      <td>0.736842</td>\n",
       "      <td>14</td>\n",
       "    </tr>\n",
       "  </tbody>\n",
       "</table>\n",
       "</div>"
      ],
      "text/plain": [
       "                          Survived  Survived Count  Did not survive  \\\n",
       "Title             Sex                                                 \n",
       "High Class Female female  1.000000               6         0.000000   \n",
       "Jonkheer          male    0.000000               0         1.000000   \n",
       "Master            male    0.575000              23         0.425000   \n",
       "Miss              female  0.697802             127         0.302198   \n",
       "Mr                male    0.156673              81         0.843327   \n",
       "Mrs               female  0.792000              99         0.208000   \n",
       "Other             female  1.000000               1         0.000000   \n",
       "                  male    0.263158               5         0.736842   \n",
       "\n",
       "                          Did not survive count  \n",
       "Title             Sex                            \n",
       "High Class Female female                      0  \n",
       "Jonkheer          male                        1  \n",
       "Master            male                       17  \n",
       "Miss              female                     55  \n",
       "Mr                male                      436  \n",
       "Mrs               female                     26  \n",
       "Other             female                      0  \n",
       "                  male                       14  "
      ]
     },
     "execution_count": 39,
     "metadata": {},
     "output_type": "execute_result"
    }
   ],
   "source": [
    "survived = df[['Title','Survived',\"Sex\"]].groupby(['Title',\"Sex\"]).agg(['mean','sum'])\n",
    "\n",
    "survived.columns=['Survived','Survived Count']\n",
    "survived[\"Did not survive\"] = 1 - survived['Survived']\n",
    "survived[\"Did not survive count\"] = df[[\"Title\",\"Sex\"]].value_counts() - survived[\"Survived Count\"]\n",
    "survived"
   ]
  },
  {
   "cell_type": "code",
   "execution_count": 40,
   "id": "a1cc2130",
   "metadata": {},
   "outputs": [
    {
     "data": {
      "image/png": "[encoded data removed]",
      "text/plain": [
       "<Figure size 1440x1080 with 1 Axes>"
      ]
     },
     "metadata": {},
     "output_type": "display_data"
    }
   ],
   "source": [
    "ax = survived[[\"Survived Count\",\"Did not survive count\"]].plot(kind='barh',figsize=(20,15), fontsize=20);\n",
    "for container in ax.containers:\n",
    "    ax.bar_label(container);\n",
    "    \n",
    "plt.show();"
   ]
  },
  {
   "cell_type": "markdown",
   "id": "964dbf60",
   "metadata": {},
   "source": [
    "#### Observations\n",
    "\n",
    "<ol>\n",
    "    <li>Confirms our earlier finding that females tend to have a higher survival rate</li>\n",
    "    <li>Highest title count = \"Mr\"</li>\n",
    "    <li>Males that have the 'master' or 'dr' title tend to have higher surival rates</li>\n",
    "    <li>Individuals with more prestigious titles have a higher survial rate</li>\n",
    "</ol>"
   ]
  },
  {
   "cell_type": "markdown",
   "id": "545d06ce",
   "metadata": {},
   "source": [
    "### - Age \n",
    "\n",
    "For continuous values, we need to convert them into categorical variables by binning\n",
    "<br>\n",
    "Since max age = 80, we can divide the range of 0 - 80 into 5 bins"
   ]
  },
  {
   "cell_type": "code",
   "execution_count": 41,
   "id": "7b160ab3",
   "metadata": {},
   "outputs": [
    {
     "data": {
      "text/plain": [
       "count    891.000000\n",
       "mean      29.361582\n",
       "std       13.019697\n",
       "min        0.420000\n",
       "25%       22.000000\n",
       "50%       28.000000\n",
       "75%       35.000000\n",
       "max       80.000000\n",
       "Name: Age, dtype: float64"
      ]
     },
     "execution_count": 41,
     "metadata": {},
     "output_type": "execute_result"
    }
   ],
   "source": [
    "df[\"Age\"].describe()"
   ]
  },
  {
   "cell_type": "code",
   "execution_count": 42,
   "id": "a4163323",
   "metadata": {},
   "outputs": [],
   "source": [
    "# Since max age = 80, we can divide it into 5 bins\n",
    "df.loc[ df['Age'] <= 16, 'Age'] = 0\n",
    "df.loc[(df['Age'] > 16) & (df['Age'] <= 26), 'Age'] = 1\n",
    "df.loc[(df['Age'] > 26) & (df['Age'] <= 36), 'Age'] = 2\n",
    "df.loc[(df['Age'] > 36) & (df['Age'] <= 62), 'Age'] = 3\n",
    "df.loc[ df['Age'] > 62, 'Age'] = 4"
   ]
  },
  {
   "cell_type": "code",
   "execution_count": 43,
   "id": "7d908efa",
   "metadata": {},
   "outputs": [
    {
     "data": {
      "image/png": "[encoded data removed]",
      "text/plain": [
       "<Figure size 432x288 with 1 Axes>"
      ]
     },
     "metadata": {},
     "output_type": "display_data"
    }
   ],
   "source": [
    "ax = df[\"Age\"].value_counts().sort_index().plot(kind='bar')\n",
    "\n",
    "for container in ax.containers:\n",
    "    ax.bar_label(container);\n",
    "plt.show();"
   ]
  },
  {
   "cell_type": "code",
   "execution_count": 44,
   "id": "f8b4d22b",
   "metadata": {},
   "outputs": [
    {
     "data": {
      "text/html": [
       "<div>\n",
       "<style scoped>\n",
       "    .dataframe tbody tr th:only-of-type {\n",
       "        vertical-align: middle;\n",
       "    }\n",
       "\n",
       "    .dataframe tbody tr th {\n",
       "        vertical-align: top;\n",
       "    }\n",
       "\n",
       "    .dataframe thead th {\n",
       "        text-align: right;\n",
       "    }\n",
       "</style>\n",
       "<table border=\"1\" class=\"dataframe\">\n",
       "  <thead>\n",
       "    <tr style=\"text-align: right;\">\n",
       "      <th></th>\n",
       "      <th>Survived</th>\n",
       "      <th>Did not survive</th>\n",
       "    </tr>\n",
       "    <tr>\n",
       "      <th>Age</th>\n",
       "      <th></th>\n",
       "      <th></th>\n",
       "    </tr>\n",
       "  </thead>\n",
       "  <tbody>\n",
       "    <tr>\n",
       "      <th>0.0</th>\n",
       "      <td>55</td>\n",
       "      <td>45</td>\n",
       "    </tr>\n",
       "    <tr>\n",
       "      <th>1.0</th>\n",
       "      <td>75</td>\n",
       "      <td>144</td>\n",
       "    </tr>\n",
       "    <tr>\n",
       "      <th>2.0</th>\n",
       "      <td>140</td>\n",
       "      <td>237</td>\n",
       "    </tr>\n",
       "    <tr>\n",
       "      <th>3.0</th>\n",
       "      <td>69</td>\n",
       "      <td>111</td>\n",
       "    </tr>\n",
       "    <tr>\n",
       "      <th>4.0</th>\n",
       "      <td>3</td>\n",
       "      <td>12</td>\n",
       "    </tr>\n",
       "  </tbody>\n",
       "</table>\n",
       "</div>"
      ],
      "text/plain": [
       "     Survived  Did not survive\n",
       "Age                           \n",
       "0.0        55               45\n",
       "1.0        75              144\n",
       "2.0       140              237\n",
       "3.0        69              111\n",
       "4.0         3               12"
      ]
     },
     "execution_count": 44,
     "metadata": {},
     "output_type": "execute_result"
    }
   ],
   "source": [
    "age = df[[\"Age\",\"Survived\"]].groupby(['Age']).sum()\n",
    "age[\"Did not survive\"] = df[\"Age\"].value_counts() - age[\"Survived\"]\n",
    "age"
   ]
  },
  {
   "cell_type": "code",
   "execution_count": 45,
   "id": "efbd5d1b",
   "metadata": {},
   "outputs": [
    {
     "data": {
      "image/png": "[encoded data removed]",
      "text/plain": [
       "<Figure size 432x288 with 1 Axes>"
      ]
     },
     "metadata": {},
     "output_type": "display_data"
    }
   ],
   "source": [
    "ax = age.plot(kind='bar')\n",
    "for container in ax.containers:\n",
    "    ax.bar_label(container);\n",
    "plt.show();"
   ]
  },
  {
   "cell_type": "markdown",
   "id": "749f804d",
   "metadata": {},
   "source": [
    "#### Observations\n",
    "<ol>\n",
    "    <li>The distribution chart confirms that most of the passanger age is between \"26-36\" in the data.</li>\n",
    "    <li>The chart confirms that the passanger whose age between \"26-36\"are more likely survived.</li>\n",
    "    <li>The chart confirms that the passanger whose age more than \"62\" are more likely dead.</li>\n",
    "</ol>"
   ]
  },
  {
   "cell_type": "markdown",
   "id": "2c2a6cc0",
   "metadata": {},
   "source": [
    "### - Fare"
   ]
  },
  {
   "cell_type": "code",
   "execution_count": 46,
   "id": "51a614f5",
   "metadata": {},
   "outputs": [
    {
     "data": {
      "text/plain": [
       "<AxesSubplot:ylabel='Frequency'>"
      ]
     },
     "execution_count": 46,
     "metadata": {},
     "output_type": "execute_result"
    },
    {
     "data": {
      "image/png": "[encoded data removed]",
      "text/plain": [
       "<Figure size 432x288 with 1 Axes>"
      ]
     },
     "metadata": {},
     "output_type": "display_data"
    }
   ],
   "source": [
    "df[\"Fare\"].plot(kind='hist')"
   ]
  },
  {
   "cell_type": "code",
   "execution_count": 47,
   "id": "a6e83e13",
   "metadata": {},
   "outputs": [],
   "source": [
    "# We can see that the fare has some outliers. We plot this out by converting to a categorical variable\n",
    "# via binning"
   ]
  },
  {
   "cell_type": "code",
   "execution_count": 48,
   "id": "03c0e35c",
   "metadata": {},
   "outputs": [
    {
     "data": {
      "text/plain": [
       "count    891.000000\n",
       "mean      32.204208\n",
       "std       49.693429\n",
       "min        0.000000\n",
       "25%        7.910400\n",
       "50%       14.454200\n",
       "75%       31.000000\n",
       "max      512.329200\n",
       "Name: Fare, dtype: float64"
      ]
     },
     "execution_count": 48,
     "metadata": {},
     "output_type": "execute_result"
    }
   ],
   "source": [
    "df['Fare'].describe()"
   ]
  },
  {
   "cell_type": "code",
   "execution_count": 49,
   "id": "1097b775",
   "metadata": {},
   "outputs": [],
   "source": [
    "df.loc[ df['Fare'] <= 7.91, 'Fare'] = 0\n",
    "df.loc[(df['Fare'] > 7.91) & (df['Fare'] <= 14.454), 'Fare'] = 1\n",
    "df.loc[(df['Fare'] > 14.454) & (df['Fare'] <= 31), 'Fare']   = 2\n",
    "df.loc[(df['Fare'] > 31) & (df['Fare'] <= 99), 'Fare']   = 3\n",
    "df.loc[(df['Fare'] > 99) & (df['Fare'] <= 250), 'Fare']   = 4\n",
    "df.loc[ df['Fare'] > 250, 'Fare'] = 5\n",
    "df['Fare'] = df['Fare'].astype(int)"
   ]
  },
  {
   "cell_type": "code",
   "execution_count": 50,
   "id": "bb965ff5",
   "metadata": {},
   "outputs": [
    {
     "data": {
      "text/plain": [
       "<AxesSubplot:>"
      ]
     },
     "execution_count": 50,
     "metadata": {},
     "output_type": "execute_result"
    },
    {
     "data": {
      "image/png": "[encoded data removed]",
      "text/plain": [
       "<Figure size 432x288 with 1 Axes>"
      ]
     },
     "metadata": {},
     "output_type": "display_data"
    }
   ],
   "source": [
    "df['Fare'].value_counts().plot(kind=\"bar\")"
   ]
  },
  {
   "cell_type": "code",
   "execution_count": 51,
   "id": "085d60e1",
   "metadata": {},
   "outputs": [
    {
     "data": {
      "text/html": [
       "<div>\n",
       "<style scoped>\n",
       "    .dataframe tbody tr th:only-of-type {\n",
       "        vertical-align: middle;\n",
       "    }\n",
       "\n",
       "    .dataframe tbody tr th {\n",
       "        vertical-align: top;\n",
       "    }\n",
       "\n",
       "    .dataframe thead th {\n",
       "        text-align: right;\n",
       "    }\n",
       "</style>\n",
       "<table border=\"1\" class=\"dataframe\">\n",
       "  <thead>\n",
       "    <tr style=\"text-align: right;\">\n",
       "      <th></th>\n",
       "      <th>Survived</th>\n",
       "      <th>Did not survive</th>\n",
       "    </tr>\n",
       "    <tr>\n",
       "      <th>Fare</th>\n",
       "      <th></th>\n",
       "      <th></th>\n",
       "    </tr>\n",
       "  </thead>\n",
       "  <tbody>\n",
       "    <tr>\n",
       "      <th>0</th>\n",
       "      <td>44</td>\n",
       "      <td>179</td>\n",
       "    </tr>\n",
       "    <tr>\n",
       "      <th>1</th>\n",
       "      <td>67</td>\n",
       "      <td>150</td>\n",
       "    </tr>\n",
       "    <tr>\n",
       "      <th>2</th>\n",
       "      <td>102</td>\n",
       "      <td>127</td>\n",
       "    </tr>\n",
       "    <tr>\n",
       "      <th>3</th>\n",
       "      <td>90</td>\n",
       "      <td>79</td>\n",
       "    </tr>\n",
       "    <tr>\n",
       "      <th>4</th>\n",
       "      <td>32</td>\n",
       "      <td>12</td>\n",
       "    </tr>\n",
       "    <tr>\n",
       "      <th>5</th>\n",
       "      <td>7</td>\n",
       "      <td>2</td>\n",
       "    </tr>\n",
       "  </tbody>\n",
       "</table>\n",
       "</div>"
      ],
      "text/plain": [
       "      Survived  Did not survive\n",
       "Fare                           \n",
       "0           44              179\n",
       "1           67              150\n",
       "2          102              127\n",
       "3           90               79\n",
       "4           32               12\n",
       "5            7                2"
      ]
     },
     "execution_count": 51,
     "metadata": {},
     "output_type": "execute_result"
    }
   ],
   "source": [
    "fare = df[[\"Fare\",\"Survived\"]].groupby([\"Fare\"]).sum()\n",
    "fare[\"Did not survive\"] = df['Fare'].value_counts() - fare[\"Survived\"]\n",
    "\n",
    "fare"
   ]
  },
  {
   "cell_type": "code",
   "execution_count": 52,
   "id": "73686909",
   "metadata": {},
   "outputs": [
    {
     "data": {
      "text/plain": [
       "<AxesSubplot:xlabel='Fare'>"
      ]
     },
     "execution_count": 52,
     "metadata": {},
     "output_type": "execute_result"
    },
    {
     "data": {
      "image/png": "[encoded data removed]",
      "text/plain": [
       "<Figure size 432x288 with 1 Axes>"
      ]
     },
     "metadata": {},
     "output_type": "display_data"
    }
   ],
   "source": [
    "fare.plot(kind='bar')"
   ]
  },
  {
   "cell_type": "markdown",
   "id": "b55f201b",
   "metadata": {},
   "source": [
    "#### Observations\n",
    "1. The distribution chart confirms that we have a higher no. of \"1\" than other in the data.\n",
    "2. The chart confirms that whose fare is \"2\" are more likely survived.\n",
    "3. The chart confirms that whose fare is \"5\" are more likely dead."
   ]
  },
  {
   "cell_type": "markdown",
   "id": "f1c3dba4",
   "metadata": {},
   "source": [
    "### Numerical Correlation "
   ]
  },
  {
   "cell_type": "code",
   "execution_count": 53,
   "id": "c982b839",
   "metadata": {},
   "outputs": [
    {
     "data": {
      "text/html": [
       "<style type=\"text/css\">\n",
       "#T_14a92_row0_col0, #T_14a92_row1_col1, #T_14a92_row2_col2, #T_14a92_row3_col3, #T_14a92_row4_col4, #T_14a92_row5_col5 {\n",
       "  background-color: #b40426;\n",
       "  color: #f1f1f1;\n",
       "}\n",
       "#T_14a92_row0_col1 {\n",
       "  background-color: #779af7;\n",
       "  color: #f1f1f1;\n",
       "}\n",
       "#T_14a92_row0_col2 {\n",
       "  background-color: #6f92f3;\n",
       "  color: #f1f1f1;\n",
       "}\n",
       "#T_14a92_row0_col3, #T_14a92_row1_col4 {\n",
       "  background-color: #6c8ff1;\n",
       "  color: #f1f1f1;\n",
       "}\n",
       "#T_14a92_row0_col4 {\n",
       "  background-color: #80a3fa;\n",
       "  color: #f1f1f1;\n",
       "}\n",
       "#T_14a92_row0_col5 {\n",
       "  background-color: #efcfbf;\n",
       "  color: #000000;\n",
       "}\n",
       "#T_14a92_row1_col0, #T_14a92_row1_col2, #T_14a92_row1_col5, #T_14a92_row2_col3, #T_14a92_row2_col4, #T_14a92_row5_col1 {\n",
       "  background-color: #3b4cc0;\n",
       "  color: #f1f1f1;\n",
       "}\n",
       "#T_14a92_row1_col3 {\n",
       "  background-color: #8db0fe;\n",
       "  color: #000000;\n",
       "}\n",
       "#T_14a92_row2_col0 {\n",
       "  background-color: #7a9df8;\n",
       "  color: #f1f1f1;\n",
       "}\n",
       "#T_14a92_row2_col1 {\n",
       "  background-color: #82a6fb;\n",
       "  color: #f1f1f1;\n",
       "}\n",
       "#T_14a92_row2_col5 {\n",
       "  background-color: #c7d7f0;\n",
       "  color: #000000;\n",
       "}\n",
       "#T_14a92_row3_col0 {\n",
       "  background-color: #84a7fc;\n",
       "  color: #f1f1f1;\n",
       "}\n",
       "#T_14a92_row3_col1 {\n",
       "  background-color: #cedaeb;\n",
       "  color: #000000;\n",
       "}\n",
       "#T_14a92_row3_col2 {\n",
       "  background-color: #485fd1;\n",
       "  color: #f1f1f1;\n",
       "}\n",
       "#T_14a92_row3_col4 {\n",
       "  background-color: #dcdddd;\n",
       "  color: #000000;\n",
       "}\n",
       "#T_14a92_row3_col5 {\n",
       "  background-color: #f4c6af;\n",
       "  color: #000000;\n",
       "}\n",
       "#T_14a92_row4_col0 {\n",
       "  background-color: #a3c2fe;\n",
       "  color: #000000;\n",
       "}\n",
       "#T_14a92_row4_col1 {\n",
       "  background-color: #c3d5f4;\n",
       "  color: #000000;\n",
       "}\n",
       "#T_14a92_row4_col2 {\n",
       "  background-color: #5875e1;\n",
       "  color: #f1f1f1;\n",
       "}\n",
       "#T_14a92_row4_col3 {\n",
       "  background-color: #e3d9d3;\n",
       "  color: #000000;\n",
       "}\n",
       "#T_14a92_row4_col5 {\n",
       "  background-color: #f5c1a9;\n",
       "  color: #000000;\n",
       "}\n",
       "#T_14a92_row5_col0, #T_14a92_row5_col4 {\n",
       "  background-color: #d8dce2;\n",
       "  color: #000000;\n",
       "}\n",
       "#T_14a92_row5_col2 {\n",
       "  background-color: #90b2fe;\n",
       "  color: #000000;\n",
       "}\n",
       "#T_14a92_row5_col3 {\n",
       "  background-color: #d9dce1;\n",
       "  color: #000000;\n",
       "}\n",
       "</style>\n",
       "<table id=\"T_14a92_\">\n",
       "  <thead>\n",
       "    <tr>\n",
       "      <th class=\"blank level0\" >&nbsp;</th>\n",
       "      <th class=\"col_heading level0 col0\" >Survived</th>\n",
       "      <th class=\"col_heading level0 col1\" >Pclass</th>\n",
       "      <th class=\"col_heading level0 col2\" >Age</th>\n",
       "      <th class=\"col_heading level0 col3\" >SibSp</th>\n",
       "      <th class=\"col_heading level0 col4\" >Parch</th>\n",
       "      <th class=\"col_heading level0 col5\" >Fare</th>\n",
       "    </tr>\n",
       "  </thead>\n",
       "  <tbody>\n",
       "    <tr>\n",
       "      <th id=\"T_14a92_level0_row0\" class=\"row_heading level0 row0\" >Survived</th>\n",
       "      <td id=\"T_14a92_row0_col0\" class=\"data row0 col0\" >1.000000</td>\n",
       "      <td id=\"T_14a92_row0_col1\" class=\"data row0 col1\" >-0.338481</td>\n",
       "      <td id=\"T_14a92_row0_col2\" class=\"data row0 col2\" >-0.072077</td>\n",
       "      <td id=\"T_14a92_row0_col3\" class=\"data row0 col3\" >-0.035322</td>\n",
       "      <td id=\"T_14a92_row0_col4\" class=\"data row0 col4\" >0.081629</td>\n",
       "      <td id=\"T_14a92_row0_col5\" class=\"data row0 col5\" >0.307547</td>\n",
       "    </tr>\n",
       "    <tr>\n",
       "      <th id=\"T_14a92_level0_row1\" class=\"row_heading level0 row1\" >Pclass</th>\n",
       "      <td id=\"T_14a92_row1_col0\" class=\"data row1 col0\" >-0.338481</td>\n",
       "      <td id=\"T_14a92_row1_col1\" class=\"data row1 col1\" >1.000000</td>\n",
       "      <td id=\"T_14a92_row1_col2\" class=\"data row1 col2\" >-0.286667</td>\n",
       "      <td id=\"T_14a92_row1_col3\" class=\"data row1 col3\" >0.083081</td>\n",
       "      <td id=\"T_14a92_row1_col4\" class=\"data row1 col4\" >0.018443</td>\n",
       "      <td id=\"T_14a92_row1_col5\" class=\"data row1 col5\" >-0.653366</td>\n",
       "    </tr>\n",
       "    <tr>\n",
       "      <th id=\"T_14a92_level0_row2\" class=\"row_heading level0 row2\" >Age</th>\n",
       "      <td id=\"T_14a92_row2_col0\" class=\"data row2 col0\" >-0.072077</td>\n",
       "      <td id=\"T_14a92_row2_col1\" class=\"data row2 col1\" >-0.286667</td>\n",
       "      <td id=\"T_14a92_row2_col2\" class=\"data row2 col2\" >1.000000</td>\n",
       "      <td id=\"T_14a92_row2_col3\" class=\"data row2 col3\" >-0.228235</td>\n",
       "      <td id=\"T_14a92_row2_col4\" class=\"data row2 col4\" >-0.165474</td>\n",
       "      <td id=\"T_14a92_row2_col5\" class=\"data row2 col5\" >0.045597</td>\n",
       "    </tr>\n",
       "    <tr>\n",
       "      <th id=\"T_14a92_level0_row3\" class=\"row_heading level0 row3\" >SibSp</th>\n",
       "      <td id=\"T_14a92_row3_col0\" class=\"data row3 col0\" >-0.035322</td>\n",
       "      <td id=\"T_14a92_row3_col1\" class=\"data row3 col1\" >0.083081</td>\n",
       "      <td id=\"T_14a92_row3_col2\" class=\"data row3 col2\" >-0.228235</td>\n",
       "      <td id=\"T_14a92_row3_col3\" class=\"data row3 col3\" >1.000000</td>\n",
       "      <td id=\"T_14a92_row3_col4\" class=\"data row3 col4\" >0.414838</td>\n",
       "      <td id=\"T_14a92_row3_col5\" class=\"data row3 col5\" >0.368409</td>\n",
       "    </tr>\n",
       "    <tr>\n",
       "      <th id=\"T_14a92_level0_row4\" class=\"row_heading level0 row4\" >Parch</th>\n",
       "      <td id=\"T_14a92_row4_col0\" class=\"data row4 col0\" >0.081629</td>\n",
       "      <td id=\"T_14a92_row4_col1\" class=\"data row4 col1\" >0.018443</td>\n",
       "      <td id=\"T_14a92_row4_col2\" class=\"data row4 col2\" >-0.165474</td>\n",
       "      <td id=\"T_14a92_row4_col3\" class=\"data row4 col3\" >0.414838</td>\n",
       "      <td id=\"T_14a92_row4_col4\" class=\"data row4 col4\" >1.000000</td>\n",
       "      <td id=\"T_14a92_row4_col5\" class=\"data row4 col5\" >0.396754</td>\n",
       "    </tr>\n",
       "    <tr>\n",
       "      <th id=\"T_14a92_level0_row5\" class=\"row_heading level0 row5\" >Fare</th>\n",
       "      <td id=\"T_14a92_row5_col0\" class=\"data row5 col0\" >0.307547</td>\n",
       "      <td id=\"T_14a92_row5_col1\" class=\"data row5 col1\" >-0.653366</td>\n",
       "      <td id=\"T_14a92_row5_col2\" class=\"data row5 col2\" >0.045597</td>\n",
       "      <td id=\"T_14a92_row5_col3\" class=\"data row5 col3\" >0.368409</td>\n",
       "      <td id=\"T_14a92_row5_col4\" class=\"data row5 col4\" >0.396754</td>\n",
       "      <td id=\"T_14a92_row5_col5\" class=\"data row5 col5\" >1.000000</td>\n",
       "    </tr>\n",
       "  </tbody>\n",
       "</table>\n"
      ],
      "text/plain": [
       "<pandas.io.formats.style.Styler at 0x214e6228fd0>"
      ]
     },
     "execution_count": 53,
     "metadata": {},
     "output_type": "execute_result"
    }
   ],
   "source": [
    "corr = df[['Survived', 'Pclass', 'Age', 'SibSp', 'Parch', 'Fare']].corr()\n",
    "corr.style.background_gradient(cmap='coolwarm')"
   ]
  },
  {
   "cell_type": "markdown",
   "id": "12d59c63",
   "metadata": {},
   "source": [
    "# Feature Engineering"
   ]
  },
  {
   "cell_type": "markdown",
   "id": "f0bcfe24",
   "metadata": {},
   "source": [
    "### High P Class Female"
   ]
  },
  {
   "cell_type": "code",
   "execution_count": 54,
   "id": "27c59ae9",
   "metadata": {},
   "outputs": [
    {
     "data": {
      "text/plain": [
       "<AxesSubplot:ylabel='Sex,Pclass,Survived'>"
      ]
     },
     "execution_count": 54,
     "metadata": {},
     "output_type": "execute_result"
    },
    {
     "data": {
      "image/png": "[encoded data removed]",
      "text/plain": [
       "<Figure size 432x288 with 1 Axes>"
      ]
     },
     "metadata": {},
     "output_type": "display_data"
    }
   ],
   "source": [
    "test = df.groupby([\"Sex\",\"Pclass\",\"Survived\"]).sum()\n",
    "\n",
    "test.Counter.plot(kind='barh')"
   ]
  },
  {
   "cell_type": "markdown",
   "id": "557a9f85",
   "metadata": {},
   "source": [
    "\n",
    "<ol>\n",
    "    <li>High class females (p-class 2 or more have a lot higher chance of survival)</li>\n",
    "</ol>\n"
   ]
  },
  {
   "cell_type": "code",
   "execution_count": 55,
   "id": "22e8b1c1",
   "metadata": {},
   "outputs": [],
   "source": [
    "df[\"HighPClassFemale\"] = [1 if ((i[0]==\"female\")&(int(i[1]) <=2)) else 0 for i in  df[[\"Sex\",\"Pclass\"]].values]\n",
    "df[\"HighPClassFemale\"] = df[\"HighPClassFemale\"].astype(\"object\")"
   ]
  },
  {
   "cell_type": "markdown",
   "id": "c3088c62",
   "metadata": {},
   "source": [
    "### Family Size"
   ]
  },
  {
   "cell_type": "code",
   "execution_count": 56,
   "id": "8b7a9fd9",
   "metadata": {},
   "outputs": [
    {
     "data": {
      "text/html": [
       "<div>\n",
       "<style scoped>\n",
       "    .dataframe tbody tr th:only-of-type {\n",
       "        vertical-align: middle;\n",
       "    }\n",
       "\n",
       "    .dataframe tbody tr th {\n",
       "        vertical-align: top;\n",
       "    }\n",
       "\n",
       "    .dataframe thead th {\n",
       "        text-align: right;\n",
       "    }\n",
       "</style>\n",
       "<table border=\"1\" class=\"dataframe\">\n",
       "  <thead>\n",
       "    <tr style=\"text-align: right;\">\n",
       "      <th></th>\n",
       "      <th></th>\n",
       "      <th>0</th>\n",
       "    </tr>\n",
       "    <tr>\n",
       "      <th>Family Size</th>\n",
       "      <th>Survived</th>\n",
       "      <th></th>\n",
       "    </tr>\n",
       "  </thead>\n",
       "  <tbody>\n",
       "    <tr>\n",
       "      <th rowspan=\"2\" valign=\"top\">1</th>\n",
       "      <th>0</th>\n",
       "      <td>374</td>\n",
       "    </tr>\n",
       "    <tr>\n",
       "      <th>1</th>\n",
       "      <td>163</td>\n",
       "    </tr>\n",
       "    <tr>\n",
       "      <th rowspan=\"2\" valign=\"top\">2</th>\n",
       "      <th>0</th>\n",
       "      <td>72</td>\n",
       "    </tr>\n",
       "    <tr>\n",
       "      <th>1</th>\n",
       "      <td>89</td>\n",
       "    </tr>\n",
       "    <tr>\n",
       "      <th rowspan=\"2\" valign=\"top\">3</th>\n",
       "      <th>0</th>\n",
       "      <td>43</td>\n",
       "    </tr>\n",
       "    <tr>\n",
       "      <th>1</th>\n",
       "      <td>59</td>\n",
       "    </tr>\n",
       "    <tr>\n",
       "      <th rowspan=\"2\" valign=\"top\">4</th>\n",
       "      <th>0</th>\n",
       "      <td>8</td>\n",
       "    </tr>\n",
       "    <tr>\n",
       "      <th>1</th>\n",
       "      <td>21</td>\n",
       "    </tr>\n",
       "    <tr>\n",
       "      <th rowspan=\"2\" valign=\"top\">5</th>\n",
       "      <th>0</th>\n",
       "      <td>12</td>\n",
       "    </tr>\n",
       "    <tr>\n",
       "      <th>1</th>\n",
       "      <td>3</td>\n",
       "    </tr>\n",
       "    <tr>\n",
       "      <th rowspan=\"2\" valign=\"top\">6</th>\n",
       "      <th>0</th>\n",
       "      <td>19</td>\n",
       "    </tr>\n",
       "    <tr>\n",
       "      <th>1</th>\n",
       "      <td>3</td>\n",
       "    </tr>\n",
       "    <tr>\n",
       "      <th rowspan=\"2\" valign=\"top\">7</th>\n",
       "      <th>0</th>\n",
       "      <td>8</td>\n",
       "    </tr>\n",
       "    <tr>\n",
       "      <th>1</th>\n",
       "      <td>4</td>\n",
       "    </tr>\n",
       "    <tr>\n",
       "      <th>8</th>\n",
       "      <th>0</th>\n",
       "      <td>6</td>\n",
       "    </tr>\n",
       "    <tr>\n",
       "      <th>11</th>\n",
       "      <th>0</th>\n",
       "      <td>7</td>\n",
       "    </tr>\n",
       "  </tbody>\n",
       "</table>\n",
       "</div>"
      ],
      "text/plain": [
       "                        0\n",
       "Family Size Survived     \n",
       "1           0         374\n",
       "            1         163\n",
       "2           0          72\n",
       "            1          89\n",
       "3           0          43\n",
       "            1          59\n",
       "4           0           8\n",
       "            1          21\n",
       "5           0          12\n",
       "            1           3\n",
       "6           0          19\n",
       "            1           3\n",
       "7           0           8\n",
       "            1           4\n",
       "8           0           6\n",
       "11          0           7"
      ]
     },
     "metadata": {},
     "output_type": "display_data"
    }
   ],
   "source": [
    "df[\"Family Size\"] = df[\"SibSp\"] + df[\"Parch\"] + [1]*len(df)\n",
    "\n",
    "grp = df[['Sex','Family Size',\"Survived\"]].value_counts().groupby(['Family Size','Survived']).sum()\n",
    "display(pd.DataFrame(grp))"
   ]
  },
  {
   "cell_type": "code",
   "execution_count": 57,
   "id": "e52949a4",
   "metadata": {
    "scrolled": false
   },
   "outputs": [
    {
     "data": {
      "text/plain": [
       "<Figure size 1080x576 with 0 Axes>"
      ]
     },
     "execution_count": 57,
     "metadata": {},
     "output_type": "execute_result"
    },
    {
     "data": {
      "text/plain": [
       "<AxesSubplot:ylabel='Family Size,Survived'>"
      ]
     },
     "execution_count": 57,
     "metadata": {},
     "output_type": "execute_result"
    },
    {
     "data": {
      "image/png": "[encoded data removed]",
      "text/plain": [
       "<Figure size 1080x576 with 1 Axes>"
      ]
     },
     "metadata": {},
     "output_type": "display_data"
    }
   ],
   "source": [
    "plt.figure(figsize=(15,8))\n",
    "grp.plot(kind='barh')"
   ]
  },
  {
   "cell_type": "markdown",
   "id": "7cd34c63",
   "metadata": {},
   "source": [
    "People with a total family size between 2 and 4 have a higher chance of survival"
   ]
  },
  {
   "cell_type": "markdown",
   "id": "bd3d0488",
   "metadata": {},
   "source": [
    "### Cabin Prefix\n",
    "\n",
    "Deck\n",
    "\n",
    "This is going be very similar, we have a ‘Cabin’ column not doing much, only 1st class passengers have cabins, the rest are ‘Unknown’. A cabin number looks like ‘C123’. The letter refers to the deck, and so we’re going to extract these just like the titles."
   ]
  },
  {
   "cell_type": "code",
   "execution_count": 58,
   "id": "5717eb6b",
   "metadata": {},
   "outputs": [
    {
     "data": {
      "text/html": [
       "<div>\n",
       "<style scoped>\n",
       "    .dataframe tbody tr th:only-of-type {\n",
       "        vertical-align: middle;\n",
       "    }\n",
       "\n",
       "    .dataframe tbody tr th {\n",
       "        vertical-align: top;\n",
       "    }\n",
       "\n",
       "    .dataframe thead th {\n",
       "        text-align: right;\n",
       "    }\n",
       "</style>\n",
       "<table border=\"1\" class=\"dataframe\">\n",
       "  <thead>\n",
       "    <tr style=\"text-align: right;\">\n",
       "      <th></th>\n",
       "      <th>Survived</th>\n",
       "      <th>Pclass</th>\n",
       "      <th>Name</th>\n",
       "      <th>Sex</th>\n",
       "      <th>Age</th>\n",
       "      <th>SibSp</th>\n",
       "      <th>Parch</th>\n",
       "      <th>Ticket</th>\n",
       "      <th>Fare</th>\n",
       "      <th>Cabin</th>\n",
       "      <th>Embarked</th>\n",
       "      <th>Counter</th>\n",
       "      <th>Title</th>\n",
       "      <th>HighPClassFemale</th>\n",
       "      <th>Family Size</th>\n",
       "    </tr>\n",
       "  </thead>\n",
       "  <tbody>\n",
       "    <tr>\n",
       "      <th>0</th>\n",
       "      <td>0</td>\n",
       "      <td>3</td>\n",
       "      <td>Braund, Mr. Owen Harris</td>\n",
       "      <td>male</td>\n",
       "      <td>1.0</td>\n",
       "      <td>1</td>\n",
       "      <td>0</td>\n",
       "      <td>A/5 21171</td>\n",
       "      <td>0</td>\n",
       "      <td>NaN</td>\n",
       "      <td>S</td>\n",
       "      <td>1</td>\n",
       "      <td>Mr</td>\n",
       "      <td>0</td>\n",
       "      <td>2</td>\n",
       "    </tr>\n",
       "    <tr>\n",
       "      <th>1</th>\n",
       "      <td>1</td>\n",
       "      <td>1</td>\n",
       "      <td>Cumings, Mrs. John Bradley (Florence Briggs Th...</td>\n",
       "      <td>female</td>\n",
       "      <td>3.0</td>\n",
       "      <td>1</td>\n",
       "      <td>0</td>\n",
       "      <td>PC 17599</td>\n",
       "      <td>3</td>\n",
       "      <td>C85</td>\n",
       "      <td>C</td>\n",
       "      <td>1</td>\n",
       "      <td>Mrs</td>\n",
       "      <td>1</td>\n",
       "      <td>2</td>\n",
       "    </tr>\n",
       "    <tr>\n",
       "      <th>2</th>\n",
       "      <td>1</td>\n",
       "      <td>3</td>\n",
       "      <td>Heikkinen, Miss. Laina</td>\n",
       "      <td>female</td>\n",
       "      <td>1.0</td>\n",
       "      <td>0</td>\n",
       "      <td>0</td>\n",
       "      <td>STON/O2. 3101282</td>\n",
       "      <td>1</td>\n",
       "      <td>NaN</td>\n",
       "      <td>S</td>\n",
       "      <td>1</td>\n",
       "      <td>Miss</td>\n",
       "      <td>0</td>\n",
       "      <td>1</td>\n",
       "    </tr>\n",
       "    <tr>\n",
       "      <th>3</th>\n",
       "      <td>1</td>\n",
       "      <td>1</td>\n",
       "      <td>Futrelle, Mrs. Jacques Heath (Lily May Peel)</td>\n",
       "      <td>female</td>\n",
       "      <td>2.0</td>\n",
       "      <td>1</td>\n",
       "      <td>0</td>\n",
       "      <td>113803</td>\n",
       "      <td>3</td>\n",
       "      <td>C123</td>\n",
       "      <td>S</td>\n",
       "      <td>1</td>\n",
       "      <td>Mrs</td>\n",
       "      <td>1</td>\n",
       "      <td>2</td>\n",
       "    </tr>\n",
       "    <tr>\n",
       "      <th>4</th>\n",
       "      <td>0</td>\n",
       "      <td>3</td>\n",
       "      <td>Allen, Mr. William Henry</td>\n",
       "      <td>male</td>\n",
       "      <td>2.0</td>\n",
       "      <td>0</td>\n",
       "      <td>0</td>\n",
       "      <td>373450</td>\n",
       "      <td>1</td>\n",
       "      <td>NaN</td>\n",
       "      <td>S</td>\n",
       "      <td>1</td>\n",
       "      <td>Mr</td>\n",
       "      <td>0</td>\n",
       "      <td>1</td>\n",
       "    </tr>\n",
       "  </tbody>\n",
       "</table>\n",
       "</div>"
      ],
      "text/plain": [
       "   Survived  Pclass                                               Name  \\\n",
       "0         0       3                            Braund, Mr. Owen Harris   \n",
       "1         1       1  Cumings, Mrs. John Bradley (Florence Briggs Th...   \n",
       "2         1       3                             Heikkinen, Miss. Laina   \n",
       "3         1       1       Futrelle, Mrs. Jacques Heath (Lily May Peel)   \n",
       "4         0       3                           Allen, Mr. William Henry   \n",
       "\n",
       "      Sex  Age  SibSp  Parch            Ticket  Fare Cabin Embarked  Counter  \\\n",
       "0    male  1.0      1      0         A/5 21171     0   NaN        S        1   \n",
       "1  female  3.0      1      0          PC 17599     3   C85        C        1   \n",
       "2  female  1.0      0      0  STON/O2. 3101282     1   NaN        S        1   \n",
       "3  female  2.0      1      0            113803     3  C123        S        1   \n",
       "4    male  2.0      0      0            373450     1   NaN        S        1   \n",
       "\n",
       "  Title HighPClassFemale  Family Size  \n",
       "0    Mr                0            2  \n",
       "1   Mrs                1            2  \n",
       "2  Miss                0            1  \n",
       "3   Mrs                1            2  \n",
       "4    Mr                0            1  "
      ]
     },
     "execution_count": 58,
     "metadata": {},
     "output_type": "execute_result"
    }
   ],
   "source": [
    "df.head()"
   ]
  },
  {
   "cell_type": "code",
   "execution_count": 59,
   "id": "61cc03f7",
   "metadata": {},
   "outputs": [
    {
     "data": {
      "image/png": "[encoded data removed]",
      "text/plain": [
       "<Figure size 1080x720 with 1 Axes>"
      ]
     },
     "metadata": {},
     "output_type": "display_data"
    }
   ],
   "source": [
    "grp = df[[\"Cabin\",\"Counter\",\"Pclass\",\"Survived\"]].groupby([\"Pclass\"]).sum()\n",
    "grp[\"Died\"] = grp[\"Counter\"] - grp[\"Survived\"]\n",
    "grp.drop(\"Counter\",inplace=True,axis=1)\n",
    "\n",
    "grp.plot(kind=\"barh\",figsize=(15,10),title=\"Non Missing cabin values\");"
   ]
  },
  {
   "cell_type": "markdown",
   "id": "6df948a9",
   "metadata": {},
   "source": [
    "People with multiple cabin numbers means that family size > 1 and each family member is staying in seperate cabins"
   ]
  },
  {
   "cell_type": "code",
   "execution_count": 60,
   "id": "de3c8704",
   "metadata": {},
   "outputs": [
    {
     "data": {
      "text/html": [
       "<div>\n",
       "<style scoped>\n",
       "    .dataframe tbody tr th:only-of-type {\n",
       "        vertical-align: middle;\n",
       "    }\n",
       "\n",
       "    .dataframe tbody tr th {\n",
       "        vertical-align: top;\n",
       "    }\n",
       "\n",
       "    .dataframe thead th {\n",
       "        text-align: right;\n",
       "    }\n",
       "</style>\n",
       "<table border=\"1\" class=\"dataframe\">\n",
       "  <thead>\n",
       "    <tr style=\"text-align: right;\">\n",
       "      <th></th>\n",
       "      <th>Survived</th>\n",
       "      <th>Pclass</th>\n",
       "      <th>Name</th>\n",
       "      <th>Sex</th>\n",
       "      <th>Age</th>\n",
       "      <th>SibSp</th>\n",
       "      <th>Parch</th>\n",
       "      <th>Ticket</th>\n",
       "      <th>Fare</th>\n",
       "      <th>Cabin</th>\n",
       "      <th>Embarked</th>\n",
       "      <th>Counter</th>\n",
       "      <th>Title</th>\n",
       "      <th>HighPClassFemale</th>\n",
       "      <th>Family Size</th>\n",
       "    </tr>\n",
       "  </thead>\n",
       "  <tbody>\n",
       "    <tr>\n",
       "      <th>339</th>\n",
       "      <td>0</td>\n",
       "      <td>1</td>\n",
       "      <td>Blackwell, Mr. Stephen Weart</td>\n",
       "      <td>male</td>\n",
       "      <td>3.0</td>\n",
       "      <td>0</td>\n",
       "      <td>0</td>\n",
       "      <td>113784</td>\n",
       "      <td>3</td>\n",
       "      <td>T</td>\n",
       "      <td>S</td>\n",
       "      <td>1</td>\n",
       "      <td>Mr</td>\n",
       "      <td>0</td>\n",
       "      <td>1</td>\n",
       "    </tr>\n",
       "  </tbody>\n",
       "</table>\n",
       "</div>"
      ],
      "text/plain": [
       "     Survived  Pclass                          Name   Sex  Age  SibSp  Parch  \\\n",
       "339         0       1  Blackwell, Mr. Stephen Weart  male  3.0      0      0   \n",
       "\n",
       "     Ticket  Fare Cabin Embarked  Counter Title HighPClassFemale  Family Size  \n",
       "339  113784     3     T        S        1    Mr                0            1  "
      ]
     },
     "execution_count": 60,
     "metadata": {},
     "output_type": "execute_result"
    }
   ],
   "source": [
    "df[df[\"Cabin\"]==\"T\"]"
   ]
  },
  {
   "cell_type": "code",
   "execution_count": 61,
   "id": "5447f4ef",
   "metadata": {
    "scrolled": false
   },
   "outputs": [
    {
     "data": {
      "text/html": [
       "<div>\n",
       "<style scoped>\n",
       "    .dataframe tbody tr th:only-of-type {\n",
       "        vertical-align: middle;\n",
       "    }\n",
       "\n",
       "    .dataframe tbody tr th {\n",
       "        vertical-align: top;\n",
       "    }\n",
       "\n",
       "    .dataframe thead th {\n",
       "        text-align: right;\n",
       "    }\n",
       "</style>\n",
       "<table border=\"1\" class=\"dataframe\">\n",
       "  <thead>\n",
       "    <tr style=\"text-align: right;\">\n",
       "      <th></th>\n",
       "      <th>Survived</th>\n",
       "      <th>Died</th>\n",
       "    </tr>\n",
       "    <tr>\n",
       "      <th>Cabin Prefix</th>\n",
       "      <th></th>\n",
       "      <th></th>\n",
       "    </tr>\n",
       "  </thead>\n",
       "  <tbody>\n",
       "    <tr>\n",
       "      <th>A</th>\n",
       "      <td>7</td>\n",
       "      <td>8</td>\n",
       "    </tr>\n",
       "    <tr>\n",
       "      <th>B</th>\n",
       "      <td>35</td>\n",
       "      <td>12</td>\n",
       "    </tr>\n",
       "    <tr>\n",
       "      <th>C</th>\n",
       "      <td>35</td>\n",
       "      <td>24</td>\n",
       "    </tr>\n",
       "    <tr>\n",
       "      <th>D</th>\n",
       "      <td>25</td>\n",
       "      <td>8</td>\n",
       "    </tr>\n",
       "    <tr>\n",
       "      <th>E</th>\n",
       "      <td>24</td>\n",
       "      <td>8</td>\n",
       "    </tr>\n",
       "    <tr>\n",
       "      <th>F</th>\n",
       "      <td>8</td>\n",
       "      <td>5</td>\n",
       "    </tr>\n",
       "    <tr>\n",
       "      <th>G</th>\n",
       "      <td>2</td>\n",
       "      <td>2</td>\n",
       "    </tr>\n",
       "    <tr>\n",
       "      <th>T</th>\n",
       "      <td>0</td>\n",
       "      <td>1</td>\n",
       "    </tr>\n",
       "    <tr>\n",
       "      <th>nan</th>\n",
       "      <td>206</td>\n",
       "      <td>481</td>\n",
       "    </tr>\n",
       "  </tbody>\n",
       "</table>\n",
       "</div>"
      ],
      "text/plain": [
       "              Survived  Died\n",
       "Cabin Prefix                \n",
       "A                    7     8\n",
       "B                   35    12\n",
       "C                   35    24\n",
       "D                   25     8\n",
       "E                   24     8\n",
       "F                    8     5\n",
       "G                    2     2\n",
       "T                    0     1\n",
       "nan                206   481"
      ]
     },
     "metadata": {},
     "output_type": "display_data"
    },
    {
     "data": {
      "image/png": "[encoded data removed]",
      "text/plain": [
       "<Figure size 1080x720 with 1 Axes>"
      ]
     },
     "metadata": {},
     "output_type": "display_data"
    }
   ],
   "source": [
    "cabin_prefixes = []\n",
    "for i in df[\"Cabin\"]:\n",
    "    if str(i)!=\"nan\":\n",
    "        cabin_prefixes.append(str(i).split()[0][0])\n",
    "    else:\n",
    "        cabin_prefixes.append('nan')\n",
    "\n",
    "df[\"Cabin Prefix\"] = cabin_prefixes\n",
    "\n",
    "grp = df[[\"Cabin Prefix\",\"Survived\",\"Counter\"]].groupby(\"Cabin Prefix\").sum()\n",
    "grp[\"Died\"] = grp[\"Counter\"] - grp[\"Survived\"]\n",
    "grp.drop(\"Counter\",inplace=True,axis=1)\n",
    "display(grp)\n",
    "\n",
    "grp.plot(kind=\"barh\",figsize=(15,10),title=\"Cabin Prefixes against Survived\");"
   ]
  },
  {
   "cell_type": "markdown",
   "id": "76bf7cba",
   "metadata": {},
   "source": [
    "### Females with Cabin"
   ]
  },
  {
   "cell_type": "code",
   "execution_count": 62,
   "id": "dbb05c6b",
   "metadata": {
    "scrolled": false
   },
   "outputs": [
    {
     "data": {
      "text/html": [
       "<div>\n",
       "<style scoped>\n",
       "    .dataframe tbody tr th:only-of-type {\n",
       "        vertical-align: middle;\n",
       "    }\n",
       "\n",
       "    .dataframe tbody tr th {\n",
       "        vertical-align: top;\n",
       "    }\n",
       "\n",
       "    .dataframe thead th {\n",
       "        text-align: right;\n",
       "    }\n",
       "</style>\n",
       "<table border=\"1\" class=\"dataframe\">\n",
       "  <thead>\n",
       "    <tr style=\"text-align: right;\">\n",
       "      <th></th>\n",
       "      <th></th>\n",
       "      <th></th>\n",
       "      <th>Survived</th>\n",
       "      <th>Died</th>\n",
       "    </tr>\n",
       "    <tr>\n",
       "      <th>Pclass</th>\n",
       "      <th>Sex</th>\n",
       "      <th>Family Size</th>\n",
       "      <th></th>\n",
       "      <th></th>\n",
       "    </tr>\n",
       "  </thead>\n",
       "  <tbody>\n",
       "    <tr>\n",
       "      <th rowspan=\"9\" valign=\"top\">1</th>\n",
       "      <th rowspan=\"5\" valign=\"top\">female</th>\n",
       "      <th>2</th>\n",
       "      <td>35</td>\n",
       "      <td>0</td>\n",
       "    </tr>\n",
       "    <tr>\n",
       "      <th>3</th>\n",
       "      <td>12</td>\n",
       "      <td>0</td>\n",
       "    </tr>\n",
       "    <tr>\n",
       "      <th>4</th>\n",
       "      <td>2</td>\n",
       "      <td>2</td>\n",
       "    </tr>\n",
       "    <tr>\n",
       "      <th>5</th>\n",
       "      <td>2</td>\n",
       "      <td>0</td>\n",
       "    </tr>\n",
       "    <tr>\n",
       "      <th>6</th>\n",
       "      <td>2</td>\n",
       "      <td>0</td>\n",
       "    </tr>\n",
       "    <tr>\n",
       "      <th rowspan=\"4\" valign=\"top\">male</th>\n",
       "      <th>2</th>\n",
       "      <td>12</td>\n",
       "      <td>16</td>\n",
       "    </tr>\n",
       "    <tr>\n",
       "      <th>3</th>\n",
       "      <td>4</td>\n",
       "      <td>6</td>\n",
       "    </tr>\n",
       "    <tr>\n",
       "      <th>4</th>\n",
       "      <td>3</td>\n",
       "      <td>0</td>\n",
       "    </tr>\n",
       "    <tr>\n",
       "      <th>6</th>\n",
       "      <td>0</td>\n",
       "      <td>2</td>\n",
       "    </tr>\n",
       "  </tbody>\n",
       "</table>\n",
       "</div>"
      ],
      "text/plain": [
       "                           Survived  Died\n",
       "Pclass Sex    Family Size                \n",
       "1      female 2                  35     0\n",
       "              3                  12     0\n",
       "              4                   2     2\n",
       "              5                   2     0\n",
       "              6                   2     0\n",
       "       male   2                  12    16\n",
       "              3                   4     6\n",
       "              4                   3     0\n",
       "              6                   0     2"
      ]
     },
     "metadata": {},
     "output_type": "display_data"
    },
    {
     "data": {
      "image/png": "[encoded data removed]",
      "text/plain": [
       "<Figure size 1080x720 with 1 Axes>"
      ]
     },
     "metadata": {},
     "output_type": "display_data"
    }
   ],
   "source": [
    "grp = df[((df[\"Cabin\"].notnull())&(df[\"Pclass\"]==1)&(df[\"Family Size\"]>1))][\n",
    "    [\"Survived\",\"Family Size\",\"Pclass\",\"Sex\",\"Counter\"]].groupby([\"Pclass\",\"Sex\",\"Family Size\"]).sum()\n",
    "\n",
    "grp[\"Died\"] = grp[\"Counter\"] - grp[\"Survived\"]\n",
    "grp.drop(\"Counter\",inplace=True,axis=1)\n",
    "display(grp)\n",
    "\n",
    "grp.plot(kind=\"barh\",figsize=(15,10),title=\"Missing cabin values\");"
   ]
  },
  {
   "cell_type": "markdown",
   "id": "99a19228",
   "metadata": {},
   "source": [
    "<ol>\n",
    "    <li> There is a clear dist for females of pclass 1 and with cabin value. They are more likely to survive</li>\n",
    "    <li>There is a clear dist for males of pclass 1 and with cabin value with family size.</li>\n",
    "</ol>"
   ]
  },
  {
   "cell_type": "code",
   "execution_count": 63,
   "id": "4ac98c49",
   "metadata": {},
   "outputs": [],
   "source": [
    "df[\"Female with cabin\"] = [1 if ((isinstance(i[0], str))&(i[1]==\"female\")) else 0 for i in df[[\"Cabin\",\"Sex\"]].values]\n"
   ]
  },
  {
   "cell_type": "code",
   "execution_count": 64,
   "id": "aaa5591c",
   "metadata": {},
   "outputs": [
    {
     "data": {
      "text/html": [
       "<div>\n",
       "<style scoped>\n",
       "    .dataframe tbody tr th:only-of-type {\n",
       "        vertical-align: middle;\n",
       "    }\n",
       "\n",
       "    .dataframe tbody tr th {\n",
       "        vertical-align: top;\n",
       "    }\n",
       "\n",
       "    .dataframe thead th {\n",
       "        text-align: right;\n",
       "    }\n",
       "</style>\n",
       "<table border=\"1\" class=\"dataframe\">\n",
       "  <thead>\n",
       "    <tr style=\"text-align: right;\">\n",
       "      <th></th>\n",
       "      <th>Survived</th>\n",
       "      <th>Pclass</th>\n",
       "      <th>Name</th>\n",
       "      <th>Sex</th>\n",
       "      <th>Age</th>\n",
       "      <th>SibSp</th>\n",
       "      <th>Parch</th>\n",
       "      <th>Ticket</th>\n",
       "      <th>Fare</th>\n",
       "      <th>Cabin</th>\n",
       "      <th>Embarked</th>\n",
       "      <th>Counter</th>\n",
       "      <th>Title</th>\n",
       "      <th>HighPClassFemale</th>\n",
       "      <th>Family Size</th>\n",
       "      <th>Cabin Prefix</th>\n",
       "      <th>Female with cabin</th>\n",
       "    </tr>\n",
       "  </thead>\n",
       "  <tbody>\n",
       "    <tr>\n",
       "      <th>0</th>\n",
       "      <td>0</td>\n",
       "      <td>3</td>\n",
       "      <td>Braund, Mr. Owen Harris</td>\n",
       "      <td>male</td>\n",
       "      <td>1.0</td>\n",
       "      <td>1</td>\n",
       "      <td>0</td>\n",
       "      <td>A/5 21171</td>\n",
       "      <td>0</td>\n",
       "      <td>NaN</td>\n",
       "      <td>S</td>\n",
       "      <td>1</td>\n",
       "      <td>Mr</td>\n",
       "      <td>0</td>\n",
       "      <td>2</td>\n",
       "      <td>nan</td>\n",
       "      <td>0</td>\n",
       "    </tr>\n",
       "    <tr>\n",
       "      <th>1</th>\n",
       "      <td>1</td>\n",
       "      <td>1</td>\n",
       "      <td>Cumings, Mrs. John Bradley (Florence Briggs Th...</td>\n",
       "      <td>female</td>\n",
       "      <td>3.0</td>\n",
       "      <td>1</td>\n",
       "      <td>0</td>\n",
       "      <td>PC 17599</td>\n",
       "      <td>3</td>\n",
       "      <td>C85</td>\n",
       "      <td>C</td>\n",
       "      <td>1</td>\n",
       "      <td>Mrs</td>\n",
       "      <td>1</td>\n",
       "      <td>2</td>\n",
       "      <td>C</td>\n",
       "      <td>1</td>\n",
       "    </tr>\n",
       "    <tr>\n",
       "      <th>2</th>\n",
       "      <td>1</td>\n",
       "      <td>3</td>\n",
       "      <td>Heikkinen, Miss. Laina</td>\n",
       "      <td>female</td>\n",
       "      <td>1.0</td>\n",
       "      <td>0</td>\n",
       "      <td>0</td>\n",
       "      <td>STON/O2. 3101282</td>\n",
       "      <td>1</td>\n",
       "      <td>NaN</td>\n",
       "      <td>S</td>\n",
       "      <td>1</td>\n",
       "      <td>Miss</td>\n",
       "      <td>0</td>\n",
       "      <td>1</td>\n",
       "      <td>nan</td>\n",
       "      <td>0</td>\n",
       "    </tr>\n",
       "    <tr>\n",
       "      <th>3</th>\n",
       "      <td>1</td>\n",
       "      <td>1</td>\n",
       "      <td>Futrelle, Mrs. Jacques Heath (Lily May Peel)</td>\n",
       "      <td>female</td>\n",
       "      <td>2.0</td>\n",
       "      <td>1</td>\n",
       "      <td>0</td>\n",
       "      <td>113803</td>\n",
       "      <td>3</td>\n",
       "      <td>C123</td>\n",
       "      <td>S</td>\n",
       "      <td>1</td>\n",
       "      <td>Mrs</td>\n",
       "      <td>1</td>\n",
       "      <td>2</td>\n",
       "      <td>C</td>\n",
       "      <td>1</td>\n",
       "    </tr>\n",
       "    <tr>\n",
       "      <th>4</th>\n",
       "      <td>0</td>\n",
       "      <td>3</td>\n",
       "      <td>Allen, Mr. William Henry</td>\n",
       "      <td>male</td>\n",
       "      <td>2.0</td>\n",
       "      <td>0</td>\n",
       "      <td>0</td>\n",
       "      <td>373450</td>\n",
       "      <td>1</td>\n",
       "      <td>NaN</td>\n",
       "      <td>S</td>\n",
       "      <td>1</td>\n",
       "      <td>Mr</td>\n",
       "      <td>0</td>\n",
       "      <td>1</td>\n",
       "      <td>nan</td>\n",
       "      <td>0</td>\n",
       "    </tr>\n",
       "  </tbody>\n",
       "</table>\n",
       "</div>"
      ],
      "text/plain": [
       "   Survived  Pclass                                               Name  \\\n",
       "0         0       3                            Braund, Mr. Owen Harris   \n",
       "1         1       1  Cumings, Mrs. John Bradley (Florence Briggs Th...   \n",
       "2         1       3                             Heikkinen, Miss. Laina   \n",
       "3         1       1       Futrelle, Mrs. Jacques Heath (Lily May Peel)   \n",
       "4         0       3                           Allen, Mr. William Henry   \n",
       "\n",
       "      Sex  Age  SibSp  Parch            Ticket  Fare Cabin Embarked  Counter  \\\n",
       "0    male  1.0      1      0         A/5 21171     0   NaN        S        1   \n",
       "1  female  3.0      1      0          PC 17599     3   C85        C        1   \n",
       "2  female  1.0      0      0  STON/O2. 3101282     1   NaN        S        1   \n",
       "3  female  2.0      1      0            113803     3  C123        S        1   \n",
       "4    male  2.0      0      0            373450     1   NaN        S        1   \n",
       "\n",
       "  Title HighPClassFemale  Family Size Cabin Prefix  Female with cabin  \n",
       "0    Mr                0            2          nan                  0  \n",
       "1   Mrs                1            2            C                  1  \n",
       "2  Miss                0            1          nan                  0  \n",
       "3   Mrs                1            2            C                  1  \n",
       "4    Mr                0            1          nan                  0  "
      ]
     },
     "execution_count": 64,
     "metadata": {},
     "output_type": "execute_result"
    }
   ],
   "source": [
    "df.head()"
   ]
  },
  {
   "cell_type": "code",
   "execution_count": null,
   "id": "d48613b4",
   "metadata": {},
   "outputs": [],
   "source": []
  },
  {
   "cell_type": "code",
   "execution_count": null,
   "id": "18d16aa7",
   "metadata": {},
   "outputs": [],
   "source": []
  },
  {
   "cell_type": "code",
   "execution_count": null,
   "id": "10ea4b69",
   "metadata": {},
   "outputs": [],
   "source": []
  },
  {
   "cell_type": "code",
   "execution_count": null,
   "id": "5a39e0bc",
   "metadata": {},
   "outputs": [],
   "source": []
  },
  {
   "cell_type": "markdown",
   "id": "ba0f55a8",
   "metadata": {},
   "source": [
    "### Data Preprocessing function"
   ]
  },
  {
   "cell_type": "code",
   "execution_count": 65,
   "id": "97a96120",
   "metadata": {},
   "outputs": [
    {
     "data": {
      "text/plain": [
       "(['PassengerId', 'Survived', 'Pclass', 'Age', 'SibSp', 'Parch', 'Fare'],\n",
       " ['Name', 'Sex', 'Ticket', 'Cabin', 'Embarked'])"
      ]
     },
     "execution_count": 65,
     "metadata": {},
     "output_type": "execute_result"
    }
   ],
   "source": [
    "numerical_features, categorical_features"
   ]
  },
  {
   "cell_type": "code",
   "execution_count": 66,
   "id": "771bf6d4",
   "metadata": {},
   "outputs": [],
   "source": [
    "def preprocess_data(DF, categorical_features, numerical_features):\n",
    "    categorical_features = [i  for i in categorical_features if (i!=\"Ticket\")]\n",
    "    numerical_features = [i for i in numerical_features if (i!=\"PassengerId\")]\n",
    "    features = numerical_features + categorical_features\n",
    "    df = DF[features]\n",
    "    print(df.columns)\n",
    "    \n",
    "    ######### Feature Engineering\n",
    "    df[\"HighPClassFemale\"] = [1 if ((i[0]==\"female\")&(int(i[1]) <=2)) else 0 for i in  df[[\"Sex\",\"Pclass\"]].values]\n",
    "    df[\"HighPClassFemale\"] = df[\"HighPClassFemale\"].astype(\"category\")\n",
    "    \n",
    "\n",
    "    # Rewrite the Name feature with only the titles\n",
    "    df[\"Title\"] = df[\"Name\"].apply(lambda x: get_title(x))\n",
    "    df['Title'].replace(['Ms', 'Mlle', 'the Countess', \n",
    "                         'Dona','Lady', 'Mme'], 'High Class Female',regex= True, inplace=True)\n",
    "\n",
    "    df['Title'].replace(['Rev', 'Dr', 'Col', 'Major',\n",
    "                         'Capt', 'Sir', 'Don','Jonkheer'], 'Other',regex= True, inplace=True)\n",
    "    \n",
    "    # Family Size\n",
    "    df[\"Family Size\"] = df[\"SibSp\"] + df[\"Parch\"] + [1]*len(df)\n",
    "    \n",
    "    # Females with cabins\n",
    "    df[\"Female with cabin\"] = [1 if ((isinstance(i[0], str))&(i[1]==\"female\")) else 0 for i in df[[\"Cabin\",\"Sex\"]].values]\n",
    "    \n",
    "#     df.loc[ df['Age'] <= 16, 'Age'] = 0\n",
    "#     df.loc[(df['Age'] > 16) & (df['Age'] <= 26), 'Age'] = 1\n",
    "#     df.loc[(df['Age'] > 26) & (df['Age'] <= 36), 'Age'] = 2\n",
    "#     df.loc[(df['Age'] > 36) & (df['Age'] <= 62), 'Age'] = 3\n",
    "#     df.loc[ df['Age'] > 62, 'Age'] = 4\n",
    "    \n",
    "    # Cabin prefix\n",
    "    cabin_prefixes = []\n",
    "    for i in df[\"Cabin\"]:\n",
    "        if str(i)!=\"nan\":\n",
    "            prefix = str(i).split()[0][0]\n",
    "            if prefix==\"T\":\n",
    "                cabin_prefixes.append('nan')\n",
    "            else:\n",
    "                cabin_prefixes.append(str(i).split()[0][0])\n",
    "        else:\n",
    "            cabin_prefixes.append('nan')\n",
    "\n",
    "    df[\"Cabin Prefix\"] = cabin_prefixes\n",
    "    \n",
    "    # Fare per family member\n",
    "    df[\"Fare per member\"] = df[\"Fare\"]/df[\"Family Size\"]\n",
    "    \n",
    "    \n",
    "    # One hot encode the categorical features\n",
    "    df.drop([\"Name\",\"Cabin\"],axis=1,inplace=True)\n",
    "    categorical_features = [i for i in categorical_features if i not in [\"Name\",\"Cabin\"]]\n",
    "    categorical_features.extend([\"Title\",\"Cabin Prefix\"])\n",
    "    df[categorical_features] = df[categorical_features].astype(\"category\")\n",
    "    \n",
    "    # Create the dummy variables and drop the old categorical features\n",
    "    df = pd.concat([df, pd.get_dummies(df[categorical_features],drop_first=True)],axis=1)\n",
    "    df.drop(categorical_features, inplace=True,axis=1)\n",
    "    \n",
    "    # Handle the numerical features\n",
    "    if \"Survived\" in numerical_features:\n",
    "        df[\"Survived\"] = DF[\"Survived\"]\n",
    "        \n",
    "    numerical_features.extend([\"Fare per member\", \"Family Size\"])\n",
    "    df[numerical_features] = df[numerical_features].astype(\"float64\")\n",
    "    \n",
    "    return df "
   ]
  },
  {
   "cell_type": "markdown",
   "id": "a7c9dd43",
   "metadata": {},
   "source": [
    "# Feature Importance"
   ]
  },
  {
   "cell_type": "code",
   "execution_count": 67,
   "id": "2ff5b62a",
   "metadata": {},
   "outputs": [
    {
     "name": "stdout",
     "output_type": "stream",
     "text": [
      "Index(['Survived', 'Pclass', 'Age', 'SibSp', 'Parch', 'Fare', 'Name', 'Sex',\n",
      "       'Cabin', 'Embarked'],\n",
      "      dtype='object')\n",
      "Index(['Survived', 'Pclass', 'Age', 'SibSp', 'Parch', 'Fare',\n",
      "       'HighPClassFemale', 'Family Size', 'Female with cabin',\n",
      "       'Fare per member', 'Sex_male', 'Embarked_Q', 'Embarked_S',\n",
      "       'Title_Master', 'Title_Miss', 'Title_Mr', 'Title_Mrs', 'Title_Other',\n",
      "       'Cabin Prefix_B', 'Cabin Prefix_C', 'Cabin Prefix_D', 'Cabin Prefix_E',\n",
      "       'Cabin Prefix_F', 'Cabin Prefix_G', 'Cabin Prefix_nan'],\n",
      "      dtype='object')\n"
     ]
    }
   ],
   "source": [
    "# Remove unwanted cols\n",
    "from sklearn.model_selection import train_test_split\n",
    "\n",
    "df_select = preprocess_data(df, categorical_features, numerical_features)\n",
    "print(df_select.columns)\n",
    "x_train, x_test, y_train, y_test = train_test_split(df_select.iloc[:,1:], df_select[\"Survived\"], test_size=0.2, random_state=42)"
   ]
  },
  {
   "cell_type": "code",
   "execution_count": 68,
   "id": "ac91798f",
   "metadata": {},
   "outputs": [
    {
     "data": {
      "text/plain": [
       "RandomForestClassifier(random_state=0)"
      ]
     },
     "execution_count": 68,
     "metadata": {},
     "output_type": "execute_result"
    }
   ],
   "source": [
    "from sklearn.ensemble import RandomForestClassifier\n",
    "\n",
    "feature_names = x_train.columns\n",
    "forest = RandomForestClassifier(random_state=0)\n",
    "forest.fit(x_train, y_train)"
   ]
  },
  {
   "cell_type": "code",
   "execution_count": 69,
   "id": "e422e0c5",
   "metadata": {},
   "outputs": [
    {
     "name": "stdout",
     "output_type": "stream",
     "text": [
      "Elapsed time to compute the importances: 2.038 seconds\n"
     ]
    }
   ],
   "source": [
    "from sklearn.inspection import permutation_importance\n",
    "import time\n",
    "start_time = time.time()\n",
    "result = permutation_importance(\n",
    "    forest, \n",
    "    x_train,\n",
    "    y_train,\n",
    "    n_repeats=10, random_state=42, n_jobs=2\n",
    ")\n",
    "elapsed_time = time.time() - start_time\n",
    "print(f\"Elapsed time to compute the importances: {elapsed_time:.3f} seconds\")\n",
    "\n",
    "forest_importances = pd.Series(result.importances_mean, index=feature_names)\n"
   ]
  },
  {
   "cell_type": "code",
   "execution_count": 70,
   "id": "ca39b172",
   "metadata": {},
   "outputs": [
    {
     "data": {
      "text/plain": [
       "Index(['Pclass', 'Age', 'SibSp', 'Parch', 'Fare', 'HighPClassFemale',\n",
       "       'Family Size', 'Female with cabin', 'Fare per member', 'Sex_male',\n",
       "       'Embarked_Q', 'Embarked_S', 'Title_Master', 'Title_Miss', 'Title_Mr',\n",
       "       'Title_Mrs', 'Title_Other', 'Cabin Prefix_B', 'Cabin Prefix_C',\n",
       "       'Cabin Prefix_D', 'Cabin Prefix_E', 'Cabin Prefix_F', 'Cabin Prefix_G',\n",
       "       'Cabin Prefix_nan'],\n",
       "      dtype='object')"
      ]
     },
     "execution_count": 70,
     "metadata": {},
     "output_type": "execute_result"
    }
   ],
   "source": [
    "feature_names"
   ]
  },
  {
   "cell_type": "code",
   "execution_count": 71,
   "id": "b5a8d70c",
   "metadata": {},
   "outputs": [
    {
     "data": {
      "text/plain": [
       "Pclass               0.015730\n",
       "Age                  0.000000\n",
       "SibSp                0.010955\n",
       "Parch                0.011798\n",
       "Fare                 0.016994\n",
       "HighPClassFemale     0.005758\n",
       "Family Size          0.011517\n",
       "Female with cabin    0.004635\n",
       "Fare per member      0.017556\n",
       "Sex_male             0.014888\n",
       "Embarked_Q           0.008006\n",
       "Embarked_S           0.033708\n",
       "Title_Master         0.003792\n",
       "Title_Miss           0.002809\n",
       "Title_Mr             0.045365\n",
       "Title_Mrs            0.004213\n",
       "Title_Other          0.000000\n",
       "Cabin Prefix_B       0.005478\n",
       "Cabin Prefix_C       0.007444\n",
       "Cabin Prefix_D       0.004213\n",
       "Cabin Prefix_E       0.001685\n",
       "Cabin Prefix_F       0.000000\n",
       "Cabin Prefix_G       0.001404\n",
       "Cabin Prefix_nan     0.019242\n",
       "dtype: float64"
      ]
     },
     "execution_count": 71,
     "metadata": {},
     "output_type": "execute_result"
    }
   ],
   "source": [
    "forest_importances"
   ]
  },
  {
   "cell_type": "code",
   "execution_count": 72,
   "id": "9e9a70f4",
   "metadata": {
    "scrolled": false
   },
   "outputs": [
    {
     "data": {
      "image/png": "[encoded data removed]",
      "text/plain": [
       "<Figure size 1080x720 with 1 Axes>"
      ]
     },
     "metadata": {},
     "output_type": "display_data"
    }
   ],
   "source": [
    "plt.figure(figsize=(15,10))\n",
    "forest_importances.plot.barh()\n",
    "ax.set_title(\"Feature importances using MDI\")\n",
    "ax.set_ylabel(\"Mean decrease in impurity\")\n",
    "plt.tight_layout();"
   ]
  },
  {
   "cell_type": "markdown",
   "id": "6260498e",
   "metadata": {},
   "source": [
    "## Model Training"
   ]
  },
  {
   "cell_type": "code",
   "execution_count": 73,
   "id": "017ca7cf",
   "metadata": {},
   "outputs": [
    {
     "data": {
      "text/plain": [
       "(PassengerId      int64\n",
       " Survived         int64\n",
       " Pclass           int64\n",
       " Name            object\n",
       " Sex             object\n",
       " Age            float64\n",
       " SibSp            int64\n",
       " Parch            int64\n",
       " Ticket          object\n",
       " Fare           float64\n",
       " Cabin           object\n",
       " Embarked        object\n",
       " dtype: object,\n",
       " PassengerId      0\n",
       " Survived         0\n",
       " Pclass           0\n",
       " Name             0\n",
       " Sex              0\n",
       " Age              0\n",
       " SibSp            0\n",
       " Parch            0\n",
       " Ticket           0\n",
       " Fare             0\n",
       " Cabin          687\n",
       " Embarked         0\n",
       " dtype: int64)"
      ]
     },
     "execution_count": 73,
     "metadata": {},
     "output_type": "execute_result"
    }
   ],
   "source": [
    "df = pd.read_csv(\"./data/train.csv\")\n",
    "df['Age'].fillna(df['Age'].median(),inplace=True)\n",
    "df['Embarked'].fillna(df['Embarked'].mode()[0],inplace=True)\n",
    "df.dtypes, df.isnull().sum()"
   ]
  },
  {
   "cell_type": "code",
   "execution_count": 74,
   "id": "c09d1055",
   "metadata": {},
   "outputs": [
    {
     "data": {
      "text/plain": [
       "(['PassengerId', 'Survived', 'Pclass', 'Age', 'SibSp', 'Parch', 'Fare'],\n",
       " ['Name', 'Sex', 'Ticket', 'Cabin', 'Embarked'])"
      ]
     },
     "execution_count": 74,
     "metadata": {},
     "output_type": "execute_result"
    }
   ],
   "source": [
    "# categorical_features.append(\"HighClassFemale\")\n",
    "numerical_features, categorical_features"
   ]
  },
  {
   "cell_type": "code",
   "execution_count": 75,
   "id": "3a146c17",
   "metadata": {},
   "outputs": [
    {
     "name": "stdout",
     "output_type": "stream",
     "text": [
      "Index(['Survived', 'Pclass', 'Age', 'SibSp', 'Parch', 'Fare', 'Name', 'Sex',\n",
      "       'Cabin', 'Embarked'],\n",
      "      dtype='object')\n"
     ]
    },
    {
     "data": {
      "text/html": [
       "<div>\n",
       "<style scoped>\n",
       "    .dataframe tbody tr th:only-of-type {\n",
       "        vertical-align: middle;\n",
       "    }\n",
       "\n",
       "    .dataframe tbody tr th {\n",
       "        vertical-align: top;\n",
       "    }\n",
       "\n",
       "    .dataframe thead th {\n",
       "        text-align: right;\n",
       "    }\n",
       "</style>\n",
       "<table border=\"1\" class=\"dataframe\">\n",
       "  <thead>\n",
       "    <tr style=\"text-align: right;\">\n",
       "      <th></th>\n",
       "      <th>Survived</th>\n",
       "      <th>Pclass</th>\n",
       "      <th>Age</th>\n",
       "      <th>SibSp</th>\n",
       "      <th>Parch</th>\n",
       "      <th>Fare</th>\n",
       "      <th>HighPClassFemale</th>\n",
       "      <th>Family Size</th>\n",
       "      <th>Female with cabin</th>\n",
       "      <th>Fare per member</th>\n",
       "      <th>Sex_male</th>\n",
       "      <th>Embarked_Q</th>\n",
       "      <th>Embarked_S</th>\n",
       "      <th>Title_Master</th>\n",
       "      <th>Title_Miss</th>\n",
       "      <th>Title_Mr</th>\n",
       "      <th>Title_Mrs</th>\n",
       "      <th>Title_Other</th>\n",
       "      <th>Cabin Prefix_B</th>\n",
       "      <th>Cabin Prefix_C</th>\n",
       "      <th>Cabin Prefix_D</th>\n",
       "      <th>Cabin Prefix_E</th>\n",
       "      <th>Cabin Prefix_F</th>\n",
       "      <th>Cabin Prefix_G</th>\n",
       "      <th>Cabin Prefix_nan</th>\n",
       "    </tr>\n",
       "  </thead>\n",
       "  <tbody>\n",
       "    <tr>\n",
       "      <th>0</th>\n",
       "      <td>0.0</td>\n",
       "      <td>3.0</td>\n",
       "      <td>1.0</td>\n",
       "      <td>1.0</td>\n",
       "      <td>0.0</td>\n",
       "      <td>7.2500</td>\n",
       "      <td>0</td>\n",
       "      <td>2.0</td>\n",
       "      <td>0</td>\n",
       "      <td>3.62500</td>\n",
       "      <td>1</td>\n",
       "      <td>0</td>\n",
       "      <td>1</td>\n",
       "      <td>0</td>\n",
       "      <td>0</td>\n",
       "      <td>1</td>\n",
       "      <td>0</td>\n",
       "      <td>0</td>\n",
       "      <td>0</td>\n",
       "      <td>0</td>\n",
       "      <td>0</td>\n",
       "      <td>0</td>\n",
       "      <td>0</td>\n",
       "      <td>0</td>\n",
       "      <td>1</td>\n",
       "    </tr>\n",
       "    <tr>\n",
       "      <th>1</th>\n",
       "      <td>1.0</td>\n",
       "      <td>1.0</td>\n",
       "      <td>3.0</td>\n",
       "      <td>1.0</td>\n",
       "      <td>0.0</td>\n",
       "      <td>71.2833</td>\n",
       "      <td>1</td>\n",
       "      <td>2.0</td>\n",
       "      <td>1</td>\n",
       "      <td>35.64165</td>\n",
       "      <td>0</td>\n",
       "      <td>0</td>\n",
       "      <td>0</td>\n",
       "      <td>0</td>\n",
       "      <td>0</td>\n",
       "      <td>0</td>\n",
       "      <td>1</td>\n",
       "      <td>0</td>\n",
       "      <td>0</td>\n",
       "      <td>1</td>\n",
       "      <td>0</td>\n",
       "      <td>0</td>\n",
       "      <td>0</td>\n",
       "      <td>0</td>\n",
       "      <td>0</td>\n",
       "    </tr>\n",
       "    <tr>\n",
       "      <th>2</th>\n",
       "      <td>1.0</td>\n",
       "      <td>3.0</td>\n",
       "      <td>1.0</td>\n",
       "      <td>0.0</td>\n",
       "      <td>0.0</td>\n",
       "      <td>7.9250</td>\n",
       "      <td>0</td>\n",
       "      <td>1.0</td>\n",
       "      <td>0</td>\n",
       "      <td>7.92500</td>\n",
       "      <td>0</td>\n",
       "      <td>0</td>\n",
       "      <td>1</td>\n",
       "      <td>0</td>\n",
       "      <td>1</td>\n",
       "      <td>0</td>\n",
       "      <td>0</td>\n",
       "      <td>0</td>\n",
       "      <td>0</td>\n",
       "      <td>0</td>\n",
       "      <td>0</td>\n",
       "      <td>0</td>\n",
       "      <td>0</td>\n",
       "      <td>0</td>\n",
       "      <td>1</td>\n",
       "    </tr>\n",
       "    <tr>\n",
       "      <th>3</th>\n",
       "      <td>1.0</td>\n",
       "      <td>1.0</td>\n",
       "      <td>2.0</td>\n",
       "      <td>1.0</td>\n",
       "      <td>0.0</td>\n",
       "      <td>53.1000</td>\n",
       "      <td>1</td>\n",
       "      <td>2.0</td>\n",
       "      <td>1</td>\n",
       "      <td>26.55000</td>\n",
       "      <td>0</td>\n",
       "      <td>0</td>\n",
       "      <td>1</td>\n",
       "      <td>0</td>\n",
       "      <td>0</td>\n",
       "      <td>0</td>\n",
       "      <td>1</td>\n",
       "      <td>0</td>\n",
       "      <td>0</td>\n",
       "      <td>1</td>\n",
       "      <td>0</td>\n",
       "      <td>0</td>\n",
       "      <td>0</td>\n",
       "      <td>0</td>\n",
       "      <td>0</td>\n",
       "    </tr>\n",
       "    <tr>\n",
       "      <th>4</th>\n",
       "      <td>0.0</td>\n",
       "      <td>3.0</td>\n",
       "      <td>2.0</td>\n",
       "      <td>0.0</td>\n",
       "      <td>0.0</td>\n",
       "      <td>8.0500</td>\n",
       "      <td>0</td>\n",
       "      <td>1.0</td>\n",
       "      <td>0</td>\n",
       "      <td>8.05000</td>\n",
       "      <td>1</td>\n",
       "      <td>0</td>\n",
       "      <td>1</td>\n",
       "      <td>0</td>\n",
       "      <td>0</td>\n",
       "      <td>1</td>\n",
       "      <td>0</td>\n",
       "      <td>0</td>\n",
       "      <td>0</td>\n",
       "      <td>0</td>\n",
       "      <td>0</td>\n",
       "      <td>0</td>\n",
       "      <td>0</td>\n",
       "      <td>0</td>\n",
       "      <td>1</td>\n",
       "    </tr>\n",
       "  </tbody>\n",
       "</table>\n",
       "</div>"
      ],
      "text/plain": [
       "   Survived  Pclass  Age  SibSp  Parch     Fare HighPClassFemale  Family Size  \\\n",
       "0       0.0     3.0  1.0    1.0    0.0   7.2500                0          2.0   \n",
       "1       1.0     1.0  3.0    1.0    0.0  71.2833                1          2.0   \n",
       "2       1.0     3.0  1.0    0.0    0.0   7.9250                0          1.0   \n",
       "3       1.0     1.0  2.0    1.0    0.0  53.1000                1          2.0   \n",
       "4       0.0     3.0  2.0    0.0    0.0   8.0500                0          1.0   \n",
       "\n",
       "   Female with cabin  Fare per member  Sex_male  Embarked_Q  Embarked_S  \\\n",
       "0                  0          3.62500         1           0           1   \n",
       "1                  1         35.64165         0           0           0   \n",
       "2                  0          7.92500         0           0           1   \n",
       "3                  1         26.55000         0           0           1   \n",
       "4                  0          8.05000         1           0           1   \n",
       "\n",
       "   Title_Master  Title_Miss  Title_Mr  Title_Mrs  Title_Other  Cabin Prefix_B  \\\n",
       "0             0           0         1          0            0               0   \n",
       "1             0           0         0          1            0               0   \n",
       "2             0           1         0          0            0               0   \n",
       "3             0           0         0          1            0               0   \n",
       "4             0           0         1          0            0               0   \n",
       "\n",
       "   Cabin Prefix_C  Cabin Prefix_D  Cabin Prefix_E  Cabin Prefix_F  \\\n",
       "0               0               0               0               0   \n",
       "1               1               0               0               0   \n",
       "2               0               0               0               0   \n",
       "3               1               0               0               0   \n",
       "4               0               0               0               0   \n",
       "\n",
       "   Cabin Prefix_G  Cabin Prefix_nan  \n",
       "0               0                 1  \n",
       "1               0                 0  \n",
       "2               0                 1  \n",
       "3               0                 0  \n",
       "4               0                 1  "
      ]
     },
     "execution_count": 75,
     "metadata": {},
     "output_type": "execute_result"
    }
   ],
   "source": [
    "import imblearn\n",
    "import random\n",
    "random.seed(10)\n",
    "\n",
    "df = preprocess_data(df, categorical_features, numerical_features)\n",
    "#### Over sample the data\n",
    "oversample = imblearn.over_sampling.RandomOverSampler(sampling_strategy='minority')\n",
    "x_over, y_over = oversample.fit_resample(df.iloc[:,1:], df[\"Survived\"])\n",
    "df.head()"
   ]
  },
  {
   "cell_type": "code",
   "execution_count": 76,
   "id": "69d03553",
   "metadata": {},
   "outputs": [
    {
     "data": {
      "text/plain": [
       "Survived              float64\n",
       "Pclass                float64\n",
       "Age                   float64\n",
       "SibSp                 float64\n",
       "Parch                 float64\n",
       "Fare                  float64\n",
       "HighPClassFemale     category\n",
       "Family Size           float64\n",
       "Female with cabin       int64\n",
       "Fare per member       float64\n",
       "Sex_male                uint8\n",
       "Embarked_Q              uint8\n",
       "Embarked_S              uint8\n",
       "Title_Master            uint8\n",
       "Title_Miss              uint8\n",
       "Title_Mr                uint8\n",
       "Title_Mrs               uint8\n",
       "Title_Other             uint8\n",
       "Cabin Prefix_B          uint8\n",
       "Cabin Prefix_C          uint8\n",
       "Cabin Prefix_D          uint8\n",
       "Cabin Prefix_E          uint8\n",
       "Cabin Prefix_F          uint8\n",
       "Cabin Prefix_G          uint8\n",
       "Cabin Prefix_nan        uint8\n",
       "dtype: object"
      ]
     },
     "execution_count": 76,
     "metadata": {},
     "output_type": "execute_result"
    }
   ],
   "source": [
    "df.dtypes"
   ]
  },
  {
   "cell_type": "code",
   "execution_count": 77,
   "id": "fcb68e9b",
   "metadata": {},
   "outputs": [],
   "source": [
    "from sklearn.model_selection import train_test_split\n",
    "\n",
    "x_train, x_test, y_train, y_test = train_test_split(x_over, y_over, test_size=0.3, random_state=42)\n",
    "x_valid, x_test, y_valid, y_test = train_test_split(x_test, y_test, test_size=0.5, random_state=42)"
   ]
  },
  {
   "cell_type": "code",
   "execution_count": 78,
   "id": "d9e1a15e",
   "metadata": {},
   "outputs": [
    {
     "data": {
      "text/html": [
       "<div>\n",
       "<style scoped>\n",
       "    .dataframe tbody tr th:only-of-type {\n",
       "        vertical-align: middle;\n",
       "    }\n",
       "\n",
       "    .dataframe tbody tr th {\n",
       "        vertical-align: top;\n",
       "    }\n",
       "\n",
       "    .dataframe thead th {\n",
       "        text-align: right;\n",
       "    }\n",
       "</style>\n",
       "<table border=\"1\" class=\"dataframe\">\n",
       "  <thead>\n",
       "    <tr style=\"text-align: right;\">\n",
       "      <th></th>\n",
       "      <th>Pclass</th>\n",
       "      <th>Age</th>\n",
       "      <th>SibSp</th>\n",
       "      <th>Parch</th>\n",
       "      <th>Fare</th>\n",
       "      <th>HighPClassFemale</th>\n",
       "      <th>Family Size</th>\n",
       "      <th>Female with cabin</th>\n",
       "      <th>Fare per member</th>\n",
       "      <th>Sex_male</th>\n",
       "      <th>Embarked_Q</th>\n",
       "      <th>Embarked_S</th>\n",
       "      <th>Title_Master</th>\n",
       "      <th>Title_Miss</th>\n",
       "      <th>Title_Mr</th>\n",
       "      <th>Title_Mrs</th>\n",
       "      <th>Title_Other</th>\n",
       "      <th>Cabin Prefix_B</th>\n",
       "      <th>Cabin Prefix_C</th>\n",
       "      <th>Cabin Prefix_D</th>\n",
       "      <th>Cabin Prefix_E</th>\n",
       "      <th>Cabin Prefix_F</th>\n",
       "      <th>Cabin Prefix_G</th>\n",
       "      <th>Cabin Prefix_nan</th>\n",
       "    </tr>\n",
       "  </thead>\n",
       "  <tbody>\n",
       "    <tr>\n",
       "      <th>593</th>\n",
       "      <td>3.0</td>\n",
       "      <td>2.0</td>\n",
       "      <td>0.0</td>\n",
       "      <td>2.0</td>\n",
       "      <td>7.75</td>\n",
       "      <td>0</td>\n",
       "      <td>3.0</td>\n",
       "      <td>0</td>\n",
       "      <td>2.583333</td>\n",
       "      <td>0</td>\n",
       "      <td>1</td>\n",
       "      <td>0</td>\n",
       "      <td>0</td>\n",
       "      <td>1</td>\n",
       "      <td>0</td>\n",
       "      <td>0</td>\n",
       "      <td>0</td>\n",
       "      <td>0</td>\n",
       "      <td>0</td>\n",
       "      <td>0</td>\n",
       "      <td>0</td>\n",
       "      <td>0</td>\n",
       "      <td>0</td>\n",
       "      <td>1</td>\n",
       "    </tr>\n",
       "    <tr>\n",
       "      <th>305</th>\n",
       "      <td>1.0</td>\n",
       "      <td>0.0</td>\n",
       "      <td>1.0</td>\n",
       "      <td>2.0</td>\n",
       "      <td>151.55</td>\n",
       "      <td>0</td>\n",
       "      <td>4.0</td>\n",
       "      <td>0</td>\n",
       "      <td>37.887500</td>\n",
       "      <td>1</td>\n",
       "      <td>0</td>\n",
       "      <td>1</td>\n",
       "      <td>1</td>\n",
       "      <td>0</td>\n",
       "      <td>0</td>\n",
       "      <td>0</td>\n",
       "      <td>0</td>\n",
       "      <td>0</td>\n",
       "      <td>1</td>\n",
       "      <td>0</td>\n",
       "      <td>0</td>\n",
       "      <td>0</td>\n",
       "      <td>0</td>\n",
       "      <td>0</td>\n",
       "    </tr>\n",
       "    <tr>\n",
       "      <th>355</th>\n",
       "      <td>3.0</td>\n",
       "      <td>2.0</td>\n",
       "      <td>0.0</td>\n",
       "      <td>0.0</td>\n",
       "      <td>9.50</td>\n",
       "      <td>0</td>\n",
       "      <td>1.0</td>\n",
       "      <td>0</td>\n",
       "      <td>9.500000</td>\n",
       "      <td>1</td>\n",
       "      <td>0</td>\n",
       "      <td>1</td>\n",
       "      <td>0</td>\n",
       "      <td>0</td>\n",
       "      <td>1</td>\n",
       "      <td>0</td>\n",
       "      <td>0</td>\n",
       "      <td>0</td>\n",
       "      <td>0</td>\n",
       "      <td>0</td>\n",
       "      <td>0</td>\n",
       "      <td>0</td>\n",
       "      <td>0</td>\n",
       "      <td>1</td>\n",
       "    </tr>\n",
       "    <tr>\n",
       "      <th>1067</th>\n",
       "      <td>1.0</td>\n",
       "      <td>1.0</td>\n",
       "      <td>1.0</td>\n",
       "      <td>0.0</td>\n",
       "      <td>108.90</td>\n",
       "      <td>1</td>\n",
       "      <td>2.0</td>\n",
       "      <td>1</td>\n",
       "      <td>54.450000</td>\n",
       "      <td>0</td>\n",
       "      <td>0</td>\n",
       "      <td>0</td>\n",
       "      <td>0</td>\n",
       "      <td>0</td>\n",
       "      <td>0</td>\n",
       "      <td>1</td>\n",
       "      <td>0</td>\n",
       "      <td>0</td>\n",
       "      <td>1</td>\n",
       "      <td>0</td>\n",
       "      <td>0</td>\n",
       "      <td>0</td>\n",
       "      <td>0</td>\n",
       "      <td>0</td>\n",
       "    </tr>\n",
       "    <tr>\n",
       "      <th>1043</th>\n",
       "      <td>2.0</td>\n",
       "      <td>3.0</td>\n",
       "      <td>0.0</td>\n",
       "      <td>0.0</td>\n",
       "      <td>10.50</td>\n",
       "      <td>0</td>\n",
       "      <td>1.0</td>\n",
       "      <td>0</td>\n",
       "      <td>10.500000</td>\n",
       "      <td>1</td>\n",
       "      <td>0</td>\n",
       "      <td>1</td>\n",
       "      <td>0</td>\n",
       "      <td>0</td>\n",
       "      <td>1</td>\n",
       "      <td>0</td>\n",
       "      <td>0</td>\n",
       "      <td>0</td>\n",
       "      <td>0</td>\n",
       "      <td>0</td>\n",
       "      <td>0</td>\n",
       "      <td>0</td>\n",
       "      <td>0</td>\n",
       "      <td>1</td>\n",
       "    </tr>\n",
       "  </tbody>\n",
       "</table>\n",
       "</div>"
      ],
      "text/plain": [
       "      Pclass  Age  SibSp  Parch    Fare HighPClassFemale  Family Size  \\\n",
       "593      3.0  2.0    0.0    2.0    7.75                0          3.0   \n",
       "305      1.0  0.0    1.0    2.0  151.55                0          4.0   \n",
       "355      3.0  2.0    0.0    0.0    9.50                0          1.0   \n",
       "1067     1.0  1.0    1.0    0.0  108.90                1          2.0   \n",
       "1043     2.0  3.0    0.0    0.0   10.50                0          1.0   \n",
       "\n",
       "      Female with cabin  Fare per member  Sex_male  Embarked_Q  Embarked_S  \\\n",
       "593                   0         2.583333         0           1           0   \n",
       "305                   0        37.887500         1           0           1   \n",
       "355                   0         9.500000         1           0           1   \n",
       "1067                  1        54.450000         0           0           0   \n",
       "1043                  0        10.500000         1           0           1   \n",
       "\n",
       "      Title_Master  Title_Miss  Title_Mr  Title_Mrs  Title_Other  \\\n",
       "593              0           1         0          0            0   \n",
       "305              1           0         0          0            0   \n",
       "355              0           0         1          0            0   \n",
       "1067             0           0         0          1            0   \n",
       "1043             0           0         1          0            0   \n",
       "\n",
       "      Cabin Prefix_B  Cabin Prefix_C  Cabin Prefix_D  Cabin Prefix_E  \\\n",
       "593                0               0               0               0   \n",
       "305                0               1               0               0   \n",
       "355                0               0               0               0   \n",
       "1067               0               1               0               0   \n",
       "1043               0               0               0               0   \n",
       "\n",
       "      Cabin Prefix_F  Cabin Prefix_G  Cabin Prefix_nan  \n",
       "593                0               0                 1  \n",
       "305                0               0                 0  \n",
       "355                0               0                 1  \n",
       "1067               0               0                 0  \n",
       "1043               0               0                 1  "
      ]
     },
     "execution_count": 78,
     "metadata": {},
     "output_type": "execute_result"
    }
   ],
   "source": [
    "x_train.head()"
   ]
  },
  {
   "cell_type": "code",
   "execution_count": 79,
   "id": "e06078c3",
   "metadata": {},
   "outputs": [],
   "source": [
    "# We can try using min max because we know that the numerical values are in a certain range\n",
    "from sklearn.preprocessing import StandardScaler\n",
    "scaler = StandardScaler()\n",
    "# x_train.iloc[:, 0:5] = scaler.fit_transform(x_train.iloc[:, 0:5])\n",
    "# x_test.iloc[:, 0:5] = scaler.transform(x_test.iloc[:, 0:5])\n",
    "\n",
    "x_train = scaler.fit_transform(x_train)\n",
    "x_test = scaler.transform(x_test)\n",
    "x_valid = scaler.transform(x_valid)"
   ]
  },
  {
   "cell_type": "code",
   "execution_count": 80,
   "id": "196548e9",
   "metadata": {},
   "outputs": [
    {
     "data": {
      "text/plain": [
       "array([[ 0.86570144,  0.27778965, -0.48044657, ..., -0.14113936,\n",
       "        -0.05109761,  0.58135969],\n",
       "       [-1.52158295, -1.82410641,  0.41081663, ..., -0.14113936,\n",
       "        -0.05109761, -1.72010549],\n",
       "       [ 0.86570144,  0.27778965, -0.48044657, ..., -0.14113936,\n",
       "        -0.05109761,  0.58135969],\n",
       "       ...,\n",
       "       [-0.32794076,  1.32873767, -0.48044657, ..., -0.14113936,\n",
       "        -0.05109761,  0.58135969],\n",
       "       [ 0.86570144, -1.82410641,  0.41081663, ..., -0.14113936,\n",
       "        -0.05109761,  0.58135969],\n",
       "       [ 0.86570144,  1.32873767,  1.30207982, ..., -0.14113936,\n",
       "        -0.05109761,  0.58135969]])"
      ]
     },
     "execution_count": 80,
     "metadata": {},
     "output_type": "execute_result"
    }
   ],
   "source": [
    "x_train"
   ]
  },
  {
   "cell_type": "markdown",
   "id": "c06878d1",
   "metadata": {},
   "source": [
    "## Model Creation"
   ]
  },
  {
   "cell_type": "code",
   "execution_count": 81,
   "id": "661a05a6",
   "metadata": {},
   "outputs": [],
   "source": [
    "import tensorflow as tf"
   ]
  },
  {
   "cell_type": "code",
   "execution_count": 82,
   "id": "d82c1eb4",
   "metadata": {},
   "outputs": [],
   "source": [
    "from keras import backend as K\n",
    "\n",
    "def recall_m(y_true, y_pred):\n",
    "    true_positives = K.sum(K.round(K.clip(y_true * y_pred, 0, 1)))\n",
    "    possible_positives = K.sum(K.round(K.clip(y_true, 0, 1)))\n",
    "    recall = true_positives / (possible_positives + K.epsilon())\n",
    "    return recall\n",
    "\n",
    "def precision_m(y_true, y_pred):\n",
    "    true_positives = K.sum(K.round(K.clip(y_true * y_pred, 0, 1)))\n",
    "    predicted_positives = K.sum(K.round(K.clip(y_pred, 0, 1)))\n",
    "    precision = true_positives / (predicted_positives + K.epsilon())\n",
    "    return precision\n",
    "\n",
    "def f1_m(y_true, y_pred):\n",
    "    precision = precision_m(y_true, y_pred)\n",
    "    recall = recall_m(y_true, y_pred)\n",
    "    return 2*((precision*recall)/(precision+recall+K.epsilon()))\n"
   ]
  },
  {
   "cell_type": "code",
   "execution_count": 83,
   "id": "06b2ea1d",
   "metadata": {},
   "outputs": [
    {
     "data": {
      "text/plain": [
       "(768, 24)"
      ]
     },
     "execution_count": 83,
     "metadata": {},
     "output_type": "execute_result"
    }
   ],
   "source": [
    "x_train.shape"
   ]
  },
  {
   "cell_type": "markdown",
   "id": "a4b3aa2d",
   "metadata": {},
   "source": [
    "## Tuning hyperparams"
   ]
  },
  {
   "cell_type": "code",
   "execution_count": 84,
   "id": "6aeaa4d7",
   "metadata": {},
   "outputs": [],
   "source": [
    "import keras_tuner as kt\n",
    "from keras_tuner.tuners import RandomSearch\n",
    "tf.random.set_seed(42)\n",
    "\n",
    "def build_model(hp):\n",
    "    model = tf.keras.Sequential()\n",
    "    model.add(tf.keras.layers.Flatten())\n",
    "    # Tune the number of layers.\n",
    "    for i in range(hp.Int(\"num_layers\", 1, 3)):\n",
    "        model.add(\n",
    "            tf.keras.layers.Dense(\n",
    "                # Tune number of units separately.\n",
    "                units=hp.Int(f\"units_{i}\", min_value=10, max_value=100, step=hp.Int(\"step_size\", 5, 32)),\n",
    "                activation=hp.Choice(f\"activation_{i}\", [\"elu\",\"relu\",\"sigmoid\", \"tanh\"]),\n",
    "            )\n",
    "        )\n",
    "    model.add(tf.keras.layers.Dense(1, activation=\"sigmoid\"))\n",
    "    learning_rate = hp.Choice('learning_rate',[1e-2, 1e-3, 1e-4])\n",
    "    model.compile(\n",
    "        optimizer=tf.keras.optimizers.Adam(learning_rate=learning_rate),\n",
    "        loss=\"binary_crossentropy\",\n",
    "        metrics=[\"accuracy\",f1_m,precision_m, recall_m],\n",
    "    )\n",
    "    return model"
   ]
  },
  {
   "cell_type": "code",
   "execution_count": 85,
   "id": "3c9ea6b8",
   "metadata": {},
   "outputs": [],
   "source": [
    "tuner = RandomSearch(\n",
    "    hypermodel = build_model,\n",
    "    objective = kt.Objective(\"val_f1_m\", direction=\"max\"),\n",
    "    max_trials = 150, # Total no. of trials to run during the search\n",
    "    executions_per_trial=3, # Single round of training for each trial.(Different hyperparams for same archi)\n",
    "    directory = 'titanic',\n",
    "    project_name = \"titanic_classif\"\n",
    ")"
   ]
  },
  {
   "cell_type": "code",
   "execution_count": null,
   "id": "c7743b04",
   "metadata": {
    "scrolled": true
   },
   "outputs": [
    {
     "name": "stdout",
     "output_type": "stream",
     "text": [
      "Trial 4 Complete [00h 00m 09s]\n",
      "val_f1_m: 0.8682900865872701\n",
      "\n",
      "Best val_f1_m So Far: 0.8877173463503519\n",
      "Total elapsed time: 00h 00m 39s\n",
      "\n",
      "Search: Running Trial #5\n",
      "\n",
      "Hyperparameter    |Value             |Best Value So Far \n",
      "num_layers        |2                 |2                 \n",
      "step_size         |10                |31                \n",
      "units_0           |60                |40                \n",
      "activation_0      |relu              |tanh              \n",
      "learning_rate     |0.001             |0.001             \n",
      "units_1           |41                |72                \n",
      "activation_1      |tanh              |elu               \n",
      "\n",
      "Epoch 1/100\n",
      "24/24 [==============================] - 0s 6ms/step - loss: 0.6026 - accuracy: 0.6693 - f1_m: 0.6670 - precision_m: 0.6763 - recall_m: 0.6839 - val_loss: 0.4260 - val_accuracy: 0.8242 - val_f1_m: 0.8359 - val_precision_m: 0.8618 - val_recall_m: 0.8223\n",
      "Epoch 2/100\n",
      "24/24 [==============================] - 0s 2ms/step - loss: 0.4626 - accuracy: 0.8125 - f1_m: 0.8038 - precision_m: 0.8165 - recall_m: 0.8030 - val_loss: 0.3699 - val_accuracy: 0.8545 - val_f1_m: 0.8550 - val_precision_m: 0.9128 - val_recall_m: 0.8125\n",
      "Epoch 3/100\n",
      "24/24 [==============================] - 0s 1ms/step - loss: 0.4325 - accuracy: 0.8203 - f1_m: 0.8096 - precision_m: 0.8359 - recall_m: 0.7895 - val_loss: 0.3597 - val_accuracy: 0.8485 - val_f1_m: 0.8448 - val_precision_m: 0.9169 - val_recall_m: 0.7888\n",
      "Epoch 4/100\n",
      "24/24 [==============================] - 0s 2ms/step - loss: 0.4187 - accuracy: 0.8281 - f1_m: 0.8222 - precision_m: 0.8412 - recall_m: 0.8117 - val_loss: 0.3485 - val_accuracy: 0.8606 - val_f1_m: 0.8600 - val_precision_m: 0.9127 - val_recall_m: 0.8183\n",
      "Epoch 5/100\n",
      "24/24 [==============================] - 0s 1ms/step - loss: 0.4085 - accuracy: 0.8398 - f1_m: 0.8342 - precision_m: 0.8497 - recall_m: 0.8261 - val_loss: 0.3541 - val_accuracy: 0.8545 - val_f1_m: 0.8539 - val_precision_m: 0.9110 - val_recall_m: 0.8084\n",
      "Epoch 6/100\n",
      "24/24 [==============================] - 0s 1ms/step - loss: 0.4017 - accuracy: 0.8398 - f1_m: 0.8293 - precision_m: 0.8642 - recall_m: 0.8097 - val_loss: 0.3542 - val_accuracy: 0.8545 - val_f1_m: 0.8539 - val_precision_m: 0.9110 - val_recall_m: 0.8084\n",
      "Epoch 7/100\n",
      "24/24 [==============================] - 0s 1ms/step - loss: 0.3994 - accuracy: 0.8398 - f1_m: 0.8339 - precision_m: 0.8587 - recall_m: 0.8189 - val_loss: 0.3576 - val_accuracy: 0.8606 - val_f1_m: 0.8550 - val_precision_m: 0.9517 - val_recall_m: 0.7784\n",
      "Epoch 8/100\n",
      "24/24 [==============================] - 0s 1ms/step - loss: 0.3938 - accuracy: 0.8385 - f1_m: 0.8223 - precision_m: 0.8748 - recall_m: 0.7856 - val_loss: 0.3522 - val_accuracy: 0.8545 - val_f1_m: 0.8527 - val_precision_m: 0.9192 - val_recall_m: 0.7980\n",
      "Epoch 9/100\n",
      "24/24 [==============================] - 0s 2ms/step - loss: 0.3898 - accuracy: 0.8372 - f1_m: 0.8320 - precision_m: 0.8530 - recall_m: 0.8202 - val_loss: 0.3525 - val_accuracy: 0.8667 - val_f1_m: 0.8639 - val_precision_m: 0.9440 - val_recall_m: 0.7980\n",
      "Epoch 10/100\n",
      "24/24 [==============================] - 0s 1ms/step - loss: 0.3869 - accuracy: 0.8424 - f1_m: 0.8355 - precision_m: 0.8672 - recall_m: 0.8119 - val_loss: 0.3634 - val_accuracy: 0.8545 - val_f1_m: 0.8526 - val_precision_m: 0.9307 - val_recall_m: 0.7882\n",
      "Epoch 11/100\n",
      "24/24 [==============================] - 0s 958us/step - loss: 0.3831 - accuracy: 0.8411 - f1_m: 0.8253 - precision_m: 0.8623 - recall_m: 0.8002 - val_loss: 0.3585 - val_accuracy: 0.8667 - val_f1_m: 0.8611 - val_precision_m: 0.9517 - val_recall_m: 0.7882\n",
      "Epoch 12/100\n",
      "24/24 [==============================] - 0s 1ms/step - loss: 0.3800 - accuracy: 0.8438 - f1_m: 0.8295 - precision_m: 0.8794 - recall_m: 0.7895 - val_loss: 0.3586 - val_accuracy: 0.8485 - val_f1_m: 0.8489 - val_precision_m: 0.9108 - val_recall_m: 0.7980\n",
      "Epoch 13/100\n",
      "24/24 [==============================] - 0s 2ms/step - loss: 0.3770 - accuracy: 0.8451 - f1_m: 0.8357 - precision_m: 0.8659 - recall_m: 0.8151 - val_loss: 0.3602 - val_accuracy: 0.8727 - val_f1_m: 0.8653 - val_precision_m: 0.9635 - val_recall_m: 0.7882\n",
      "Epoch 14/100\n",
      "24/24 [==============================] - 0s 1ms/step - loss: 0.3744 - accuracy: 0.8411 - f1_m: 0.8301 - precision_m: 0.8749 - recall_m: 0.7970 - val_loss: 0.3566 - val_accuracy: 0.8606 - val_f1_m: 0.8565 - val_precision_m: 0.9407 - val_recall_m: 0.7882\n",
      "Epoch 15/100\n",
      "24/24 [==============================] - 0s 2ms/step - loss: 0.3699 - accuracy: 0.8398 - f1_m: 0.8221 - precision_m: 0.8692 - recall_m: 0.7845 - val_loss: 0.3602 - val_accuracy: 0.8667 - val_f1_m: 0.8665 - val_precision_m: 0.9331 - val_recall_m: 0.8119\n",
      "Epoch 16/100\n",
      "24/24 [==============================] - 0s 939us/step - loss: 0.3696 - accuracy: 0.8359 - f1_m: 0.8267 - precision_m: 0.8587 - recall_m: 0.8053 - val_loss: 0.3636 - val_accuracy: 0.8606 - val_f1_m: 0.8565 - val_precision_m: 0.9407 - val_recall_m: 0.7882\n",
      "Epoch 17/100\n",
      "24/24 [==============================] - 0s 1ms/step - loss: 0.3678 - accuracy: 0.8464 - f1_m: 0.8416 - precision_m: 0.8799 - recall_m: 0.8142 - val_loss: 0.3627 - val_accuracy: 0.8606 - val_f1_m: 0.8593 - val_precision_m: 0.9331 - val_recall_m: 0.7980\n",
      "Epoch 18/100\n",
      "24/24 [==============================] - 0s 982us/step - loss: 0.3615 - accuracy: 0.8411 - f1_m: 0.8266 - precision_m: 0.8854 - recall_m: 0.7848 - val_loss: 0.3662 - val_accuracy: 0.8545 - val_f1_m: 0.8526 - val_precision_m: 0.9307 - val_recall_m: 0.7882\n",
      "Epoch 19/100\n",
      "24/24 [==============================] - 0s 1ms/step - loss: 0.3614 - accuracy: 0.8411 - f1_m: 0.8348 - precision_m: 0.8696 - recall_m: 0.8151 - val_loss: 0.3645 - val_accuracy: 0.8606 - val_f1_m: 0.8565 - val_precision_m: 0.9407 - val_recall_m: 0.7882\n",
      "Epoch 20/100\n",
      "24/24 [==============================] - 0s 1ms/step - loss: 0.3581 - accuracy: 0.8503 - f1_m: 0.8390 - precision_m: 0.8892 - recall_m: 0.7985 - val_loss: 0.3664 - val_accuracy: 0.8545 - val_f1_m: 0.8526 - val_precision_m: 0.9307 - val_recall_m: 0.7882\n",
      "Epoch 21/100\n",
      "24/24 [==============================] - 0s 784us/step - loss: 0.3555 - accuracy: 0.8477 - f1_m: 0.8341 - precision_m: 0.8864 - recall_m: 0.7992 - val_loss: 0.3670 - val_accuracy: 0.8545 - val_f1_m: 0.8527 - val_precision_m: 0.9192 - val_recall_m: 0.7980\n",
      "Epoch 22/100\n",
      "24/24 [==============================] - 0s 1ms/step - loss: 0.3542 - accuracy: 0.8503 - f1_m: 0.8377 - precision_m: 0.8742 - recall_m: 0.8144 - val_loss: 0.3684 - val_accuracy: 0.8667 - val_f1_m: 0.8611 - val_precision_m: 0.9517 - val_recall_m: 0.7882\n",
      "Epoch 23/100\n",
      "24/24 [==============================] - 0s 1ms/step - loss: 0.3516 - accuracy: 0.8503 - f1_m: 0.8408 - precision_m: 0.8882 - recall_m: 0.8061 - val_loss: 0.3684 - val_accuracy: 0.8667 - val_f1_m: 0.8611 - val_precision_m: 0.9517 - val_recall_m: 0.7882\n",
      "Epoch 24/100\n",
      "24/24 [==============================] - 0s 1ms/step - loss: 0.3506 - accuracy: 0.8529 - f1_m: 0.8462 - precision_m: 0.8988 - recall_m: 0.8056 - val_loss: 0.3773 - val_accuracy: 0.8545 - val_f1_m: 0.8532 - val_precision_m: 0.9179 - val_recall_m: 0.8021\n",
      "Epoch 25/100\n",
      "24/24 [==============================] - 0s 1ms/step - loss: 0.3495 - accuracy: 0.8503 - f1_m: 0.8400 - precision_m: 0.8948 - recall_m: 0.8000 - val_loss: 0.3654 - val_accuracy: 0.8606 - val_f1_m: 0.8571 - val_precision_m: 0.9279 - val_recall_m: 0.8021\n",
      "Epoch 26/100\n",
      "24/24 [==============================] - 0s 2ms/step - loss: 0.3447 - accuracy: 0.8542 - f1_m: 0.8463 - precision_m: 0.8851 - recall_m: 0.8164 - val_loss: 0.3698 - val_accuracy: 0.8727 - val_f1_m: 0.8684 - val_precision_m: 0.9517 - val_recall_m: 0.8021\n",
      "Epoch 27/100\n",
      "24/24 [==============================] - 0s 1ms/step - loss: 0.3443 - accuracy: 0.8503 - f1_m: 0.8420 - precision_m: 0.8758 - recall_m: 0.8188 - val_loss: 0.3677 - val_accuracy: 0.8727 - val_f1_m: 0.8706 - val_precision_m: 0.9426 - val_recall_m: 0.8119\n",
      "Epoch 28/100\n",
      "24/24 [==============================] - 0s 1ms/step - loss: 0.3403 - accuracy: 0.8633 - f1_m: 0.8522 - precision_m: 0.9027 - recall_m: 0.8124 - val_loss: 0.3703 - val_accuracy: 0.8727 - val_f1_m: 0.8684 - val_precision_m: 0.9517 - val_recall_m: 0.8021\n",
      "Epoch 29/100\n"
     ]
    },
    {
     "name": "stdout",
     "output_type": "stream",
     "text": [
      "24/24 [==============================] - 0s 1ms/step - loss: 0.3420 - accuracy: 0.8581 - f1_m: 0.8427 - precision_m: 0.9068 - recall_m: 0.7976 - val_loss: 0.3750 - val_accuracy: 0.8667 - val_f1_m: 0.8638 - val_precision_m: 0.9407 - val_recall_m: 0.8021\n",
      "Epoch 30/100\n",
      "24/24 [==============================] - 0s 1ms/step - loss: 0.3367 - accuracy: 0.8633 - f1_m: 0.8492 - precision_m: 0.8974 - recall_m: 0.8155 - val_loss: 0.3737 - val_accuracy: 0.8727 - val_f1_m: 0.8680 - val_precision_m: 0.9525 - val_recall_m: 0.8021\n",
      "Epoch 31/100\n",
      "24/24 [==============================] - 0s 1ms/step - loss: 0.3326 - accuracy: 0.8581 - f1_m: 0.8500 - precision_m: 0.8879 - recall_m: 0.8194 - val_loss: 0.3700 - val_accuracy: 0.8788 - val_f1_m: 0.8726 - val_precision_m: 0.9635 - val_recall_m: 0.8021\n",
      "Epoch 32/100\n",
      "24/24 [==============================] - 0s 1ms/step - loss: 0.3319 - accuracy: 0.8607 - f1_m: 0.8534 - precision_m: 0.9013 - recall_m: 0.8199 - val_loss: 0.3695 - val_accuracy: 0.8667 - val_f1_m: 0.8638 - val_precision_m: 0.9407 - val_recall_m: 0.8021\n",
      "Epoch 33/100\n",
      "24/24 [==============================] - 0s 1ms/step - loss: 0.3305 - accuracy: 0.8633 - f1_m: 0.8539 - precision_m: 0.9003 - recall_m: 0.8166 - val_loss: 0.3717 - val_accuracy: 0.8667 - val_f1_m: 0.8638 - val_precision_m: 0.9407 - val_recall_m: 0.8021\n",
      "Epoch 34/100\n",
      "24/24 [==============================] - 0s 1ms/step - loss: 0.3288 - accuracy: 0.8594 - f1_m: 0.8480 - precision_m: 0.8937 - recall_m: 0.8151 - val_loss: 0.3733 - val_accuracy: 0.8606 - val_f1_m: 0.8500 - val_precision_m: 0.9596 - val_recall_m: 0.7709\n",
      "Epoch 35/100\n",
      "24/24 [==============================] - 0s 1ms/step - loss: 0.3321 - accuracy: 0.8633 - f1_m: 0.8454 - precision_m: 0.9096 - recall_m: 0.8035 - val_loss: 0.3743 - val_accuracy: 0.8727 - val_f1_m: 0.8682 - val_precision_m: 0.9407 - val_recall_m: 0.8119\n",
      "Epoch 36/100\n",
      "24/24 [==============================] - 0s 1ms/step - loss: 0.3264 - accuracy: 0.8568 - f1_m: 0.8490 - precision_m: 0.8887 - recall_m: 0.8242 - val_loss: 0.3705 - val_accuracy: 0.8788 - val_f1_m: 0.8726 - val_precision_m: 0.9635 - val_recall_m: 0.8021\n",
      "Epoch 37/100\n",
      "24/24 [==============================] - 0s 1ms/step - loss: 0.3256 - accuracy: 0.8646 - f1_m: 0.8541 - precision_m: 0.8986 - recall_m: 0.8223 - val_loss: 0.3725 - val_accuracy: 0.8788 - val_f1_m: 0.8726 - val_precision_m: 0.9635 - val_recall_m: 0.8021\n",
      "Epoch 38/100\n",
      "24/24 [==============================] - 0s 871us/step - loss: 0.3231 - accuracy: 0.8672 - f1_m: 0.8556 - precision_m: 0.9076 - recall_m: 0.8212 - val_loss: 0.3748 - val_accuracy: 0.8788 - val_f1_m: 0.8726 - val_precision_m: 0.9635 - val_recall_m: 0.8021\n",
      "Epoch 39/100\n",
      "24/24 [==============================] - 0s 1ms/step - loss: 0.3242 - accuracy: 0.8516 - f1_m: 0.8370 - precision_m: 0.8933 - recall_m: 0.7955 - val_loss: 0.3710 - val_accuracy: 0.8606 - val_f1_m: 0.8571 - val_precision_m: 0.9279 - val_recall_m: 0.8021\n",
      "Epoch 40/100\n",
      "24/24 [==============================] - 0s 1ms/step - loss: 0.3188 - accuracy: 0.8659 - f1_m: 0.8566 - precision_m: 0.9063 - recall_m: 0.8184 - val_loss: 0.3816 - val_accuracy: 0.8606 - val_f1_m: 0.8576 - val_precision_m: 0.9186 - val_recall_m: 0.8119\n",
      "Epoch 41/100\n",
      "24/24 [==============================] - 0s 2ms/step - loss: 0.3153 - accuracy: 0.8685 - f1_m: 0.8548 - precision_m: 0.9098 - recall_m: 0.8114 - val_loss: 0.3728 - val_accuracy: 0.8788 - val_f1_m: 0.8749 - val_precision_m: 0.9536 - val_recall_m: 0.8119\n",
      "Epoch 42/100\n",
      "24/24 [==============================] - 0s 1ms/step - loss: 0.3153 - accuracy: 0.8646 - f1_m: 0.8555 - precision_m: 0.9043 - recall_m: 0.8199 - val_loss: 0.3709 - val_accuracy: 0.8788 - val_f1_m: 0.8749 - val_precision_m: 0.9536 - val_recall_m: 0.8119\n",
      "Epoch 43/100\n",
      "24/24 [==============================] - 0s 1ms/step - loss: 0.3105 - accuracy: 0.8763 - f1_m: 0.8681 - precision_m: 0.9139 - recall_m: 0.8324 - val_loss: 0.3788 - val_accuracy: 0.8667 - val_f1_m: 0.8642 - val_precision_m: 0.9320 - val_recall_m: 0.8119\n",
      "Epoch 44/100\n",
      "24/24 [==============================] - 0s 1ms/step - loss: 0.3143 - accuracy: 0.8685 - f1_m: 0.8562 - precision_m: 0.9153 - recall_m: 0.8118 - val_loss: 0.3777 - val_accuracy: 0.8727 - val_f1_m: 0.8681 - val_precision_m: 0.9406 - val_recall_m: 0.8119\n",
      "Epoch 45/100\n",
      "24/24 [==============================] - 0s 2ms/step - loss: 0.3120 - accuracy: 0.8646 - f1_m: 0.8549 - precision_m: 0.8992 - recall_m: 0.8245 - val_loss: 0.3850 - val_accuracy: 0.8848 - val_f1_m: 0.8771 - val_precision_m: 0.9774 - val_recall_m: 0.8021\n",
      "Epoch 46/100\n",
      "24/24 [==============================] - 0s 1ms/step - loss: 0.3101 - accuracy: 0.8711 - f1_m: 0.8645 - precision_m: 0.9131 - recall_m: 0.8284 - val_loss: 0.3768 - val_accuracy: 0.8667 - val_f1_m: 0.8640 - val_precision_m: 0.9438 - val_recall_m: 0.8021\n",
      "Epoch 47/100\n",
      "24/24 [==============================] - 0s 1ms/step - loss: 0.3056 - accuracy: 0.8763 - f1_m: 0.8598 - precision_m: 0.9170 - recall_m: 0.8166 - val_loss: 0.3767 - val_accuracy: 0.8667 - val_f1_m: 0.8642 - val_precision_m: 0.9320 - val_recall_m: 0.8119\n",
      "Epoch 48/100\n",
      "24/24 [==============================] - 0s 1ms/step - loss: 0.3053 - accuracy: 0.8685 - f1_m: 0.8542 - precision_m: 0.9027 - recall_m: 0.8202 - val_loss: 0.3922 - val_accuracy: 0.8788 - val_f1_m: 0.8755 - val_precision_m: 0.9558 - val_recall_m: 0.8119\n",
      "Epoch 49/100\n",
      "24/24 [==============================] - 0s 1ms/step - loss: 0.3088 - accuracy: 0.8724 - f1_m: 0.8628 - precision_m: 0.9144 - recall_m: 0.8223 - val_loss: 0.3853 - val_accuracy: 0.8667 - val_f1_m: 0.8642 - val_precision_m: 0.9320 - val_recall_m: 0.8119\n",
      "Epoch 50/100\n",
      "24/24 [==============================] - 0s 1ms/step - loss: 0.3056 - accuracy: 0.8750 - f1_m: 0.8637 - precision_m: 0.9128 - recall_m: 0.8282 - val_loss: 0.3834 - val_accuracy: 0.8485 - val_f1_m: 0.8490 - val_precision_m: 0.8989 - val_recall_m: 0.8119\n",
      "Epoch 51/100\n",
      "24/24 [==============================] - 0s 1ms/step - loss: 0.3015 - accuracy: 0.8750 - f1_m: 0.8699 - precision_m: 0.9049 - recall_m: 0.8425 - val_loss: 0.3840 - val_accuracy: 0.8727 - val_f1_m: 0.8709 - val_precision_m: 0.9449 - val_recall_m: 0.8119\n",
      "Epoch 52/100\n",
      "24/24 [==============================] - 0s 1ms/step - loss: 0.2979 - accuracy: 0.8789 - f1_m: 0.8703 - precision_m: 0.9201 - recall_m: 0.8320 - val_loss: 0.3770 - val_accuracy: 0.8727 - val_f1_m: 0.8709 - val_precision_m: 0.9449 - val_recall_m: 0.8119\n",
      "Epoch 53/100\n",
      "24/24 [==============================] - 0s 1ms/step - loss: 0.2974 - accuracy: 0.8802 - f1_m: 0.8731 - precision_m: 0.9219 - recall_m: 0.8385 - val_loss: 0.3904 - val_accuracy: 0.8545 - val_f1_m: 0.8531 - val_precision_m: 0.8913 - val_recall_m: 0.8295\n",
      "Epoch 54/100\n",
      "24/24 [==============================] - 0s 827us/step - loss: 0.2999 - accuracy: 0.8815 - f1_m: 0.8747 - precision_m: 0.9126 - recall_m: 0.8479 - val_loss: 0.3836 - val_accuracy: 0.8606 - val_f1_m: 0.8570 - val_precision_m: 0.9310 - val_recall_m: 0.7980\n",
      "Epoch 55/100\n",
      "24/24 [==============================] - 0s 1ms/step - loss: 0.2955 - accuracy: 0.8880 - f1_m: 0.8827 - precision_m: 0.9200 - recall_m: 0.8529 - val_loss: 0.3886 - val_accuracy: 0.8667 - val_f1_m: 0.8635 - val_precision_m: 0.9447 - val_recall_m: 0.7980\n",
      "Epoch 56/100\n",
      "24/24 [==============================] - 0s 1ms/step - loss: 0.2930 - accuracy: 0.8789 - f1_m: 0.8708 - precision_m: 0.9153 - recall_m: 0.8385 - val_loss: 0.3874 - val_accuracy: 0.8606 - val_f1_m: 0.8570 - val_precision_m: 0.9310 - val_recall_m: 0.7980\n",
      "Epoch 57/100\n",
      "24/24 [==============================] - 0s 1ms/step - loss: 0.2952 - accuracy: 0.8854 - f1_m: 0.8781 - precision_m: 0.9243 - recall_m: 0.8422 - val_loss: 0.3848 - val_accuracy: 0.8667 - val_f1_m: 0.8636 - val_precision_m: 0.9449 - val_recall_m: 0.7980\n",
      "Epoch 58/100\n",
      "24/24 [==============================] - 0s 1ms/step - loss: 0.2900 - accuracy: 0.8867 - f1_m: 0.8760 - precision_m: 0.9046 - recall_m: 0.8524 - val_loss: 0.3942 - val_accuracy: 0.8667 - val_f1_m: 0.8636 - val_precision_m: 0.9449 - val_recall_m: 0.7980\n",
      "Epoch 59/100\n",
      "24/24 [==============================] - 0s 1ms/step - loss: 0.2880 - accuracy: 0.8854 - f1_m: 0.8751 - precision_m: 0.9185 - recall_m: 0.8403 - val_loss: 0.3911 - val_accuracy: 0.8727 - val_f1_m: 0.8667 - val_precision_m: 0.9328 - val_recall_m: 0.8156\n"
     ]
    },
    {
     "name": "stdout",
     "output_type": "stream",
     "text": [
      "Epoch 60/100\n",
      "24/24 [==============================] - 0s 1ms/step - loss: 0.2883 - accuracy: 0.8880 - f1_m: 0.8801 - precision_m: 0.9211 - recall_m: 0.8494 - val_loss: 0.3877 - val_accuracy: 0.8667 - val_f1_m: 0.8636 - val_precision_m: 0.9449 - val_recall_m: 0.7980\n",
      "Epoch 61/100\n",
      "24/24 [==============================] - 0s 1ms/step - loss: 0.2853 - accuracy: 0.8880 - f1_m: 0.8813 - precision_m: 0.9269 - recall_m: 0.8499 - val_loss: 0.3967 - val_accuracy: 0.8727 - val_f1_m: 0.8667 - val_precision_m: 0.9328 - val_recall_m: 0.8156\n",
      "Epoch 62/100\n",
      "24/24 [==============================] - 0s 1ms/step - loss: 0.2865 - accuracy: 0.8932 - f1_m: 0.8886 - precision_m: 0.9182 - recall_m: 0.8653 - val_loss: 0.4043 - val_accuracy: 0.8727 - val_f1_m: 0.8667 - val_precision_m: 0.9328 - val_recall_m: 0.8156\n",
      "Epoch 63/100\n",
      "24/24 [==============================] - 0s 1ms/step - loss: 0.2827 - accuracy: 0.8867 - f1_m: 0.8769 - precision_m: 0.9176 - recall_m: 0.8490 - val_loss: 0.4023 - val_accuracy: 0.8545 - val_f1_m: 0.8535 - val_precision_m: 0.9112 - val_recall_m: 0.8119\n",
      "Epoch 64/100\n",
      "24/24 [==============================] - 0s 1ms/step - loss: 0.2868 - accuracy: 0.8880 - f1_m: 0.8763 - precision_m: 0.9151 - recall_m: 0.8482 - val_loss: 0.4010 - val_accuracy: 0.8606 - val_f1_m: 0.8537 - val_precision_m: 0.9535 - val_recall_m: 0.7772\n",
      "Epoch 65/100\n",
      "24/24 [==============================] - 0s 873us/step - loss: 0.2844 - accuracy: 0.8854 - f1_m: 0.8836 - precision_m: 0.9161 - recall_m: 0.8587 - val_loss: 0.4118 - val_accuracy: 0.8727 - val_f1_m: 0.8658 - val_precision_m: 0.9687 - val_recall_m: 0.7882\n",
      "Epoch 66/100\n",
      "24/24 [==============================] - 0s 933us/step - loss: 0.2882 - accuracy: 0.8893 - f1_m: 0.8819 - precision_m: 0.9260 - recall_m: 0.8500 - val_loss: 0.4075 - val_accuracy: 0.8667 - val_f1_m: 0.8623 - val_precision_m: 0.9115 - val_recall_m: 0.8260\n",
      "Epoch 67/100\n",
      "24/24 [==============================] - 0s 1ms/step - loss: 0.2792 - accuracy: 0.8867 - f1_m: 0.8820 - precision_m: 0.9115 - recall_m: 0.8602 - val_loss: 0.3994 - val_accuracy: 0.8667 - val_f1_m: 0.8636 - val_precision_m: 0.9449 - val_recall_m: 0.7980\n",
      "Epoch 68/100\n",
      "24/24 [==============================] - 0s 758us/step - loss: 0.2818 - accuracy: 0.8971 - f1_m: 0.8836 - precision_m: 0.9207 - recall_m: 0.8540 - val_loss: 0.4104 - val_accuracy: 0.8667 - val_f1_m: 0.8627 - val_precision_m: 0.9117 - val_recall_m: 0.8260\n",
      "Epoch 69/100\n",
      "24/24 [==============================] - 0s 1ms/step - loss: 0.2797 - accuracy: 0.8854 - f1_m: 0.8791 - precision_m: 0.9145 - recall_m: 0.8519 - val_loss: 0.4111 - val_accuracy: 0.8727 - val_f1_m: 0.8670 - val_precision_m: 0.9226 - val_recall_m: 0.8260\n",
      "Epoch 70/100\n",
      "24/24 [==============================] - 0s 1ms/step - loss: 0.2778 - accuracy: 0.8945 - f1_m: 0.8898 - precision_m: 0.9190 - recall_m: 0.8686 - val_loss: 0.4113 - val_accuracy: 0.8667 - val_f1_m: 0.8636 - val_precision_m: 0.9449 - val_recall_m: 0.7980\n",
      "Epoch 71/100\n",
      "24/24 [==============================] - 0s 1ms/step - loss: 0.2786 - accuracy: 0.8854 - f1_m: 0.8728 - precision_m: 0.9125 - recall_m: 0.8403 - val_loss: 0.4192 - val_accuracy: 0.8788 - val_f1_m: 0.8733 - val_precision_m: 0.9467 - val_recall_m: 0.8156\n",
      "Epoch 72/100\n",
      "24/24 [==============================] - 0s 1ms/step - loss: 0.2751 - accuracy: 0.8919 - f1_m: 0.8852 - precision_m: 0.9240 - recall_m: 0.8562 - val_loss: 0.4171 - val_accuracy: 0.8667 - val_f1_m: 0.8636 - val_precision_m: 0.9449 - val_recall_m: 0.7980\n",
      "Epoch 73/100\n",
      "24/24 [==============================] - 0s 958us/step - loss: 0.2783 - accuracy: 0.8880 - f1_m: 0.8799 - precision_m: 0.9197 - recall_m: 0.8489 - val_loss: 0.4150 - val_accuracy: 0.8727 - val_f1_m: 0.8684 - val_precision_m: 0.9233 - val_recall_m: 0.8260\n",
      "Epoch 74/100\n",
      "24/24 [==============================] - 0s 1ms/step - loss: 0.2780 - accuracy: 0.8815 - f1_m: 0.8737 - precision_m: 0.9200 - recall_m: 0.8437 - val_loss: 0.4207 - val_accuracy: 0.8485 - val_f1_m: 0.8480 - val_precision_m: 0.8808 - val_recall_m: 0.8260\n",
      "Epoch 75/100\n",
      "24/24 [==============================] - 0s 1ms/step - loss: 0.2903 - accuracy: 0.8854 - f1_m: 0.8828 - precision_m: 0.9023 - recall_m: 0.8758 - val_loss: 0.4190 - val_accuracy: 0.8606 - val_f1_m: 0.8563 - val_precision_m: 0.9101 - val_recall_m: 0.8156\n",
      "Epoch 76/100\n",
      "24/24 [==============================] - 0s 1ms/step - loss: 0.2916 - accuracy: 0.8854 - f1_m: 0.8784 - precision_m: 0.9223 - recall_m: 0.8490 - val_loss: 0.4323 - val_accuracy: 0.8606 - val_f1_m: 0.8585 - val_precision_m: 0.9044 - val_recall_m: 0.8260\n",
      "Epoch 77/100\n",
      "24/24 [==============================] - 0s 1ms/step - loss: 0.2787 - accuracy: 0.8945 - f1_m: 0.8897 - precision_m: 0.9232 - recall_m: 0.8674 - val_loss: 0.4193 - val_accuracy: 0.8606 - val_f1_m: 0.8571 - val_precision_m: 0.9016 - val_recall_m: 0.8260\n",
      "Epoch 78/100\n",
      "24/24 [==============================] - 0s 806us/step - loss: 0.2749 - accuracy: 0.8867 - f1_m: 0.8818 - precision_m: 0.9106 - recall_m: 0.8595 - val_loss: 0.4334 - val_accuracy: 0.8485 - val_f1_m: 0.8414 - val_precision_m: 0.9384 - val_recall_m: 0.7668\n",
      "Epoch 79/100\n",
      "24/24 [==============================] - 0s 1ms/step - loss: 0.2749 - accuracy: 0.8919 - f1_m: 0.8849 - precision_m: 0.9235 - recall_m: 0.8582 - val_loss: 0.4186 - val_accuracy: 0.8667 - val_f1_m: 0.8634 - val_precision_m: 0.9325 - val_recall_m: 0.8084\n",
      "Epoch 80/100\n",
      "24/24 [==============================] - 0s 1ms/step - loss: 0.2720 - accuracy: 0.8932 - f1_m: 0.8843 - precision_m: 0.9298 - recall_m: 0.8527 - val_loss: 0.4278 - val_accuracy: 0.8606 - val_f1_m: 0.8577 - val_precision_m: 0.9107 - val_recall_m: 0.8156\n",
      "Epoch 81/100\n",
      "24/24 [==============================] - 0s 1ms/step - loss: 0.2745 - accuracy: 0.8841 - f1_m: 0.8729 - precision_m: 0.9186 - recall_m: 0.8391 - val_loss: 0.4332 - val_accuracy: 0.8727 - val_f1_m: 0.8682 - val_precision_m: 0.9577 - val_recall_m: 0.7980\n",
      "Epoch 82/100\n",
      "24/24 [==============================] - 0s 1ms/step - loss: 0.2674 - accuracy: 0.8945 - f1_m: 0.8872 - precision_m: 0.9238 - recall_m: 0.8566 - val_loss: 0.4305 - val_accuracy: 0.8667 - val_f1_m: 0.8636 - val_precision_m: 0.9449 - val_recall_m: 0.7980\n",
      "Epoch 83/100\n",
      "24/24 [==============================] - 0s 1ms/step - loss: 0.2691 - accuracy: 0.8984 - f1_m: 0.8939 - precision_m: 0.9229 - recall_m: 0.8712 - val_loss: 0.4189 - val_accuracy: 0.8606 - val_f1_m: 0.8589 - val_precision_m: 0.9337 - val_recall_m: 0.7980\n",
      "Epoch 84/100\n",
      "24/24 [==============================] - 0s 1ms/step - loss: 0.2676 - accuracy: 0.8958 - f1_m: 0.8873 - precision_m: 0.9260 - recall_m: 0.8577 - val_loss: 0.4369 - val_accuracy: 0.8606 - val_f1_m: 0.8580 - val_precision_m: 0.9005 - val_recall_m: 0.8260\n",
      "Epoch 85/100\n",
      "24/24 [==============================] - 0s 871us/step - loss: 0.2660 - accuracy: 0.8958 - f1_m: 0.8918 - precision_m: 0.9356 - recall_m: 0.8579 - val_loss: 0.4321 - val_accuracy: 0.8667 - val_f1_m: 0.8627 - val_precision_m: 0.9117 - val_recall_m: 0.8260\n",
      "Epoch 86/100\n",
      "24/24 [==============================] - 0s 1ms/step - loss: 0.2672 - accuracy: 0.8945 - f1_m: 0.8875 - precision_m: 0.9122 - recall_m: 0.8703 - val_loss: 0.4377 - val_accuracy: 0.8667 - val_f1_m: 0.8624 - val_precision_m: 0.9218 - val_recall_m: 0.8156\n",
      "Epoch 87/100\n",
      "24/24 [==============================] - 0s 1ms/step - loss: 0.2678 - accuracy: 0.8932 - f1_m: 0.8928 - precision_m: 0.9206 - recall_m: 0.8723 - val_loss: 0.4295 - val_accuracy: 0.8667 - val_f1_m: 0.8636 - val_precision_m: 0.9449 - val_recall_m: 0.7980\n",
      "Epoch 88/100\n",
      "24/24 [==============================] - 0s 1ms/step - loss: 0.2653 - accuracy: 0.8945 - f1_m: 0.8850 - precision_m: 0.9171 - recall_m: 0.8615 - val_loss: 0.4427 - val_accuracy: 0.8848 - val_f1_m: 0.8779 - val_precision_m: 0.9595 - val_recall_m: 0.8156\n",
      "Epoch 89/100\n",
      "24/24 [==============================] - 0s 1ms/step - loss: 0.2658 - accuracy: 0.8932 - f1_m: 0.8865 - precision_m: 0.9207 - recall_m: 0.8618 - val_loss: 0.4272 - val_accuracy: 0.8667 - val_f1_m: 0.8636 - val_precision_m: 0.9449 - val_recall_m: 0.7980\n",
      "Epoch 90/100\n",
      "24/24 [==============================] - 0s 920us/step - loss: 0.2608 - accuracy: 0.8971 - f1_m: 0.8940 - precision_m: 0.9267 - recall_m: 0.8712 - val_loss: 0.4696 - val_accuracy: 0.8606 - val_f1_m: 0.8589 - val_precision_m: 0.9045 - val_recall_m: 0.8260\n"
     ]
    },
    {
     "name": "stdout",
     "output_type": "stream",
     "text": [
      "Epoch 91/100\n",
      "24/24 [==============================] - 0s 1ms/step - loss: 0.2645 - accuracy: 0.8984 - f1_m: 0.8947 - precision_m: 0.9202 - recall_m: 0.8749 - val_loss: 0.4287 - val_accuracy: 0.8667 - val_f1_m: 0.8606 - val_precision_m: 0.9211 - val_recall_m: 0.8156\n",
      "Epoch 92/100\n",
      "24/24 [==============================] - 0s 1ms/step - loss: 0.2616 - accuracy: 0.8958 - f1_m: 0.8927 - precision_m: 0.9196 - recall_m: 0.8737 - val_loss: 0.4460 - val_accuracy: 0.8667 - val_f1_m: 0.8636 - val_precision_m: 0.9449 - val_recall_m: 0.7980\n",
      "Epoch 93/100\n",
      "24/24 [==============================] - 0s 827us/step - loss: 0.2646 - accuracy: 0.8880 - f1_m: 0.8818 - precision_m: 0.9205 - recall_m: 0.8531 - val_loss: 0.4480 - val_accuracy: 0.8848 - val_f1_m: 0.8779 - val_precision_m: 0.9595 - val_recall_m: 0.8156\n",
      "Epoch 94/100\n",
      "24/24 [==============================] - 0s 1ms/step - loss: 0.2724 - accuracy: 0.8984 - f1_m: 0.8919 - precision_m: 0.9193 - recall_m: 0.8741 - val_loss: 0.4465 - val_accuracy: 0.8727 - val_f1_m: 0.8664 - val_precision_m: 0.9449 - val_recall_m: 0.8052\n",
      "Epoch 95/100\n",
      "24/24 [==============================] - 0s 1ms/step - loss: 0.2600 - accuracy: 0.8932 - f1_m: 0.8882 - precision_m: 0.9183 - recall_m: 0.8659 - val_loss: 0.4502 - val_accuracy: 0.8727 - val_f1_m: 0.8684 - val_precision_m: 0.9233 - val_recall_m: 0.8260\n",
      "Epoch 96/100\n",
      "24/24 [==============================] - 0s 1ms/step - loss: 0.2588 - accuracy: 0.8945 - f1_m: 0.8868 - precision_m: 0.9286 - recall_m: 0.8519 - val_loss: 0.4563 - val_accuracy: 0.8667 - val_f1_m: 0.8628 - val_precision_m: 0.9257 - val_recall_m: 0.8156\n",
      "Epoch 97/100\n",
      "24/24 [==============================] - 0s 1ms/step - loss: 0.2619 - accuracy: 0.8997 - f1_m: 0.8922 - precision_m: 0.9193 - recall_m: 0.8733 - val_loss: 0.4567 - val_accuracy: 0.8667 - val_f1_m: 0.8590 - val_precision_m: 0.9427 - val_recall_m: 0.7947\n",
      "Epoch 98/100\n",
      "24/24 [==============================] - 0s 1ms/step - loss: 0.2647 - accuracy: 0.8919 - f1_m: 0.8858 - precision_m: 0.9155 - recall_m: 0.8643 - val_loss: 0.4639 - val_accuracy: 0.8667 - val_f1_m: 0.8613 - val_precision_m: 0.9558 - val_recall_m: 0.7876\n",
      "Epoch 99/100\n",
      "24/24 [==============================] - 0s 1ms/step - loss: 0.2589 - accuracy: 0.8906 - f1_m: 0.8856 - precision_m: 0.9133 - recall_m: 0.8662 - val_loss: 0.4605 - val_accuracy: 0.8667 - val_f1_m: 0.8620 - val_precision_m: 0.9217 - val_recall_m: 0.8156\n",
      "Epoch 100/100\n",
      " 1/24 [>.............................] - ETA: 0s - loss: 0.2761 - accuracy: 0.8750 - f1_m: 0.8750 - precision_m: 0.9333 - recall_m: 0.8235"
     ]
    }
   ],
   "source": [
    "tuner.search(x_train, y_train,\n",
    "             epochs = 100,\n",
    "             validation_data = (x_valid, y_valid),\n",
    "            )\n"
   ]
  },
  {
   "cell_type": "code",
   "execution_count": null,
   "id": "b7d3c054",
   "metadata": {
    "scrolled": true
   },
   "outputs": [],
   "source": [
    "tuner.results_summary()"
   ]
  },
  {
   "cell_type": "code",
   "execution_count": null,
   "id": "6505b524",
   "metadata": {},
   "outputs": [],
   "source": [
    "best_model = tuner.get_best_models(num_models=1)[0]\n",
    "# Evaluate the best model.\n",
    "best_model.evaluate(x_valid, y_valid)"
   ]
  },
  {
   "cell_type": "code",
   "execution_count": null,
   "id": "3c047c3f",
   "metadata": {},
   "outputs": [],
   "source": [
    "best_model.evaluate(x_train, y_train)"
   ]
  },
  {
   "cell_type": "code",
   "execution_count": null,
   "id": "ffe4db65",
   "metadata": {},
   "outputs": [],
   "source": [
    "best_model.evaluate(x_test, y_test)"
   ]
  },
  {
   "cell_type": "code",
   "execution_count": null,
   "id": "94ed605b",
   "metadata": {},
   "outputs": [],
   "source": [
    "best_model.summary()"
   ]
  },
  {
   "cell_type": "code",
   "execution_count": null,
   "id": "70ffc35f",
   "metadata": {},
   "outputs": [],
   "source": [
    "for i in range(3):\n",
    "    print(best_model.layers[i].get_config())"
   ]
  },
  {
   "cell_type": "code",
   "execution_count": null,
   "id": "4e3cc496",
   "metadata": {},
   "outputs": [],
   "source": [
    "import keras.backend as K\n",
    "print(K.eval(best_model.optimizer.lr))"
   ]
  },
  {
   "cell_type": "code",
   "execution_count": null,
   "id": "1643f589",
   "metadata": {},
   "outputs": [],
   "source": [
    "import os\n",
    "def create_model_checkpoint(model_name, save_path=\"model_experiments\"):\n",
    "    return tf.keras.callbacks.ModelCheckpoint(filepath = os.path.join(save_path, model_name),\n",
    "                                              verbose = 0,\n",
    "                                              monitor = \"val_accuracy\",\n",
    "                                              save_best_only=True,\n",
    "                                              save_weights_only=False,\n",
    "                                              mode = 'max',\n",
    "                                             )"
   ]
  },
  {
   "cell_type": "code",
   "execution_count": null,
   "id": "21737271",
   "metadata": {},
   "outputs": [],
   "source": [
    "x_over"
   ]
  },
  {
   "cell_type": "code",
   "execution_count": null,
   "id": "1f1edf31",
   "metadata": {
    "scrolled": true
   },
   "outputs": [],
   "source": [
    "tf.random.set_seed(42)\n",
    "\n",
    "best_model.fit(x_over,\n",
    "               y_over,epochs = 300,\n",
    "               validation_data = (x_test, y_test),\n",
    "               callbacks=[create_model_checkpoint(\"best_model\")])\n",
    "\n",
    "# best_model = tf.keras.models.load_model('model_experiments/best_model/',  custom_objects={\"val_f1_m\": f1_m},compile=False)\n",
    "best_model =  tf.keras.models.load_model('model_experiments/best_model/',compile=False)\n",
    "best_model.compile(optimizer=tf.keras.optimizers.Adam(),\n",
    "              loss = tf.keras.losses.BinaryCrossentropy(from_logits=True),\n",
    "              metrics = ['accuracy',f1_m,precision_m, recall_m]\n",
    "             )\n",
    "\n",
    "\n"
   ]
  },
  {
   "cell_type": "code",
   "execution_count": null,
   "id": "4c883358",
   "metadata": {
    "scrolled": true
   },
   "outputs": [],
   "source": [
    "best_model.evaluate(x_test, y_test)"
   ]
  },
  {
   "cell_type": "code",
   "execution_count": null,
   "id": "4b43cf9b",
   "metadata": {},
   "outputs": [],
   "source": [
    "from sklearn.metrics import confusion_matrix\n",
    "preds = best_model.predict(x_test)\n",
    "preds = [1 if i > 0.5 else 0 for i in preds]\n",
    "confusion_matrix(preds, y_test)"
   ]
  },
  {
   "cell_type": "code",
   "execution_count": null,
   "id": "2ec8422e",
   "metadata": {},
   "outputs": [],
   "source": [
    "tn, fp, fn, tp = confusion_matrix(preds, y_test).ravel()\n",
    "(tn, fp, fn, tp)"
   ]
  },
  {
   "cell_type": "markdown",
   "id": "c2bbf225",
   "metadata": {},
   "source": [
    "## Test set evaluation"
   ]
  },
  {
   "cell_type": "code",
   "execution_count": null,
   "id": "3fdb87c1",
   "metadata": {},
   "outputs": [],
   "source": [
    "test = pd.read_csv(\"./data/test.csv\")\n",
    "test.head()"
   ]
  },
  {
   "cell_type": "code",
   "execution_count": null,
   "id": "6f83eee1",
   "metadata": {},
   "outputs": [],
   "source": [
    "test.isnull().sum()"
   ]
  },
  {
   "cell_type": "code",
   "execution_count": null,
   "id": "859b9086",
   "metadata": {},
   "outputs": [],
   "source": [
    "# Deal with missing vals\n",
    "test['Age'].fillna(test['Age'].median(),inplace=True)\n",
    "test['Fare'].fillna(test['Fare'].median(),inplace=True)"
   ]
  },
  {
   "cell_type": "code",
   "execution_count": null,
   "id": "f75d383a",
   "metadata": {},
   "outputs": [],
   "source": [
    "numerical_features.remove(\"Survived\")\n",
    "# categorical_features.remove(\"HighClassFemale\")\n",
    "test = preprocess_data(test, categorical_features, numerical_features)\n",
    "test.head()"
   ]
  },
  {
   "cell_type": "code",
   "execution_count": null,
   "id": "ffa6562e",
   "metadata": {},
   "outputs": [],
   "source": [
    "scaler = StandardScaler()\n",
    "scaler.fit_transform(x_over)\n",
    "test = scaler.transform(test)"
   ]
  },
  {
   "cell_type": "code",
   "execution_count": null,
   "id": "bd090670",
   "metadata": {},
   "outputs": [],
   "source": [
    "preds = best_model.predict(test)\n",
    "preds"
   ]
  },
  {
   "cell_type": "code",
   "execution_count": null,
   "id": "1aa20cc4",
   "metadata": {},
   "outputs": [],
   "source": [
    "preds = [0 if i < 0.5 else 1 for i in preds]\n",
    "preds"
   ]
  },
  {
   "cell_type": "code",
   "execution_count": null,
   "id": "48df117b",
   "metadata": {},
   "outputs": [],
   "source": [
    "test = pd.read_csv(\"./data/test.csv\")\n",
    "submission = pd.DataFrame({\"PassengerId\":test['PassengerId'], \"Survived\":preds})\n",
    "submission.head()"
   ]
  },
  {
   "cell_type": "code",
   "execution_count": null,
   "id": "96a5f78a",
   "metadata": {},
   "outputs": [],
   "source": [
    "submission[\"Survived\"].value_counts()"
   ]
  },
  {
   "cell_type": "code",
   "execution_count": null,
   "id": "027ba931",
   "metadata": {},
   "outputs": [],
   "source": [
    "submission.to_csv(\"./data/preds.csv\", index=False)"
   ]
  },
  {
   "cell_type": "code",
   "execution_count": null,
   "id": "3273f12e",
   "metadata": {},
   "outputs": [],
   "source": []
  }
 ],
 "metadata": {
  "kernelspec": {
   "display_name": "Python 3 (ipykernel)",
   "language": "python",
   "name": "python3"
  },
  "language_info": {
   "codemirror_mode": {
    "name": "ipython",
    "version": 3
   },
   "file_extension": ".py",
   "mimetype": "text/x-python",
   "name": "python",
   "nbconvert_exporter": "python",
   "pygments_lexer": "ipython3",
   "version": "3.8.8"
  }
 },
 "nbformat": 4,
 "nbformat_minor": 5
}
