{
 "cells": [
  {
   "cell_type": "markdown",
   "id": "fbe4cf9b",
   "metadata": {},
   "source": [
    "### Cross Validation\n",
    "\n",
    "We cannot rely 100% on the train test split alone. This is because models are tested with only training and test data which are reliant on random seeds or particular splits in the data which can lead to varied performance of different models. For example, someone tests on a 80-20 train test split with random seed (123) and gets 78.5 while someone else trains on a 70-30 train test split with random seed (999) and get a performance of 79.87%. Therefore, sometimes the performance on train-test split alone can be misleading. <br>\n",
    "\n",
    "<b>We need to create different combinations of the data and provide some sort of average score.</b> This is known as cross validation. <br>\n",
    "\n",
    "<b>K-Fold Cross validation</b> is when we divide the data into different folds or groups of data. We can do this on the entire training set or the entire data. Once we divide the data into groups, we consider one group as the test data while the other remaining groups are the training data. This process continues until the model is trained and tested on every group (every group has a chance of being the test data).<br>\n",
    "\n",
    "The average of the performance scores for each iteration is the final score. <br>\n",
    "\n",
    "<ol>\n",
    "    <li>Training set : The sample of data used to fit the model</li>\n",
    "    <li>Validation set: The sample of data used to provide an unbiased evaluation of a model that has been fit on the training data while tuning model hyperparams. The evaluation becomes more biased as skill on the validation set is incorporated into the model config.</li>\n",
    "    <li>Test set: The sample of data used to provide an estimation of model performance on the fit on the training dataset</li>\n",
    "</ol>"
   ]
  },
  {
   "cell_type": "code",
   "execution_count": 1,
   "id": "557e4a15",
   "metadata": {},
   "outputs": [],
   "source": [
    "import pandas as pd"
   ]
  },
  {
   "cell_type": "code",
   "execution_count": 2,
   "id": "371c51f0",
   "metadata": {},
   "outputs": [],
   "source": [
    "data = pd.read_csv(\"../data/04 - decisiontreeAdultIncome.csv\")\n",
    "data_prep = pd.get_dummies(data,drop_first=True)\n",
    "x = data_prep.iloc[:,:-1]\n",
    "y = data_prep.iloc[:,-1]\n",
    "\n",
    "from sklearn.tree import DecisionTreeClassifier\n",
    "dtc = DecisionTreeClassifier(random_state=1)\n",
    "\n",
    "from sklearn.ensemble import RandomForestClassifier\n",
    "rfc = RandomForestClassifier(random_state=2)\n",
    "\n",
    "from sklearn.svm import SVC\n",
    "svc = SVC(kernel=\"rbf\",gamma=0.5)"
   ]
  },
  {
   "cell_type": "code",
   "execution_count": 3,
   "id": "76cd4cb8",
   "metadata": {},
   "outputs": [],
   "source": [
    "from sklearn.model_selection import cross_validate\n",
    "\n",
    "# 10 fold validation\n",
    "cv_decision_tree = cross_validate(dtc,x,y,cv=10,return_train_score=True)\n",
    "cv_random_forest = cross_validate(rfc,x,y,cv=10,return_train_score=True)\n",
    "cv_svm = cross_validate(svc,x,y,cv=10,return_train_score=True)"
   ]
  },
  {
   "cell_type": "code",
   "execution_count": 7,
   "id": "a67b1334",
   "metadata": {},
   "outputs": [
    {
     "data": {
      "text/plain": [
       "(0.8036085674097743, 0.7975443368718358, 0.7808671281008731)"
      ]
     },
     "execution_count": 7,
     "metadata": {},
     "output_type": "execute_result"
    }
   ],
   "source": [
    "cv_svm['test_score'].mean(), cv_random_forest['test_score'].mean(), cv_decision_tree[\"test_score\"].mean()"
   ]
  },
  {
   "cell_type": "code",
   "execution_count": 8,
   "id": "772d6705",
   "metadata": {},
   "outputs": [
    {
     "data": {
      "text/plain": [
       "(0.8744798848765454, 0.9043423576250881, 0.9043535882172298)"
      ]
     },
     "execution_count": 8,
     "metadata": {},
     "output_type": "execute_result"
    }
   ],
   "source": [
    "cv_svm['train_score'].mean(), cv_random_forest['train_score'].mean(), cv_decision_tree[\"train_score\"].mean()"
   ]
  }
 ],
 "metadata": {
  "kernelspec": {
   "display_name": "Python 3 (ipykernel)",
   "language": "python",
   "name": "python3"
  },
  "language_info": {
   "codemirror_mode": {
    "name": "ipython",
    "version": 3
   },
   "file_extension": ".py",
   "mimetype": "text/x-python",
   "name": "python",
   "nbconvert_exporter": "python",
   "pygments_lexer": "ipython3",
   "version": "3.8.8"
  }
 },
 "nbformat": 4,
 "nbformat_minor": 5
}
