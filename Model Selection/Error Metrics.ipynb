{
 "cells": [
  {
   "cell_type": "markdown",
   "id": "9eb14163",
   "metadata": {},
   "source": [
    "### Error Metrics\n",
    "\n",
    "For Regression\n",
    "<ul>\n",
    "    <li>MSE: Used when the prediction values are small. Very sensitive to outliers because the MSE will try to balance the weights based on the large errors caused by the outliers</li>\n",
    "    <li>Mean Squared Log Error: Used when predicted values are large and we do not want to penalize the large errors. this is because the error term is reduced when we take the log</li>\n",
    "    <li>L2-Norm: Similar to MSE, except we do not take the mean. </li>\n",
    "    <li>MAE: Mean absolute error for each data point. Robust- Robust because it is not sensitive to large errors . Gradient is difficult to calculate MAE is a linear function (MSE is quadratic). </li>\n",
    "    <li>L1 Norm: Same as MAE without the mean</li>\n",
    "</ul>\n",
    "\n",
    "Classification\n",
    "\n",
    "<ul>\n",
    "    <li>Recall = How often your model can predict the positive class correctly (How many of the positive class can it classify correctly). TP/(TP+FN)</li>\n",
    "    <li>Precision = How precisely can your model predict the positive class TP/(TP+FP)</li>\n",
    "    <li>F1 Score = Harmonic mean between precision and recall, typically we want to emphasize this over the precision and recall. It will punish an unbalanced recall and precision</li>\n",
    "</ul>"
   ]
  },
  {
   "cell_type": "code",
   "execution_count": null,
   "id": "3c48def5",
   "metadata": {},
   "outputs": [],
   "source": []
  }
 ],
 "metadata": {
  "kernelspec": {
   "display_name": "Python 3 (ipykernel)",
   "language": "python",
   "name": "python3"
  },
  "language_info": {
   "codemirror_mode": {
    "name": "ipython",
    "version": 3
   },
   "file_extension": ".py",
   "mimetype": "text/x-python",
   "name": "python",
   "nbconvert_exporter": "python",
   "pygments_lexer": "ipython3",
   "version": "3.8.8"
  }
 },
 "nbformat": 4,
 "nbformat_minor": 5
}
