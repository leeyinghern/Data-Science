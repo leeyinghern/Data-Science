{
 "cells": [
  {
   "cell_type": "code",
   "execution_count": 1,
   "id": "57f72d21",
   "metadata": {},
   "outputs": [],
   "source": [
    "import pandas as pd"
   ]
  },
  {
   "cell_type": "code",
   "execution_count": 2,
   "id": "3b08e4b2",
   "metadata": {},
   "outputs": [
    {
     "data": {
      "text/html": [
       "<div>\n",
       "<style scoped>\n",
       "    .dataframe tbody tr th:only-of-type {\n",
       "        vertical-align: middle;\n",
       "    }\n",
       "\n",
       "    .dataframe tbody tr th {\n",
       "        vertical-align: top;\n",
       "    }\n",
       "\n",
       "    .dataframe thead th {\n",
       "        text-align: right;\n",
       "    }\n",
       "</style>\n",
       "<table border=\"1\" class=\"dataframe\">\n",
       "  <thead>\n",
       "    <tr style=\"text-align: right;\">\n",
       "      <th></th>\n",
       "      <th>Loan_ID</th>\n",
       "      <th>Gender</th>\n",
       "      <th>ApplicantIncome</th>\n",
       "      <th>CoapplicantIncome</th>\n",
       "      <th>LoanAmount</th>\n",
       "      <th>Area</th>\n",
       "      <th>Loan_Status</th>\n",
       "    </tr>\n",
       "  </thead>\n",
       "  <tbody>\n",
       "    <tr>\n",
       "      <th>0</th>\n",
       "      <td>LP001002</td>\n",
       "      <td>NaN</td>\n",
       "      <td>5849.0</td>\n",
       "      <td>0.0</td>\n",
       "      <td>NaN</td>\n",
       "      <td>urban</td>\n",
       "      <td>Y</td>\n",
       "    </tr>\n",
       "    <tr>\n",
       "      <th>1</th>\n",
       "      <td>LP001003</td>\n",
       "      <td>Male</td>\n",
       "      <td>4583.0</td>\n",
       "      <td>NaN</td>\n",
       "      <td>128.0</td>\n",
       "      <td>semi</td>\n",
       "      <td>N</td>\n",
       "    </tr>\n",
       "    <tr>\n",
       "      <th>2</th>\n",
       "      <td>LP001005</td>\n",
       "      <td>Male</td>\n",
       "      <td>3000.0</td>\n",
       "      <td>0.0</td>\n",
       "      <td>66.0</td>\n",
       "      <td>NaN</td>\n",
       "      <td>Y</td>\n",
       "    </tr>\n",
       "    <tr>\n",
       "      <th>3</th>\n",
       "      <td>LP001006</td>\n",
       "      <td>Female</td>\n",
       "      <td>2583.0</td>\n",
       "      <td>2358.0</td>\n",
       "      <td>120.0</td>\n",
       "      <td>semi</td>\n",
       "      <td>NaN</td>\n",
       "    </tr>\n",
       "    <tr>\n",
       "      <th>4</th>\n",
       "      <td>LP001008</td>\n",
       "      <td>Male</td>\n",
       "      <td>NaN</td>\n",
       "      <td>0.0</td>\n",
       "      <td>141.0</td>\n",
       "      <td>urban</td>\n",
       "      <td>Y</td>\n",
       "    </tr>\n",
       "  </tbody>\n",
       "</table>\n",
       "</div>"
      ],
      "text/plain": [
       "    Loan_ID  Gender  ApplicantIncome  CoapplicantIncome  LoanAmount   Area  \\\n",
       "0  LP001002     NaN           5849.0                0.0         NaN  urban   \n",
       "1  LP001003    Male           4583.0                NaN       128.0   semi   \n",
       "2  LP001005    Male           3000.0                0.0        66.0    NaN   \n",
       "3  LP001006  Female           2583.0             2358.0       120.0   semi   \n",
       "4  LP001008    Male              NaN                0.0       141.0  urban   \n",
       "\n",
       "  Loan_Status  \n",
       "0           Y  \n",
       "1           N  \n",
       "2           Y  \n",
       "3         NaN  \n",
       "4           Y  "
      ]
     },
     "execution_count": 2,
     "metadata": {},
     "output_type": "execute_result"
    }
   ],
   "source": [
    "def load_data():\n",
    "    df = pd.read_csv(\"./data/loan_small.csv\")\n",
    "    df.head()\n",
    "    return df\n",
    "\n",
    "df = load_data()\n",
    "df.head()"
   ]
  },
  {
   "cell_type": "code",
   "execution_count": 3,
   "id": "46e8ad64",
   "metadata": {},
   "outputs": [
    {
     "data": {
      "text/plain": [
       "(       ApplicantIncome  CoapplicantIncome  LoanAmount\n",
       " count        14.000000          15.000000   13.000000\n",
       " mean       4103.571429        2509.333333  140.923077\n",
       " std        2858.096481        3147.982090   86.032418\n",
       " min        1299.000000           0.000000   17.000000\n",
       " 25%        2520.750000         350.000000  109.000000\n",
       " 50%        3118.000000        1526.000000  125.000000\n",
       " 75%        4858.250000        2672.000000  158.000000\n",
       " max       12841.000000       10968.000000  349.000000,\n",
       " Index(['Loan_ID', 'Gender', 'ApplicantIncome', 'CoapplicantIncome',\n",
       "        'LoanAmount', 'Area', 'Loan_Status'],\n",
       "       dtype='object'),\n",
       " Loan_ID               object\n",
       " Gender                object\n",
       " ApplicantIncome      float64\n",
       " CoapplicantIncome    float64\n",
       " LoanAmount           float64\n",
       " Area                  object\n",
       " Loan_Status           object\n",
       " dtype: object)"
      ]
     },
     "execution_count": 3,
     "metadata": {},
     "output_type": "execute_result"
    }
   ],
   "source": [
    "df.describe(), df.columns, df.dtypes"
   ]
  },
  {
   "cell_type": "markdown",
   "id": "ccb3e4ce",
   "metadata": {},
   "source": [
    "### Handling missing values"
   ]
  },
  {
   "cell_type": "code",
   "execution_count": 4,
   "id": "9de1b504",
   "metadata": {},
   "outputs": [
    {
     "data": {
      "text/plain": [
       "Loan_ID              0\n",
       "Gender               1\n",
       "ApplicantIncome      2\n",
       "CoapplicantIncome    1\n",
       "LoanAmount           3\n",
       "Area                 1\n",
       "Loan_Status          1\n",
       "dtype: int64"
      ]
     },
     "execution_count": 4,
     "metadata": {},
     "output_type": "execute_result"
    }
   ],
   "source": [
    "# Check for missing values\n",
    "df.isnull().sum(axis=0)"
   ]
  },
  {
   "cell_type": "code",
   "execution_count": 5,
   "id": "de8c0dd1",
   "metadata": {},
   "outputs": [
    {
     "data": {
      "text/plain": [
       "Loan_ID              0\n",
       "Gender               0\n",
       "ApplicantIncome      0\n",
       "CoapplicantIncome    0\n",
       "LoanAmount           0\n",
       "Area                 0\n",
       "Loan_Status          0\n",
       "dtype: int64"
      ]
     },
     "execution_count": 5,
     "metadata": {},
     "output_type": "execute_result"
    }
   ],
   "source": [
    "# Drop the missing values\n",
    "df.dropna(inplace=True)\n",
    "df.isnull().sum()"
   ]
  },
  {
   "cell_type": "code",
   "execution_count": 6,
   "id": "08640fcd",
   "metadata": {},
   "outputs": [
    {
     "data": {
      "text/html": [
       "<div>\n",
       "<style scoped>\n",
       "    .dataframe tbody tr th:only-of-type {\n",
       "        vertical-align: middle;\n",
       "    }\n",
       "\n",
       "    .dataframe tbody tr th {\n",
       "        vertical-align: top;\n",
       "    }\n",
       "\n",
       "    .dataframe thead th {\n",
       "        text-align: right;\n",
       "    }\n",
       "</style>\n",
       "<table border=\"1\" class=\"dataframe\">\n",
       "  <thead>\n",
       "    <tr style=\"text-align: right;\">\n",
       "      <th></th>\n",
       "      <th>Loan_ID</th>\n",
       "      <th>Gender</th>\n",
       "      <th>ApplicantIncome</th>\n",
       "      <th>CoapplicantIncome</th>\n",
       "      <th>LoanAmount</th>\n",
       "      <th>Area</th>\n",
       "      <th>Loan_Status</th>\n",
       "    </tr>\n",
       "  </thead>\n",
       "  <tbody>\n",
       "    <tr>\n",
       "      <th>0</th>\n",
       "      <td>LP001002</td>\n",
       "      <td>Male</td>\n",
       "      <td>5849.0</td>\n",
       "      <td>0.0</td>\n",
       "      <td>NaN</td>\n",
       "      <td>urban</td>\n",
       "      <td>Y</td>\n",
       "    </tr>\n",
       "    <tr>\n",
       "      <th>1</th>\n",
       "      <td>LP001003</td>\n",
       "      <td>Male</td>\n",
       "      <td>4583.0</td>\n",
       "      <td>NaN</td>\n",
       "      <td>128.0</td>\n",
       "      <td>semi</td>\n",
       "      <td>N</td>\n",
       "    </tr>\n",
       "    <tr>\n",
       "      <th>2</th>\n",
       "      <td>LP001005</td>\n",
       "      <td>Male</td>\n",
       "      <td>3000.0</td>\n",
       "      <td>0.0</td>\n",
       "      <td>66.0</td>\n",
       "      <td>semi</td>\n",
       "      <td>Y</td>\n",
       "    </tr>\n",
       "    <tr>\n",
       "      <th>3</th>\n",
       "      <td>LP001006</td>\n",
       "      <td>Female</td>\n",
       "      <td>2583.0</td>\n",
       "      <td>2358.0</td>\n",
       "      <td>120.0</td>\n",
       "      <td>semi</td>\n",
       "      <td>Y</td>\n",
       "    </tr>\n",
       "    <tr>\n",
       "      <th>4</th>\n",
       "      <td>LP001008</td>\n",
       "      <td>Male</td>\n",
       "      <td>NaN</td>\n",
       "      <td>0.0</td>\n",
       "      <td>141.0</td>\n",
       "      <td>urban</td>\n",
       "      <td>Y</td>\n",
       "    </tr>\n",
       "  </tbody>\n",
       "</table>\n",
       "</div>"
      ],
      "text/plain": [
       "    Loan_ID  Gender  ApplicantIncome  CoapplicantIncome  LoanAmount   Area  \\\n",
       "0  LP001002    Male           5849.0                0.0         NaN  urban   \n",
       "1  LP001003    Male           4583.0                NaN       128.0   semi   \n",
       "2  LP001005    Male           3000.0                0.0        66.0   semi   \n",
       "3  LP001006  Female           2583.0             2358.0       120.0   semi   \n",
       "4  LP001008    Male              NaN                0.0       141.0  urban   \n",
       "\n",
       "  Loan_Status  \n",
       "0           Y  \n",
       "1           N  \n",
       "2           Y  \n",
       "3           Y  \n",
       "4           Y  "
      ]
     },
     "execution_count": 6,
     "metadata": {},
     "output_type": "execute_result"
    }
   ],
   "source": [
    "# Replace missing categorical variables with mode (most common values)\n",
    "df = load_data()\n",
    "cols = [\"Gender\",\"Area\",\"Loan_Status\"]\n",
    "df[cols] = df[cols].fillna(value=df[cols].mode().iloc[0]) # .iloc[0] gets the most frequent value\n",
    "df.head()"
   ]
  },
  {
   "cell_type": "code",
   "execution_count": 7,
   "id": "d585ca3d",
   "metadata": {},
   "outputs": [
    {
     "data": {
      "text/html": [
       "<div>\n",
       "<style scoped>\n",
       "    .dataframe tbody tr th:only-of-type {\n",
       "        vertical-align: middle;\n",
       "    }\n",
       "\n",
       "    .dataframe tbody tr th {\n",
       "        vertical-align: top;\n",
       "    }\n",
       "\n",
       "    .dataframe thead th {\n",
       "        text-align: right;\n",
       "    }\n",
       "</style>\n",
       "<table border=\"1\" class=\"dataframe\">\n",
       "  <thead>\n",
       "    <tr style=\"text-align: right;\">\n",
       "      <th></th>\n",
       "      <th>Loan_ID</th>\n",
       "      <th>Gender</th>\n",
       "      <th>ApplicantIncome</th>\n",
       "      <th>CoapplicantIncome</th>\n",
       "      <th>LoanAmount</th>\n",
       "      <th>Area</th>\n",
       "      <th>Loan_Status</th>\n",
       "    </tr>\n",
       "  </thead>\n",
       "  <tbody>\n",
       "    <tr>\n",
       "      <th>0</th>\n",
       "      <td>LP001002</td>\n",
       "      <td>Male</td>\n",
       "      <td>5849.000000</td>\n",
       "      <td>0.000000</td>\n",
       "      <td>140.923077</td>\n",
       "      <td>urban</td>\n",
       "      <td>Y</td>\n",
       "    </tr>\n",
       "    <tr>\n",
       "      <th>1</th>\n",
       "      <td>LP001003</td>\n",
       "      <td>Male</td>\n",
       "      <td>4583.000000</td>\n",
       "      <td>2509.333333</td>\n",
       "      <td>128.000000</td>\n",
       "      <td>semi</td>\n",
       "      <td>N</td>\n",
       "    </tr>\n",
       "    <tr>\n",
       "      <th>2</th>\n",
       "      <td>LP001005</td>\n",
       "      <td>Male</td>\n",
       "      <td>3000.000000</td>\n",
       "      <td>0.000000</td>\n",
       "      <td>66.000000</td>\n",
       "      <td>semi</td>\n",
       "      <td>Y</td>\n",
       "    </tr>\n",
       "    <tr>\n",
       "      <th>3</th>\n",
       "      <td>LP001006</td>\n",
       "      <td>Female</td>\n",
       "      <td>2583.000000</td>\n",
       "      <td>2358.000000</td>\n",
       "      <td>120.000000</td>\n",
       "      <td>semi</td>\n",
       "      <td>Y</td>\n",
       "    </tr>\n",
       "    <tr>\n",
       "      <th>4</th>\n",
       "      <td>LP001008</td>\n",
       "      <td>Male</td>\n",
       "      <td>4103.571429</td>\n",
       "      <td>0.000000</td>\n",
       "      <td>141.000000</td>\n",
       "      <td>urban</td>\n",
       "      <td>Y</td>\n",
       "    </tr>\n",
       "  </tbody>\n",
       "</table>\n",
       "</div>"
      ],
      "text/plain": [
       "    Loan_ID  Gender  ApplicantIncome  CoapplicantIncome  LoanAmount   Area  \\\n",
       "0  LP001002    Male      5849.000000           0.000000  140.923077  urban   \n",
       "1  LP001003    Male      4583.000000        2509.333333  128.000000   semi   \n",
       "2  LP001005    Male      3000.000000           0.000000   66.000000   semi   \n",
       "3  LP001006  Female      2583.000000        2358.000000  120.000000   semi   \n",
       "4  LP001008    Male      4103.571429           0.000000  141.000000  urban   \n",
       "\n",
       "  Loan_Status  \n",
       "0           Y  \n",
       "1           N  \n",
       "2           Y  \n",
       "3           Y  \n",
       "4           Y  "
      ]
     },
     "execution_count": 7,
     "metadata": {},
     "output_type": "execute_result"
    }
   ],
   "source": [
    "# Replace numerical values with mean\n",
    "cols_num = [\"ApplicantIncome\",\"CoapplicantIncome\",\"LoanAmount\"]\n",
    "df[cols_num] = df[cols_num].fillna(value=df[cols_num].mean())\n",
    "df.head()"
   ]
  },
  {
   "cell_type": "markdown",
   "id": "133e20cc",
   "metadata": {},
   "source": [
    "### Label encoding for categorical data\n",
    "<ul>\n",
    "    <li> Get rid of the english labels with a numerical value </li>\n",
    "    <li>For example, \"low\", \"med\", \"hi\" -> 0,1,2</li>\n",
    "    <li>Problem with label encoding is that the numbers have certain weightage behind it. For example, 2>1>0, which can potentially affect the model weights.</li>\n",
    "</ul>"
   ]
  },
  {
   "cell_type": "code",
   "execution_count": 8,
   "id": "9bad4f64",
   "metadata": {},
   "outputs": [
    {
     "data": {
      "text/plain": [
       "Loan_ID               object\n",
       "Gender                object\n",
       "ApplicantIncome      float64\n",
       "CoapplicantIncome    float64\n",
       "LoanAmount           float64\n",
       "Area                  object\n",
       "Loan_Status           object\n",
       "dtype: object"
      ]
     },
     "execution_count": 8,
     "metadata": {},
     "output_type": "execute_result"
    }
   ],
   "source": [
    "# Check the data types\n",
    "df.dtypes"
   ]
  },
  {
   "cell_type": "code",
   "execution_count": 9,
   "id": "1ab6ed8b",
   "metadata": {},
   "outputs": [
    {
     "data": {
      "text/plain": [
       "Loan_ID                object\n",
       "Gender               category\n",
       "ApplicantIncome       float64\n",
       "CoapplicantIncome     float64\n",
       "LoanAmount            float64\n",
       "Area                 category\n",
       "Loan_Status          category\n",
       "dtype: object"
      ]
     },
     "execution_count": 9,
     "metadata": {},
     "output_type": "execute_result"
    }
   ],
   "source": [
    "df[cols] = df[cols].astype(\"category\") # convert object type to cat type\n",
    "df.dtypes"
   ]
  },
  {
   "cell_type": "code",
   "execution_count": 10,
   "id": "eb71240a",
   "metadata": {},
   "outputs": [],
   "source": [
    "# Convert categorical variables to numerical vals\n",
    "for col in cols:\n",
    "    df[col] = df[col].cat.codes"
   ]
  },
  {
   "cell_type": "markdown",
   "id": "2cf48e29",
   "metadata": {},
   "source": [
    "#### Hot encoding / Dummy Variable creation\n",
    "<ul>\n",
    "    <li>Convert a categorical column into a matrix of ones and zeros </li>\n",
    "    <li>If column has 3 categories and n rows, we get a matrix of n x 3 of zeros and ones</li>\n",
    "</ul>"
   ]
  },
  {
   "cell_type": "code",
   "execution_count": 11,
   "id": "fdcd9af6",
   "metadata": {},
   "outputs": [],
   "source": [
    "df = load_data()\n",
    "df2 = df.drop([\"Loan_ID\"], axis=1)\n",
    "df2 = pd.get_dummies(df2) # Take the dataset and convert the object type cols into dummy vars"
   ]
  },
  {
   "cell_type": "code",
   "execution_count": 12,
   "id": "96898f04",
   "metadata": {},
   "outputs": [
    {
     "data": {
      "text/html": [
       "<div>\n",
       "<style scoped>\n",
       "    .dataframe tbody tr th:only-of-type {\n",
       "        vertical-align: middle;\n",
       "    }\n",
       "\n",
       "    .dataframe tbody tr th {\n",
       "        vertical-align: top;\n",
       "    }\n",
       "\n",
       "    .dataframe thead th {\n",
       "        text-align: right;\n",
       "    }\n",
       "</style>\n",
       "<table border=\"1\" class=\"dataframe\">\n",
       "  <thead>\n",
       "    <tr style=\"text-align: right;\">\n",
       "      <th></th>\n",
       "      <th>ApplicantIncome</th>\n",
       "      <th>CoapplicantIncome</th>\n",
       "      <th>LoanAmount</th>\n",
       "      <th>Gender_Female</th>\n",
       "      <th>Gender_Male</th>\n",
       "      <th>Area_rural</th>\n",
       "      <th>Area_semi</th>\n",
       "      <th>Area_urban</th>\n",
       "      <th>Loan_Status_N</th>\n",
       "      <th>Loan_Status_Y</th>\n",
       "    </tr>\n",
       "  </thead>\n",
       "  <tbody>\n",
       "    <tr>\n",
       "      <th>0</th>\n",
       "      <td>5849.0</td>\n",
       "      <td>0.0</td>\n",
       "      <td>NaN</td>\n",
       "      <td>0</td>\n",
       "      <td>0</td>\n",
       "      <td>0</td>\n",
       "      <td>0</td>\n",
       "      <td>1</td>\n",
       "      <td>0</td>\n",
       "      <td>1</td>\n",
       "    </tr>\n",
       "    <tr>\n",
       "      <th>1</th>\n",
       "      <td>4583.0</td>\n",
       "      <td>NaN</td>\n",
       "      <td>128.0</td>\n",
       "      <td>0</td>\n",
       "      <td>1</td>\n",
       "      <td>0</td>\n",
       "      <td>1</td>\n",
       "      <td>0</td>\n",
       "      <td>1</td>\n",
       "      <td>0</td>\n",
       "    </tr>\n",
       "    <tr>\n",
       "      <th>2</th>\n",
       "      <td>3000.0</td>\n",
       "      <td>0.0</td>\n",
       "      <td>66.0</td>\n",
       "      <td>0</td>\n",
       "      <td>1</td>\n",
       "      <td>0</td>\n",
       "      <td>0</td>\n",
       "      <td>0</td>\n",
       "      <td>0</td>\n",
       "      <td>1</td>\n",
       "    </tr>\n",
       "    <tr>\n",
       "      <th>3</th>\n",
       "      <td>2583.0</td>\n",
       "      <td>2358.0</td>\n",
       "      <td>120.0</td>\n",
       "      <td>1</td>\n",
       "      <td>0</td>\n",
       "      <td>0</td>\n",
       "      <td>1</td>\n",
       "      <td>0</td>\n",
       "      <td>0</td>\n",
       "      <td>0</td>\n",
       "    </tr>\n",
       "    <tr>\n",
       "      <th>4</th>\n",
       "      <td>NaN</td>\n",
       "      <td>0.0</td>\n",
       "      <td>141.0</td>\n",
       "      <td>0</td>\n",
       "      <td>1</td>\n",
       "      <td>0</td>\n",
       "      <td>0</td>\n",
       "      <td>1</td>\n",
       "      <td>0</td>\n",
       "      <td>1</td>\n",
       "    </tr>\n",
       "  </tbody>\n",
       "</table>\n",
       "</div>"
      ],
      "text/plain": [
       "   ApplicantIncome  CoapplicantIncome  LoanAmount  Gender_Female  Gender_Male  \\\n",
       "0           5849.0                0.0         NaN              0            0   \n",
       "1           4583.0                NaN       128.0              0            1   \n",
       "2           3000.0                0.0        66.0              0            1   \n",
       "3           2583.0             2358.0       120.0              1            0   \n",
       "4              NaN                0.0       141.0              0            1   \n",
       "\n",
       "   Area_rural  Area_semi  Area_urban  Loan_Status_N  Loan_Status_Y  \n",
       "0           0          0           1              0              1  \n",
       "1           0          1           0              1              0  \n",
       "2           0          0           0              0              1  \n",
       "3           0          1           0              0              0  \n",
       "4           0          0           1              0              1  "
      ]
     },
     "execution_count": 12,
     "metadata": {},
     "output_type": "execute_result"
    }
   ],
   "source": [
    "df2.head()"
   ]
  },
  {
   "cell_type": "markdown",
   "id": "1fce5e3e",
   "metadata": {},
   "source": [
    "### Data Normalization\n",
    "\n",
    "Normalizing data = adjusting the values measured on different scales to a common scale. <br>\n",
    "\n",
    "We normalize the data because values that are not normalized will have different effects on the model weight. For example, in a linear regression, say we have years of experience and salary (measured in thousands). If not normalized, the salary will have a bigger influence over the model. This is because even a small change in the weight for the salary will have a large effect on the dependent variable. <br>\n",
    "\n",
    "After normalization, values will lie between 0 to 1 or -1 to 1, for Z-score normalization, and 0 to 1 for min-max normalization. <b>Note that for Z-score normalization, outliers will have values above 1 or below -1.</b> <br>\n",
    "\n",
    "<ul>\n",
    "    <li><b> Normalization/Standardization does not change the distribution of the data. It's only purpose is to make the features on the same value scale.</b></li>\n",
    "    <li>To test for data distribution normality, we can use the Shapiro test</li>\n",
    "    <li><b>To change the shape of the data, we can use the logarithmic transformation</b></li>\n",
    "</ul>\n",
    "\n",
    "<b> Z-Score Normalization</b>\n",
    "\n",
    "<ul>\n",
    "    <li>x - mean / stdev</li>\n",
    "    <li>Useful for features that allow a normal distribution.</li>\n",
    "    <li>Retains information about your outliers in the data</li>\n",
    "</ul>\n",
    "\n",
    "<b> Min-Max Normalization </b>\n",
    "\n",
    "<ul>\n",
    "    <li>x - min /(max-min)</li>\n",
    "    <li>Used when the upper and lower boundaries are well known for domain knowledge, for example, 0 to 255 in color range, because we know that we will not get any outliers</li>\n",
    "</ul>"
   ]
  },
  {
   "cell_type": "code",
   "execution_count": 13,
   "id": "c009eaf5",
   "metadata": {},
   "outputs": [
    {
     "data": {
      "text/plain": [
       "Loan_ID               object\n",
       "Gender                object\n",
       "ApplicantIncome      float64\n",
       "CoapplicantIncome    float64\n",
       "LoanAmount           float64\n",
       "Area                  object\n",
       "Loan_Status           object\n",
       "dtype: object"
      ]
     },
     "execution_count": 13,
     "metadata": {},
     "output_type": "execute_result"
    }
   ],
   "source": [
    "df = load_data()\n",
    "\n",
    "df.dtypes"
   ]
  },
  {
   "cell_type": "code",
   "execution_count": 14,
   "id": "bd0c64d0",
   "metadata": {},
   "outputs": [
    {
     "data": {
      "text/plain": [
       "array([[ 6.77506570e-01, -8.52161828e-01,  3.81467405e-16],\n",
       "       [ 1.86095273e-01,  0.00000000e+00, -1.73449547e-01],\n",
       "       [-4.28362928e-01, -8.52161828e-01, -1.00559440e+00],\n",
       "       [-5.90225890e-01, -5.13923313e-02, -2.80823076e-01],\n",
       "       [ 0.00000000e+00, -8.52161828e-01,  1.03243778e-03],\n",
       "       [ 5.09821198e-01,  5.72786776e-01,  1.69216552e+00],\n",
       "       [-6.87266036e-01, -3.37332923e-01,  3.81467405e-16],\n",
       "       [-4.14389147e-01, -1.81118348e-03,  2.29201187e-01],\n",
       "       [-3.78733825e-02, -3.33936954e-01,  3.63418098e-01],\n",
       "       [ 3.39152536e+00,  2.87253700e+00,  2.79274419e+00],\n",
       "       [-3.50730811e-01, -6.14443996e-01, -9.51907631e-01],\n",
       "       [-6.22443218e-01, -2.27303527e-01, -4.28461678e-01],\n",
       "       [ 0.00000000e+00,  1.90061067e+00,  3.81467405e-16],\n",
       "       [-8.73583115e-01,  1.12293376e-01, -3.61353222e-01],\n",
       "       [-1.08862408e+00, -4.83359592e-01, -1.66325726e+00],\n",
       "       [ 3.28550207e-01, -8.52161828e-01, -2.13714620e-01]])"
      ]
     },
     "execution_count": 14,
     "metadata": {},
     "output_type": "execute_result"
    }
   ],
   "source": [
    "df_num = df.iloc[:, 2:5]\n",
    "# Fill missing values with mean\n",
    "cols_num = [\"ApplicantIncome\",\"CoapplicantIncome\",\"LoanAmount\"]\n",
    "df_num[cols_num] = df_num[cols_num].fillna(value=df_num[cols_num].mean())\n",
    "\n",
    "# Z-Score normalization\n",
    "from sklearn.preprocessing import StandardScaler\n",
    "scaler = StandardScaler()\n",
    "scaler.fit_transform(df_num)\n",
    "\n",
    "### For train-test data, we always scale on train and blindly apply to test data\n",
    "sc = StandardScaler()\n",
    "X_train = sc.fit_transform(X_train)\n",
    "X_test = sc.transform (X_test)"
   ]
  },
  {
   "cell_type": "code",
   "execution_count": 15,
   "id": "12a823cc",
   "metadata": {},
   "outputs": [],
   "source": [
    "# Min-max normalization\n",
    "df_num = df.iloc[:, 2:5]\n",
    "# Fill missing values with mean\n",
    "cols_num = [\"ApplicantIncome\",\"CoapplicantIncome\",\"LoanAmount\"]\n",
    "df_num[cols_num] = df_num[cols_num].fillna(value=df_num[cols_num].mean())\n",
    "\n",
    "from sklearn.preprocessing import minmax_scale\n",
    "min_max_scaler = minmax_scale(df_num)"
   ]
  },
  {
   "cell_type": "code",
   "execution_count": 16,
   "id": "c107aad6",
   "metadata": {},
   "outputs": [
    {
     "data": {
      "text/plain": [
       "array([[0.39421244, 0.        , 0.37326228],\n",
       "       [0.28452608, 0.22878677, 0.33433735],\n",
       "       [0.14737481, 0.        , 0.14759036],\n",
       "       [0.11124588, 0.21498906, 0.31024096],\n",
       "       [0.24298834, 0.        , 0.37349398],\n",
       "       [0.35678392, 0.38256747, 0.75301205],\n",
       "       [0.08958586, 0.13822028, 0.37326228],\n",
       "       [0.15049385, 0.22830051, 0.4246988 ],\n",
       "       [0.23453474, 0.13913202, 0.45481928],\n",
       "       [1.        , 1.        , 1.        ],\n",
       "       [0.16470282, 0.06382203, 0.15963855],\n",
       "       [0.10405476, 0.16776076, 0.27710843],\n",
       "       [0.24298834, 0.73905908, 0.37326228],\n",
       "       [0.04799861, 0.25893508, 0.29216867],\n",
       "       [0.        , 0.09901532, 0.        ],\n",
       "       [0.31632299, 0.        , 0.3253012 ]])"
      ]
     },
     "execution_count": 16,
     "metadata": {},
     "output_type": "execute_result"
    }
   ],
   "source": [
    "min_max_scaler"
   ]
  },
  {
   "cell_type": "code",
   "execution_count": null,
   "id": "eea92eb2",
   "metadata": {},
   "outputs": [],
   "source": []
  }
 ],
 "metadata": {
  "kernelspec": {
   "display_name": "Python 3 (ipykernel)",
   "language": "python",
   "name": "python3"
  },
  "language_info": {
   "codemirror_mode": {
    "name": "ipython",
    "version": 3
   },
   "file_extension": ".py",
   "mimetype": "text/x-python",
   "name": "python",
   "nbconvert_exporter": "python",
   "pygments_lexer": "ipython3",
   "version": "3.8.8"
  }
 },
 "nbformat": 4,
 "nbformat_minor": 5
}
