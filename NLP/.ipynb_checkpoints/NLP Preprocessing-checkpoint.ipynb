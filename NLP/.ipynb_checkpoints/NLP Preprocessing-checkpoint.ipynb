{
 "cells": [
  {
   "cell_type": "markdown",
   "id": "d83b92ec",
   "metadata": {},
   "source": [
    "<h3>Basic Text Preprocessing</h3>\n",
    "\n",
    "<ol>\n",
    "    <li><b>Stop Word Removal</b> We remove stop words (common words that do not value add to the sentence like \"a\",\"an\" etc. We remove them to reduce vocab size since these words dont have specific meaning</li>\n",
    "    <li><b>Lower Casing</b> Standardizing the cases for the words so that they will not be considered as seperate tokens</li>\n",
    "    <li><b>Stemming</b> Reducing words to their base form. For example, running -> run</li>\n",
    "    <li><b>Tokenization</b> Breaks the words into tokens. For example, \"Natural Language Processing\" -> [\"natural\", \"language\", \"processing\"]</li>\n",
    "</ol>"
   ]
  }
 ],
 "metadata": {
  "kernelspec": {
   "display_name": "Python 3 (ipykernel)",
   "language": "python",
   "name": "python3"
  },
  "language_info": {
   "codemirror_mode": {
    "name": "ipython",
    "version": 3
   },
   "file_extension": ".py",
   "mimetype": "text/x-python",
   "name": "python",
   "nbconvert_exporter": "python",
   "pygments_lexer": "ipython3",
   "version": "3.8.8"
  }
 },
 "nbformat": 4,
 "nbformat_minor": 5
}
