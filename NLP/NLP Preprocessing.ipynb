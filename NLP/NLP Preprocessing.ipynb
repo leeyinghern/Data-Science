{
 "cells": [
  {
   "cell_type": "markdown",
   "id": "97488b24",
   "metadata": {},
   "source": [
    "<h3>Basic Text Preprocessing</h3>\n",
    "\n",
    "<ol>\n",
    "    <li><b>Stop Word Removal</b> We remove stop words (common words that do not value add to the sentence like \"a\",\"an\" etc. We remove them to reduce vocab size since these words dont have specific meaning</li>\n",
    "    <li><b>Lower Casing</b> Standardizing the cases for the words so that they will not be considered as seperate tokens</li>\n",
    "    <li><b>Stemming</b> Reducing words to their base form. For example, running -> run</li>\n",
    "    <li><b>Tokenization</b> Breaks the words into tokens. For example, \"Natural Language Processing\" -> [\"natural\", \"language\", \"processing\"]</li>\n",
    "</ol>"
   ]
  },
  {
   "cell_type": "code",
   "execution_count": 3,
   "id": "dab8ae35",
   "metadata": {},
   "outputs": [],
   "source": [
    "import nltk"
   ]
  },
  {
   "cell_type": "code",
   "execution_count": 12,
   "id": "a133257c",
   "metadata": {},
   "outputs": [],
   "source": [
    "from nltk.corpus import stopwords\n",
    "from nltk.stem import SnowballStemmer \n",
    "from nltk.tokenize import RegexpTokenizer\n",
    "import re"
   ]
  },
  {
   "cell_type": "code",
   "execution_count": 13,
   "id": "1275d8cd",
   "metadata": {},
   "outputs": [
    {
     "name": "stderr",
     "output_type": "stream",
     "text": [
      "[nltk_data] Downloading package stopwords to\n",
      "[nltk_data]     C:\\Users\\YH\\AppData\\Roaming\\nltk_data...\n",
      "[nltk_data]   Package stopwords is already up-to-date!\n"
     ]
    }
   ],
   "source": [
    "nltk.download(\"stopwords\")\n",
    "stopwords = stopwords.words('english')\n",
    "stemmer = SnowballStemmer('english')\n",
    "tokenizer = RegexpTokenizer(r'\\w+')\n",
    "\n",
    "# We remove any hashtags of people with the @\\w regular expression \n",
    "tags = r\"@\\w*\"\n",
    "\n",
    "def preprocess_text(sentence, stem = False):\n",
    "    \n",
    "    sentence = [re.sub(tags, \"\", sentence)] # Remove all the hashtags in sentences\n",
    "    text = []\n",
    "    for word in sentence:\n",
    "        if word not in stopwords:\n",
    "            if stem:\n",
    "                text.append(stemmer.stem(word).lower())\n",
    "            else:\n",
    "                text.append(word.lower())\n",
    "    return tokenizer.tokenize(\" \".join(text))"
   ]
  },
  {
   "cell_type": "code",
   "execution_count": 14,
   "id": "998b241d",
   "metadata": {},
   "outputs": [
    {
     "name": "stdout",
     "output_type": "stream",
     "text": [
      "@VirginAmerica I &lt;3 pretty graphics. so much better than minimal iconography. :D\n",
      "\n",
      "Preprocessed Text : ['i', 'lt', '3', 'pretty', 'graphics', 'so', 'much', 'better', 'than', 'minimal', 'iconography', 'd']\n"
     ]
    }
   ],
   "source": [
    "text = \"@VirginAmerica I &lt;3 pretty graphics. so much better than minimal iconography. :D\"\n",
    "print(f\"{text}\")\n",
    "print()\n",
    "print(f\"Preprocessed Text : {preprocess_text(text)}\")"
   ]
  },
  {
   "cell_type": "code",
   "execution_count": null,
   "id": "2a0e83e6",
   "metadata": {},
   "outputs": [],
   "source": []
  },
  {
   "cell_type": "code",
   "execution_count": null,
   "id": "2c4911a7",
   "metadata": {},
   "outputs": [],
   "source": []
  }
 ],
 "metadata": {
  "kernelspec": {
   "display_name": "Python 3 (ipykernel)",
   "language": "python",
   "name": "python3"
  },
  "language_info": {
   "codemirror_mode": {
    "name": "ipython",
    "version": 3
   },
   "file_extension": ".py",
   "mimetype": "text/x-python",
   "name": "python",
   "nbconvert_exporter": "python",
   "pygments_lexer": "ipython3",
   "version": "3.8.8"
  }
 },
 "nbformat": 4,
 "nbformat_minor": 5
}
